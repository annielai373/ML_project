{
 "cells": [
  {
   "cell_type": "markdown",
   "metadata": {},
   "source": [
    "# Dataset Cleanup Process\n",
    "____"
   ]
  },
  {
   "cell_type": "markdown",
   "metadata": {},
   "source": [
    "#### 1. Import Libraries\n",
    "_____"
   ]
  },
  {
   "cell_type": "code",
   "execution_count": 1,
   "metadata": {},
   "outputs": [],
   "source": [
    "import numpy as np\n",
    "import matplotlib.pyplot as plt\n",
    "import seaborn as sns\n",
    "import pandas as pd\n",
    "\n",
    "from sqlalchemy import create_engine"
   ]
  },
  {
   "cell_type": "markdown",
   "metadata": {},
   "source": [
    "#### 2. Load Dataset\n",
    "_____"
   ]
  },
  {
   "cell_type": "code",
   "execution_count": 2,
   "metadata": {},
   "outputs": [
    {
     "data": {
      "text/html": [
       "<div>\n",
       "<style scoped>\n",
       "    .dataframe tbody tr th:only-of-type {\n",
       "        vertical-align: middle;\n",
       "    }\n",
       "\n",
       "    .dataframe tbody tr th {\n",
       "        vertical-align: top;\n",
       "    }\n",
       "\n",
       "    .dataframe thead th {\n",
       "        text-align: right;\n",
       "    }\n",
       "</style>\n",
       "<table border=\"1\" class=\"dataframe\">\n",
       "  <thead>\n",
       "    <tr style=\"text-align: right;\">\n",
       "      <th></th>\n",
       "      <th>type1</th>\n",
       "      <th>type2</th>\n",
       "      <th>ptype</th>\n",
       "      <th>floor_area</th>\n",
       "      <th>build_year</th>\n",
       "      <th>occupy</th>\n",
       "      <th>star</th>\n",
       "      <th>site_eui</th>\n",
       "      <th>fuel1</th>\n",
       "      <th>fuel2</th>\n",
       "      <th>fuel3</th>\n",
       "      <th>fuel4</th>\n",
       "      <th>diesel</th>\n",
       "      <th>steam</th>\n",
       "      <th>ngas</th>\n",
       "      <th>water_use</th>\n",
       "    </tr>\n",
       "  </thead>\n",
       "  <tbody>\n",
       "    <tr>\n",
       "      <th>0</th>\n",
       "      <td>Office</td>\n",
       "      <td>Office</td>\n",
       "      <td>NaN</td>\n",
       "      <td>293447.0</td>\n",
       "      <td>1963</td>\n",
       "      <td>100</td>\n",
       "      <td>NaN</td>\n",
       "      <td>305.6</td>\n",
       "      <td>NaN</td>\n",
       "      <td>NaN</td>\n",
       "      <td>NaN</td>\n",
       "      <td>NaN</td>\n",
       "      <td>NaN</td>\n",
       "      <td>51550675.1</td>\n",
       "      <td>NaN</td>\n",
       "      <td>NaN</td>\n",
       "    </tr>\n",
       "    <tr>\n",
       "      <th>1</th>\n",
       "      <td>Hospital (General Medical &amp; Surgical)</td>\n",
       "      <td>Hospital (General Medical &amp; Surgical)</td>\n",
       "      <td>NaN</td>\n",
       "      <td>3889181.0</td>\n",
       "      <td>1969</td>\n",
       "      <td>100</td>\n",
       "      <td>55.0</td>\n",
       "      <td>229.8</td>\n",
       "      <td>NaN</td>\n",
       "      <td>19624847.2</td>\n",
       "      <td>NaN</td>\n",
       "      <td>NaN</td>\n",
       "      <td>NaN</td>\n",
       "      <td>-391414802.6</td>\n",
       "      <td>933073441.0</td>\n",
       "      <td>NaN</td>\n",
       "    </tr>\n",
       "    <tr>\n",
       "      <th>2</th>\n",
       "      <td>Hospital (General Medical &amp; Surgical)</td>\n",
       "      <td>Hospital (General Medical &amp; Surgical)</td>\n",
       "      <td>NaN</td>\n",
       "      <td>231342.0</td>\n",
       "      <td>1924</td>\n",
       "      <td>100</td>\n",
       "      <td>NaN</td>\n",
       "      <td>NaN</td>\n",
       "      <td>NaN</td>\n",
       "      <td>NaN</td>\n",
       "      <td>NaN</td>\n",
       "      <td>NaN</td>\n",
       "      <td>NaN</td>\n",
       "      <td>NaN</td>\n",
       "      <td>NaN</td>\n",
       "      <td>NaN</td>\n",
       "    </tr>\n",
       "    <tr>\n",
       "      <th>3</th>\n",
       "      <td>Hospital (General Medical &amp; Surgical)</td>\n",
       "      <td>Hospital (General Medical &amp; Surgical)</td>\n",
       "      <td>NaN</td>\n",
       "      <td>1305748.0</td>\n",
       "      <td>1971</td>\n",
       "      <td>100</td>\n",
       "      <td>NaN</td>\n",
       "      <td>NaN</td>\n",
       "      <td>NaN</td>\n",
       "      <td>NaN</td>\n",
       "      <td>NaN</td>\n",
       "      <td>NaN</td>\n",
       "      <td>NaN</td>\n",
       "      <td>NaN</td>\n",
       "      <td>NaN</td>\n",
       "      <td>NaN</td>\n",
       "    </tr>\n",
       "    <tr>\n",
       "      <th>4</th>\n",
       "      <td>Hospital (General Medical &amp; Surgical)</td>\n",
       "      <td>Hospital (General Medical &amp; Surgical)</td>\n",
       "      <td>NaN</td>\n",
       "      <td>179694.0</td>\n",
       "      <td>1932</td>\n",
       "      <td>100</td>\n",
       "      <td>NaN</td>\n",
       "      <td>NaN</td>\n",
       "      <td>NaN</td>\n",
       "      <td>NaN</td>\n",
       "      <td>NaN</td>\n",
       "      <td>NaN</td>\n",
       "      <td>NaN</td>\n",
       "      <td>NaN</td>\n",
       "      <td>NaN</td>\n",
       "      <td>NaN</td>\n",
       "    </tr>\n",
       "  </tbody>\n",
       "</table>\n",
       "</div>"
      ],
      "text/plain": [
       "                                   type1  \\\n",
       "0                                 Office   \n",
       "1  Hospital (General Medical & Surgical)   \n",
       "2  Hospital (General Medical & Surgical)   \n",
       "3  Hospital (General Medical & Surgical)   \n",
       "4  Hospital (General Medical & Surgical)   \n",
       "\n",
       "                                   type2 ptype  floor_area  build_year  \\\n",
       "0                                 Office   NaN    293447.0        1963   \n",
       "1  Hospital (General Medical & Surgical)   NaN   3889181.0        1969   \n",
       "2  Hospital (General Medical & Surgical)   NaN    231342.0        1924   \n",
       "3  Hospital (General Medical & Surgical)   NaN   1305748.0        1971   \n",
       "4  Hospital (General Medical & Surgical)   NaN    179694.0        1932   \n",
       "\n",
       "   occupy  star  site_eui  fuel1       fuel2  fuel3  fuel4  diesel  \\\n",
       "0     100   NaN     305.6    NaN         NaN    NaN    NaN     NaN   \n",
       "1     100  55.0     229.8    NaN  19624847.2    NaN    NaN     NaN   \n",
       "2     100   NaN       NaN    NaN         NaN    NaN    NaN     NaN   \n",
       "3     100   NaN       NaN    NaN         NaN    NaN    NaN     NaN   \n",
       "4     100   NaN       NaN    NaN         NaN    NaN    NaN     NaN   \n",
       "\n",
       "         steam         ngas  water_use  \n",
       "0   51550675.1          NaN        NaN  \n",
       "1 -391414802.6  933073441.0        NaN  \n",
       "2          NaN          NaN        NaN  \n",
       "3          NaN          NaN        NaN  \n",
       "4          NaN          NaN        NaN  "
      ]
     },
     "execution_count": 2,
     "metadata": {},
     "output_type": "execute_result"
    }
   ],
   "source": [
    "df = pd.read_excel('../../data/commercial_data (Alex).xlsx',sheet_name='building')\n",
    "\n",
    "df.head(5)"
   ]
  },
  {
   "cell_type": "markdown",
   "metadata": {},
   "source": [
    "#### 3. Check for missing data\n",
    "____"
   ]
  },
  {
   "cell_type": "code",
   "execution_count": 3,
   "metadata": {},
   "outputs": [
    {
     "name": "stdout",
     "output_type": "stream",
     "text": [
      "<class 'pandas.core.frame.DataFrame'>\n",
      "RangeIndex: 11746 entries, 0 to 11745\n",
      "Data columns (total 16 columns):\n",
      "type1         11746 non-null object\n",
      "type2         11744 non-null object\n",
      "ptype         1 non-null object\n",
      "floor_area    11744 non-null float64\n",
      "build_year    11746 non-null int64\n",
      "occupy        11746 non-null int64\n",
      "star          9642 non-null float64\n",
      "site_eui      11583 non-null float64\n",
      "fuel1         9 non-null float64\n",
      "fuel2         2581 non-null float64\n",
      "fuel3         1321 non-null float64\n",
      "fuel4         594 non-null float64\n",
      "diesel        16 non-null float64\n",
      "steam         936 non-null float64\n",
      "ngas          10304 non-null float64\n",
      "water_use     7762 non-null float64\n",
      "dtypes: float64(11), int64(2), object(3)\n",
      "memory usage: 1.4+ MB\n"
     ]
    }
   ],
   "source": [
    "df.info(null_counts=True)"
   ]
  },
  {
   "cell_type": "code",
   "execution_count": 4,
   "metadata": {},
   "outputs": [
    {
     "data": {
      "text/html": [
       "<div>\n",
       "<style scoped>\n",
       "    .dataframe tbody tr th:only-of-type {\n",
       "        vertical-align: middle;\n",
       "    }\n",
       "\n",
       "    .dataframe tbody tr th {\n",
       "        vertical-align: top;\n",
       "    }\n",
       "\n",
       "    .dataframe thead th {\n",
       "        text-align: right;\n",
       "    }\n",
       "</style>\n",
       "<table border=\"1\" class=\"dataframe\">\n",
       "  <thead>\n",
       "    <tr style=\"text-align: right;\">\n",
       "      <th></th>\n",
       "      <th>column_name</th>\n",
       "      <th>total_null</th>\n",
       "      <th>total_non_null</th>\n",
       "      <th>perc_null</th>\n",
       "      <th>perc_not_null</th>\n",
       "    </tr>\n",
       "  </thead>\n",
       "  <tbody>\n",
       "    <tr>\n",
       "      <th>0</th>\n",
       "      <td>type1</td>\n",
       "      <td>0</td>\n",
       "      <td>11746</td>\n",
       "      <td>0.000000</td>\n",
       "      <td>1.000000</td>\n",
       "    </tr>\n",
       "    <tr>\n",
       "      <th>1</th>\n",
       "      <td>type2</td>\n",
       "      <td>2</td>\n",
       "      <td>11744</td>\n",
       "      <td>0.000170</td>\n",
       "      <td>0.999830</td>\n",
       "    </tr>\n",
       "    <tr>\n",
       "      <th>2</th>\n",
       "      <td>ptype</td>\n",
       "      <td>11745</td>\n",
       "      <td>1</td>\n",
       "      <td>0.999915</td>\n",
       "      <td>0.000085</td>\n",
       "    </tr>\n",
       "    <tr>\n",
       "      <th>3</th>\n",
       "      <td>floor_area</td>\n",
       "      <td>2</td>\n",
       "      <td>11744</td>\n",
       "      <td>0.000170</td>\n",
       "      <td>0.999830</td>\n",
       "    </tr>\n",
       "    <tr>\n",
       "      <th>4</th>\n",
       "      <td>build_year</td>\n",
       "      <td>0</td>\n",
       "      <td>11746</td>\n",
       "      <td>0.000000</td>\n",
       "      <td>1.000000</td>\n",
       "    </tr>\n",
       "    <tr>\n",
       "      <th>5</th>\n",
       "      <td>occupy</td>\n",
       "      <td>0</td>\n",
       "      <td>11746</td>\n",
       "      <td>0.000000</td>\n",
       "      <td>1.000000</td>\n",
       "    </tr>\n",
       "    <tr>\n",
       "      <th>6</th>\n",
       "      <td>star</td>\n",
       "      <td>2104</td>\n",
       "      <td>9642</td>\n",
       "      <td>0.179125</td>\n",
       "      <td>0.820875</td>\n",
       "    </tr>\n",
       "    <tr>\n",
       "      <th>7</th>\n",
       "      <td>site_eui</td>\n",
       "      <td>163</td>\n",
       "      <td>11583</td>\n",
       "      <td>0.013877</td>\n",
       "      <td>0.986123</td>\n",
       "    </tr>\n",
       "    <tr>\n",
       "      <th>8</th>\n",
       "      <td>fuel1</td>\n",
       "      <td>11737</td>\n",
       "      <td>9</td>\n",
       "      <td>0.999234</td>\n",
       "      <td>0.000766</td>\n",
       "    </tr>\n",
       "    <tr>\n",
       "      <th>9</th>\n",
       "      <td>fuel2</td>\n",
       "      <td>9165</td>\n",
       "      <td>2581</td>\n",
       "      <td>0.780266</td>\n",
       "      <td>0.219734</td>\n",
       "    </tr>\n",
       "    <tr>\n",
       "      <th>10</th>\n",
       "      <td>fuel3</td>\n",
       "      <td>10425</td>\n",
       "      <td>1321</td>\n",
       "      <td>0.887536</td>\n",
       "      <td>0.112464</td>\n",
       "    </tr>\n",
       "    <tr>\n",
       "      <th>11</th>\n",
       "      <td>fuel4</td>\n",
       "      <td>11152</td>\n",
       "      <td>594</td>\n",
       "      <td>0.949430</td>\n",
       "      <td>0.050570</td>\n",
       "    </tr>\n",
       "    <tr>\n",
       "      <th>12</th>\n",
       "      <td>diesel</td>\n",
       "      <td>11730</td>\n",
       "      <td>16</td>\n",
       "      <td>0.998638</td>\n",
       "      <td>0.001362</td>\n",
       "    </tr>\n",
       "    <tr>\n",
       "      <th>13</th>\n",
       "      <td>steam</td>\n",
       "      <td>10810</td>\n",
       "      <td>936</td>\n",
       "      <td>0.920313</td>\n",
       "      <td>0.079687</td>\n",
       "    </tr>\n",
       "    <tr>\n",
       "      <th>14</th>\n",
       "      <td>ngas</td>\n",
       "      <td>1442</td>\n",
       "      <td>10304</td>\n",
       "      <td>0.122765</td>\n",
       "      <td>0.877235</td>\n",
       "    </tr>\n",
       "    <tr>\n",
       "      <th>15</th>\n",
       "      <td>water_use</td>\n",
       "      <td>3984</td>\n",
       "      <td>7762</td>\n",
       "      <td>0.339179</td>\n",
       "      <td>0.660821</td>\n",
       "    </tr>\n",
       "  </tbody>\n",
       "</table>\n",
       "</div>"
      ],
      "text/plain": [
       "   column_name  total_null  total_non_null  perc_null  perc_not_null\n",
       "0        type1           0           11746   0.000000       1.000000\n",
       "1        type2           2           11744   0.000170       0.999830\n",
       "2        ptype       11745               1   0.999915       0.000085\n",
       "3   floor_area           2           11744   0.000170       0.999830\n",
       "4   build_year           0           11746   0.000000       1.000000\n",
       "5       occupy           0           11746   0.000000       1.000000\n",
       "6         star        2104            9642   0.179125       0.820875\n",
       "7     site_eui         163           11583   0.013877       0.986123\n",
       "8        fuel1       11737               9   0.999234       0.000766\n",
       "9        fuel2        9165            2581   0.780266       0.219734\n",
       "10       fuel3       10425            1321   0.887536       0.112464\n",
       "11       fuel4       11152             594   0.949430       0.050570\n",
       "12      diesel       11730              16   0.998638       0.001362\n",
       "13       steam       10810             936   0.920313       0.079687\n",
       "14        ngas        1442           10304   0.122765       0.877235\n",
       "15   water_use        3984            7762   0.339179       0.660821"
      ]
     },
     "execution_count": 4,
     "metadata": {},
     "output_type": "execute_result"
    }
   ],
   "source": [
    "result = []\n",
    "\n",
    "for col in df.columns:\n",
    "    result.append({\n",
    "        'column_name'    : col,\n",
    "        'total_null'     : df[col].isna().sum(),\n",
    "        'total_non_null' : df[col].count(),\n",
    "        'perc_null'      : (df[col].isna().sum() / df.shape[0]),\n",
    "        'perc_not_null'  : (df[col].count() / df.shape[0])\n",
    "    })\n",
    "    \n",
    "pd.DataFrame(data=result, columns=['column_name', 'total_null', 'total_non_null', 'perc_null', 'perc_not_null'])"
   ]
  },
  {
   "cell_type": "markdown",
   "metadata": {},
   "source": [
    "#### 4. Plot Null Mapping\n",
    "___"
   ]
  },
  {
   "cell_type": "code",
   "execution_count": 5,
   "metadata": {},
   "outputs": [
    {
     "data": {
      "image/png": "[encoded data removed]",
      "text/plain": [
       "<Figure size 1152x432 with 1 Axes>"
      ]
     },
     "metadata": {
      "needs_background": "light"
     },
     "output_type": "display_data"
    }
   ],
   "source": [
    "plt.figure(figsize=(16,6))\n",
    "\n",
    "sns.heatmap(df.isnull(), yticklabels=False, cbar=False, cmap='viridis')\n",
    "plt.show()"
   ]
  },
  {
   "cell_type": "markdown",
   "metadata": {},
   "source": [
    "#### 5. Fix type1 / type2 columns => replacing by ptype column\n",
    "___"
   ]
  },
  {
   "cell_type": "code",
   "execution_count": 6,
   "metadata": {},
   "outputs": [],
   "source": [
    "def get_type(row):    \n",
    "    columns = ['type1', 'type2']\n",
    "    category = 'other'\n",
    "\n",
    "    try:\n",
    "        for col in columns:\n",
    "            if not category in row[col].lower():\n",
    "                return row[col]\n",
    "    except:\n",
    "        return 'Other'\n",
    "    \n",
    "    return 'Other'\n",
    "\n",
    "df['ptype'] = df.apply(get_type, axis=1)\n",
    "\n",
    "df.drop(['type1', 'type2'],axis='columns', inplace=True)"
   ]
  },
  {
   "cell_type": "markdown",
   "metadata": {},
   "source": [
    "#### 6. Fix NaN  values for star, site_eui and floor_area columns using average strategy\n",
    "___"
   ]
  },
  {
   "cell_type": "code",
   "execution_count": 16,
   "metadata": {},
   "outputs": [],
   "source": [
    "#df['star'].fillna(df['star'].mean(), inplace=True)\n",
    "\n",
    "#df.dropna(subset=df['site_eui'], axis='columns', inplace=True)\n",
    "#df['site_eui'].fillna(df['site_eui'].mean(), inplace=True)\n",
    "\n",
    "#df['floor_area'].fillna(df['floor_area'].mean(), inplace=True)\n",
    "#df['floor_area'].dropna(axis='columns', inplace=True)#\n"
   ]
  },
  {
   "cell_type": "markdown",
   "metadata": {},
   "source": [
    "#### 7. Fix fuel1-fuel4 columns => total_fuel\n",
    "##### **This approach must be revised by Hi Shin**\n",
    "+ Combine fuel1, fuel2, fuel3 and fuel4 into a single field (total_fuel)\n",
    "+ Average the NaN values remainders\n",
    "+ Need to find a way to evaluate if averaging is a better approach rather than droping the columns\n",
    "___"
   ]
  },
  {
   "cell_type": "code",
   "execution_count": 7,
   "metadata": {},
   "outputs": [
    {
     "name": "stdout",
     "output_type": "stream",
     "text": [
      "<class 'pandas.core.frame.DataFrame'>\n",
      "RangeIndex: 11746 entries, 0 to 11745\n",
      "Data columns (total 10 columns):\n",
      "ptype         11746 non-null object\n",
      "floor_area    11744 non-null float64\n",
      "build_year    11746 non-null int64\n",
      "occupy        11746 non-null int64\n",
      "star          9642 non-null float64\n",
      "site_eui      11583 non-null float64\n",
      "diesel        16 non-null float64\n",
      "steam         936 non-null float64\n",
      "ngas          10304 non-null float64\n",
      "water_use     7762 non-null float64\n",
      "dtypes: float64(7), int64(2), object(1)\n",
      "memory usage: 917.7+ KB\n"
     ]
    }
   ],
   "source": [
    "#def get_fuel(row):\n",
    "#    columns = ['fuel1', 'fuel2', 'fuel3', 'fuel4']\n",
    "#    \n",
    "#    #try:\n",
    "#    for col in columns:\n",
    "#        if not pd.isna(row[col]):\n",
    "#            return row[col]\n",
    "#    return np.nan\n",
    "\n",
    "#df['total_fuel'] = df.apply(get_fuel, axis=1)\n",
    "df.drop(['fuel1', 'fuel2', 'fuel3', 'fuel4'],axis='columns', inplace=True)\n",
    "df.info()"
   ]
  },
  {
   "cell_type": "code",
   "execution_count": 206,
   "metadata": {},
   "outputs": [],
   "source": [
    "# 4143 / 11746 = 0.3527158181508599\n",
    "\n",
    "#df['total_fuel'].fillna(df['total_fuel'].mean(), inplace=True)"
   ]
  },
  {
   "cell_type": "markdown",
   "metadata": {},
   "source": [
    "#### 8. Droping columns diesel and steam (NaN values > 70%)\n",
    "___"
   ]
  },
  {
   "cell_type": "code",
   "execution_count": 8,
   "metadata": {},
   "outputs": [],
   "source": [
    "df.drop(['diesel', 'steam'],axis='columns', inplace=True)"
   ]
  },
  {
   "cell_type": "markdown",
   "metadata": {},
   "source": [
    "#### 9. Fix NaN values for ngas and water_use columns using average strategy\n",
    "##### **This approach must be revised by Hi Shin**\n",
    "___"
   ]
  },
  {
   "cell_type": "code",
   "execution_count": 9,
   "metadata": {},
   "outputs": [],
   "source": [
    "columns = ['ngas', 'water_use']\n",
    "\n",
    "for index, row in df[columns].iterrows():\n",
    "    if not pd.isna(row['ngas']) and not pd.isna(row['water_use']):\n",
    "        pass\n",
    "    else:\n",
    "        row['ngas'] = np.nan\n",
    "        row['water_use'] = np.nan\n"
   ]
  },
  {
   "cell_type": "markdown",
   "metadata": {},
   "source": [
    "#### 10. Drop NaN\n",
    "___"
   ]
  },
  {
   "cell_type": "code",
   "execution_count": 10,
   "metadata": {},
   "outputs": [],
   "source": [
    "df.dropna(axis='columns', how='all', inplace=True)\n",
    "df.dropna(inplace=True)"
   ]
  },
  {
   "cell_type": "markdown",
   "metadata": {},
   "source": [
    "#### 11. Plot Null Mapping Again\n",
    "___"
   ]
  },
  {
   "cell_type": "code",
   "execution_count": 11,
   "metadata": {},
   "outputs": [
    {
     "data": {
      "image/png": "[encoded data removed]",
      "text/plain": [
       "<Figure size 1152x432 with 1 Axes>"
      ]
     },
     "metadata": {
      "needs_background": "light"
     },
     "output_type": "display_data"
    }
   ],
   "source": [
    "plt.figure(figsize=(16,6))\n",
    "\n",
    "sns.heatmap(df.isnull(), yticklabels=False, cbar=False, cmap='viridis')\n",
    "plt.show()"
   ]
  },
  {
   "cell_type": "code",
   "execution_count": 12,
   "metadata": {},
   "outputs": [
    {
     "data": {
      "text/html": [
       "<div>\n",
       "<style scoped>\n",
       "    .dataframe tbody tr th:only-of-type {\n",
       "        vertical-align: middle;\n",
       "    }\n",
       "\n",
       "    .dataframe tbody tr th {\n",
       "        vertical-align: top;\n",
       "    }\n",
       "\n",
       "    .dataframe thead th {\n",
       "        text-align: right;\n",
       "    }\n",
       "</style>\n",
       "<table border=\"1\" class=\"dataframe\">\n",
       "  <thead>\n",
       "    <tr style=\"text-align: right;\">\n",
       "      <th></th>\n",
       "      <th>column_name</th>\n",
       "      <th>total_null</th>\n",
       "      <th>total_non_null</th>\n",
       "      <th>perc_null</th>\n",
       "      <th>perc_not_null</th>\n",
       "    </tr>\n",
       "  </thead>\n",
       "  <tbody>\n",
       "    <tr>\n",
       "      <th>0</th>\n",
       "      <td>ptype</td>\n",
       "      <td>0</td>\n",
       "      <td>5900</td>\n",
       "      <td>0.0</td>\n",
       "      <td>1.0</td>\n",
       "    </tr>\n",
       "    <tr>\n",
       "      <th>1</th>\n",
       "      <td>floor_area</td>\n",
       "      <td>0</td>\n",
       "      <td>5900</td>\n",
       "      <td>0.0</td>\n",
       "      <td>1.0</td>\n",
       "    </tr>\n",
       "    <tr>\n",
       "      <th>2</th>\n",
       "      <td>build_year</td>\n",
       "      <td>0</td>\n",
       "      <td>5900</td>\n",
       "      <td>0.0</td>\n",
       "      <td>1.0</td>\n",
       "    </tr>\n",
       "    <tr>\n",
       "      <th>3</th>\n",
       "      <td>occupy</td>\n",
       "      <td>0</td>\n",
       "      <td>5900</td>\n",
       "      <td>0.0</td>\n",
       "      <td>1.0</td>\n",
       "    </tr>\n",
       "    <tr>\n",
       "      <th>4</th>\n",
       "      <td>star</td>\n",
       "      <td>0</td>\n",
       "      <td>5900</td>\n",
       "      <td>0.0</td>\n",
       "      <td>1.0</td>\n",
       "    </tr>\n",
       "    <tr>\n",
       "      <th>5</th>\n",
       "      <td>site_eui</td>\n",
       "      <td>0</td>\n",
       "      <td>5900</td>\n",
       "      <td>0.0</td>\n",
       "      <td>1.0</td>\n",
       "    </tr>\n",
       "    <tr>\n",
       "      <th>6</th>\n",
       "      <td>ngas</td>\n",
       "      <td>0</td>\n",
       "      <td>5900</td>\n",
       "      <td>0.0</td>\n",
       "      <td>1.0</td>\n",
       "    </tr>\n",
       "    <tr>\n",
       "      <th>7</th>\n",
       "      <td>water_use</td>\n",
       "      <td>0</td>\n",
       "      <td>5900</td>\n",
       "      <td>0.0</td>\n",
       "      <td>1.0</td>\n",
       "    </tr>\n",
       "  </tbody>\n",
       "</table>\n",
       "</div>"
      ],
      "text/plain": [
       "  column_name  total_null  total_non_null  perc_null  perc_not_null\n",
       "0       ptype           0            5900        0.0            1.0\n",
       "1  floor_area           0            5900        0.0            1.0\n",
       "2  build_year           0            5900        0.0            1.0\n",
       "3      occupy           0            5900        0.0            1.0\n",
       "4        star           0            5900        0.0            1.0\n",
       "5    site_eui           0            5900        0.0            1.0\n",
       "6        ngas           0            5900        0.0            1.0\n",
       "7   water_use           0            5900        0.0            1.0"
      ]
     },
     "execution_count": 12,
     "metadata": {},
     "output_type": "execute_result"
    }
   ],
   "source": [
    "result = []\n",
    "\n",
    "for col in df.columns:\n",
    "    result.append({\n",
    "        'column_name'    : col,\n",
    "        'total_null'     : df[col].isna().sum(),\n",
    "        'total_non_null' : df[col].count(),\n",
    "        'perc_null'      : (df[col].isna().sum() / df.shape[0]),\n",
    "        'perc_not_null'  : (df[col].count() / df.shape[0])\n",
    "    })\n",
    "    \n",
    "pd.DataFrame(data=result, columns=['column_name', 'total_null', 'total_non_null', 'perc_null', 'perc_not_null'])"
   ]
  },
  {
   "cell_type": "markdown",
   "metadata": {},
   "source": [
    "#### 12. Frequency count of the different type of buildings for ptype\n",
    "___"
   ]
  },
  {
   "cell_type": "code",
   "execution_count": 13,
   "metadata": {},
   "outputs": [
    {
     "data": {
      "text/plain": [
       "Multifamily Housing                      4776\n",
       "Office                                    550\n",
       "Hotel                                     147\n",
       "Non-Refrigerated Warehouse                 86\n",
       "Senior Care Community                      71\n",
       "Residence Hall/Dormitory                   55\n",
       "Distribution Center                        47\n",
       "Retail Store                               41\n",
       "K-12 School                                31\n",
       "Hospital (General Medical & Surgical)      21\n",
       "College/University                         16\n",
       "Medical Office                             15\n",
       "Supermarket/Grocery Store                  12\n",
       "Mixed Use Property                          8\n",
       "Wholesale Club/Supercenter                  6\n",
       "Worship Facility                            5\n",
       "Refrigerated Warehouse                      4\n",
       "Financial Office                            4\n",
       "Courthouse                                  2\n",
       "Self-Storage Facility                       2\n",
       "Manufacturing/Industrial Plant              1\n",
       "Name: ptype, dtype: int64"
      ]
     },
     "execution_count": 13,
     "metadata": {},
     "output_type": "execute_result"
    }
   ],
   "source": [
    "df['ptype'].value_counts()"
   ]
  },
  {
   "cell_type": "code",
   "execution_count": 14,
   "metadata": {},
   "outputs": [
    {
     "data": {
      "text/plain": [
       "(5900, 8)"
      ]
     },
     "execution_count": 14,
     "metadata": {},
     "output_type": "execute_result"
    }
   ],
   "source": [
    "df.shape"
   ]
  },
  {
   "cell_type": "markdown",
   "metadata": {},
   "source": [
    "#### 13. Export DataFrame to CSV\n",
    "___"
   ]
  },
  {
   "cell_type": "code",
   "execution_count": 15,
   "metadata": {},
   "outputs": [],
   "source": [
    "df.to_csv('../../data/commercial_data_clear.csv',index=False)"
   ]
  },
  {
   "cell_type": "markdown",
   "metadata": {},
   "source": [
    "#### 14. Export DataFrame to SQLite\n",
    "___"
   ]
  },
  {
   "cell_type": "code",
   "execution_count": 16,
   "metadata": {},
   "outputs": [],
   "source": [
    "disk_engine = create_engine('sqlite:///../../data/energy.db')\n",
    "df.to_sql(name='buildings', con=disk_engine, if_exists='replace')"
   ]
  },
  {
   "cell_type": "code",
   "execution_count": null,
   "metadata": {},
   "outputs": [],
   "source": []
  }
 ],
 "metadata": {
  "kernelspec": {
   "display_name": "Python 3",
   "language": "python",
   "name": "python3"
  },
  "language_info": {
   "codemirror_mode": {
    "name": "ipython",
    "version": 3
   },
   "file_extension": ".py",
   "mimetype": "text/x-python",
   "name": "python",
   "nbconvert_exporter": "python",
   "pygments_lexer": "ipython3",
   "version": "3.7.0"
  }
 },
 "nbformat": 4,
 "nbformat_minor": 2
}
