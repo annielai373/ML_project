{
 "cells": [
  {
   "cell_type": "markdown",
   "metadata": {},
   "source": [
    "# Update Annie's data\n",
    "_________"
   ]
  },
  {
   "cell_type": "code",
   "execution_count": 1,
   "metadata": {},
   "outputs": [],
   "source": [
    "import numpy as np\n",
    "import matplotlib.pyplot as plt\n",
    "import seaborn as sns\n",
    "import pandas as pd\n",
    "\n",
    "from sqlalchemy import create_engine"
   ]
  },
  {
   "cell_type": "markdown",
   "metadata": {},
   "source": [
    "#### Continental Primary Energy Consumption\n",
    "______"
   ]
  },
  {
   "cell_type": "code",
   "execution_count": 13,
   "metadata": {},
   "outputs": [
    {
     "data": {
      "text/html": [
       "<div>\n",
       "<style scoped>\n",
       "    .dataframe tbody tr th:only-of-type {\n",
       "        vertical-align: middle;\n",
       "    }\n",
       "\n",
       "    .dataframe tbody tr th {\n",
       "        vertical-align: top;\n",
       "    }\n",
       "\n",
       "    .dataframe thead th {\n",
       "        text-align: right;\n",
       "    }\n",
       "</style>\n",
       "<table border=\"1\" class=\"dataframe\">\n",
       "  <thead>\n",
       "    <tr style=\"text-align: right;\">\n",
       "      <th></th>\n",
       "      <th>Year</th>\n",
       "      <th>Africa</th>\n",
       "      <th>Asia_Oceania</th>\n",
       "      <th>Central_South_America</th>\n",
       "      <th>Eurasia</th>\n",
       "      <th>Europe</th>\n",
       "      <th>Middle_East</th>\n",
       "      <th>North_America</th>\n",
       "      <th>World</th>\n",
       "    </tr>\n",
       "  </thead>\n",
       "  <tbody>\n",
       "    <tr>\n",
       "      <th>0</th>\n",
       "      <td>1980</td>\n",
       "      <td>6.817428</td>\n",
       "      <td>51.490156</td>\n",
       "      <td>11.107592</td>\n",
       "      <td>51.679526</td>\n",
       "      <td>75.060179</td>\n",
       "      <td>5.862700</td>\n",
       "      <td>91.421257</td>\n",
       "      <td>293.438838</td>\n",
       "    </tr>\n",
       "    <tr>\n",
       "      <th>1</th>\n",
       "      <td>1981</td>\n",
       "      <td>7.018484</td>\n",
       "      <td>52.198798</td>\n",
       "      <td>11.069586</td>\n",
       "      <td>52.055516</td>\n",
       "      <td>72.817698</td>\n",
       "      <td>6.169371</td>\n",
       "      <td>89.855369</td>\n",
       "      <td>291.184821</td>\n",
       "    </tr>\n",
       "    <tr>\n",
       "      <th>2</th>\n",
       "      <td>1982</td>\n",
       "      <td>7.620669</td>\n",
       "      <td>53.050275</td>\n",
       "      <td>11.233601</td>\n",
       "      <td>54.180889</td>\n",
       "      <td>72.440712</td>\n",
       "      <td>6.398765</td>\n",
       "      <td>86.707933</td>\n",
       "      <td>291.632844</td>\n",
       "    </tr>\n",
       "    <tr>\n",
       "      <th>3</th>\n",
       "      <td>1983</td>\n",
       "      <td>8.011749</td>\n",
       "      <td>54.787733</td>\n",
       "      <td>11.141228</td>\n",
       "      <td>55.226312</td>\n",
       "      <td>72.722676</td>\n",
       "      <td>7.201808</td>\n",
       "      <td>86.277598</td>\n",
       "      <td>295.369104</td>\n",
       "    </tr>\n",
       "    <tr>\n",
       "      <th>4</th>\n",
       "      <td>1984</td>\n",
       "      <td>8.423170</td>\n",
       "      <td>58.557924</td>\n",
       "      <td>11.823249</td>\n",
       "      <td>58.214456</td>\n",
       "      <td>73.831992</td>\n",
       "      <td>7.809684</td>\n",
       "      <td>90.469655</td>\n",
       "      <td>309.130130</td>\n",
       "    </tr>\n",
       "  </tbody>\n",
       "</table>\n",
       "</div>"
      ],
      "text/plain": [
       "   Year    Africa  Asia_Oceania  Central_South_America    Eurasia     Europe  \\\n",
       "0  1980  6.817428     51.490156              11.107592  51.679526  75.060179   \n",
       "1  1981  7.018484     52.198798              11.069586  52.055516  72.817698   \n",
       "2  1982  7.620669     53.050275              11.233601  54.180889  72.440712   \n",
       "3  1983  8.011749     54.787733              11.141228  55.226312  72.722676   \n",
       "4  1984  8.423170     58.557924              11.823249  58.214456  73.831992   \n",
       "\n",
       "   Middle_East  North_America       World  \n",
       "0     5.862700      91.421257  293.438838  \n",
       "1     6.169371      89.855369  291.184821  \n",
       "2     6.398765      86.707933  291.632844  \n",
       "3     7.201808      86.277598  295.369104  \n",
       "4     7.809684      90.469655  309.130130  "
      ]
     },
     "execution_count": 13,
     "metadata": {},
     "output_type": "execute_result"
    }
   ],
   "source": [
    "df = pd.read_excel('../../Greenhouse/data/flask/continental_primary_energy_consumption.xlsx',sheet_name='Sheet1')\n",
    "\n",
    "df.head(5)"
   ]
  },
  {
   "cell_type": "code",
   "execution_count": 14,
   "metadata": {},
   "outputs": [],
   "source": [
    "df.columns = map(str.lower, df.columns)"
   ]
  },
  {
   "cell_type": "code",
   "execution_count": 15,
   "metadata": {},
   "outputs": [],
   "source": [
    "disk_engine = create_engine('sqlite:///../../dashboard/api/datasets/energy.db')\n",
    "df.to_sql(name='continental_primary_energy_consumption', con=disk_engine, if_exists='replace', index=False)"
   ]
  },
  {
   "cell_type": "markdown",
   "metadata": {},
   "source": [
    "#### Continental Primary Energy Production\n",
    "______"
   ]
  },
  {
   "cell_type": "code",
   "execution_count": 16,
   "metadata": {},
   "outputs": [
    {
     "data": {
      "text/html": [
       "<div>\n",
       "<style scoped>\n",
       "    .dataframe tbody tr th:only-of-type {\n",
       "        vertical-align: middle;\n",
       "    }\n",
       "\n",
       "    .dataframe tbody tr th {\n",
       "        vertical-align: top;\n",
       "    }\n",
       "\n",
       "    .dataframe thead th {\n",
       "        text-align: right;\n",
       "    }\n",
       "</style>\n",
       "<table border=\"1\" class=\"dataframe\">\n",
       "  <thead>\n",
       "    <tr style=\"text-align: right;\">\n",
       "      <th></th>\n",
       "      <th>Year</th>\n",
       "      <th>Africa</th>\n",
       "      <th>Asia_Oceania</th>\n",
       "      <th>Central_South_America</th>\n",
       "      <th>Eurasia</th>\n",
       "      <th>Europe</th>\n",
       "      <th>Middle_East</th>\n",
       "      <th>North_America</th>\n",
       "      <th>World</th>\n",
       "    </tr>\n",
       "  </thead>\n",
       "  <tbody>\n",
       "    <tr>\n",
       "      <th>0</th>\n",
       "      <td>1980</td>\n",
       "      <td>17.390004</td>\n",
       "      <td>36.956865</td>\n",
       "      <td>12.132110</td>\n",
       "      <td>61.601755</td>\n",
       "      <td>41.548277</td>\n",
       "      <td>42.264371</td>\n",
       "      <td>83.039701</td>\n",
       "      <td>294.933082</td>\n",
       "    </tr>\n",
       "    <tr>\n",
       "      <th>1</th>\n",
       "      <td>1981</td>\n",
       "      <td>15.136668</td>\n",
       "      <td>38.018861</td>\n",
       "      <td>12.334656</td>\n",
       "      <td>61.847971</td>\n",
       "      <td>42.502839</td>\n",
       "      <td>36.485103</td>\n",
       "      <td>83.655152</td>\n",
       "      <td>289.981249</td>\n",
       "    </tr>\n",
       "    <tr>\n",
       "      <th>2</th>\n",
       "      <td>1982</td>\n",
       "      <td>15.577230</td>\n",
       "      <td>39.186695</td>\n",
       "      <td>12.214396</td>\n",
       "      <td>63.821935</td>\n",
       "      <td>43.899989</td>\n",
       "      <td>29.694700</td>\n",
       "      <td>84.320265</td>\n",
       "      <td>288.715210</td>\n",
       "    </tr>\n",
       "    <tr>\n",
       "      <th>3</th>\n",
       "      <td>1983</td>\n",
       "      <td>16.259108</td>\n",
       "      <td>42.151480</td>\n",
       "      <td>12.491370</td>\n",
       "      <td>65.259866</td>\n",
       "      <td>45.965981</td>\n",
       "      <td>27.563930</td>\n",
       "      <td>81.984396</td>\n",
       "      <td>291.676131</td>\n",
       "    </tr>\n",
       "    <tr>\n",
       "      <th>4</th>\n",
       "      <td>1984</td>\n",
       "      <td>17.715109</td>\n",
       "      <td>46.098539</td>\n",
       "      <td>13.523924</td>\n",
       "      <td>68.348303</td>\n",
       "      <td>46.636354</td>\n",
       "      <td>27.676021</td>\n",
       "      <td>87.879676</td>\n",
       "      <td>307.877927</td>\n",
       "    </tr>\n",
       "  </tbody>\n",
       "</table>\n",
       "</div>"
      ],
      "text/plain": [
       "   Year     Africa  Asia_Oceania  Central_South_America    Eurasia     Europe  \\\n",
       "0  1980  17.390004     36.956865              12.132110  61.601755  41.548277   \n",
       "1  1981  15.136668     38.018861              12.334656  61.847971  42.502839   \n",
       "2  1982  15.577230     39.186695              12.214396  63.821935  43.899989   \n",
       "3  1983  16.259108     42.151480              12.491370  65.259866  45.965981   \n",
       "4  1984  17.715109     46.098539              13.523924  68.348303  46.636354   \n",
       "\n",
       "   Middle_East  North_America       World  \n",
       "0    42.264371      83.039701  294.933082  \n",
       "1    36.485103      83.655152  289.981249  \n",
       "2    29.694700      84.320265  288.715210  \n",
       "3    27.563930      81.984396  291.676131  \n",
       "4    27.676021      87.879676  307.877927  "
      ]
     },
     "execution_count": 16,
     "metadata": {},
     "output_type": "execute_result"
    }
   ],
   "source": [
    "df = pd.read_excel('../../Greenhouse/data/flask/continental_primary_energy_production.xlsx',sheet_name='Sheet1')\n",
    "\n",
    "df.head(5)"
   ]
  },
  {
   "cell_type": "code",
   "execution_count": 17,
   "metadata": {},
   "outputs": [],
   "source": [
    "df.columns = map(str.lower, df.columns)"
   ]
  },
  {
   "cell_type": "code",
   "execution_count": 18,
   "metadata": {},
   "outputs": [],
   "source": [
    "disk_engine = create_engine('sqlite:///../../dashboard/api/datasets/energy.db')\n",
    "df.to_sql(name='continental_primary_energy_production', con=disk_engine, if_exists='replace', index=False)"
   ]
  },
  {
   "cell_type": "markdown",
   "metadata": {},
   "source": [
    "##### Test Model\n",
    "____"
   ]
  },
  {
   "cell_type": "code",
   "execution_count": 3,
   "metadata": {},
   "outputs": [
    {
     "name": "stdout",
     "output_type": "stream",
     "text": [
      "[20.32898722 20.82338404 21.3244694  21.83224328 22.34670571]\n"
     ]
    }
   ],
   "source": [
    "import pickle\n",
    "\n",
    "model = pickle.load(open('../../dashboard/api/ml/continental_primary_energy_consumption/Africa_model.pkl', 'rb'))\n",
    "\n",
    "print(model.predict(n_periods=5))"
   ]
  },
  {
   "cell_type": "code",
   "execution_count": null,
   "metadata": {},
   "outputs": [],
   "source": []
  }
 ],
 "metadata": {
  "kernelspec": {
   "display_name": "Python 3",
   "language": "python",
   "name": "python3"
  },
  "language_info": {
   "codemirror_mode": {
    "name": "ipython",
    "version": 3
   },
   "file_extension": ".py",
   "mimetype": "text/x-python",
   "name": "python",
   "nbconvert_exporter": "python",
   "pygments_lexer": "ipython3",
   "version": "3.7.0"
  }
 },
 "nbformat": 4,
 "nbformat_minor": 2
}
