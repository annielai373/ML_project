{
 "cells": [
  {
   "cell_type": "markdown",
   "metadata": {},
   "source": [
    "# Support Vector Regression\n",
    "____"
   ]
  },
  {
   "cell_type": "markdown",
   "metadata": {},
   "source": [
    "#### Libraries\n",
    "____"
   ]
  },
  {
   "cell_type": "code",
   "execution_count": 37,
   "metadata": {},
   "outputs": [],
   "source": [
    "import numpy as np\n",
    "import matplotlib.pyplot as plt\n",
    "import pandas as pd\n",
    "import seaborn as sns\n",
    "\n",
    "from sklearn.model_selection import train_test_split \n",
    "from sklearn.svm import SVR\n",
    "from sklearn.preprocessing import StandardScaler\n",
    "\n",
    "from sklearn.preprocessing import LabelEncoder\n",
    "from sklearn.preprocessing import OneHotEncoder\n",
    "from sklearn.model_selection import GridSearchCV\n",
    "\n",
    "import statsmodels.formula.api as sm\n",
    "\n",
    "import pickle\n",
    "\n",
    "import warnings\n",
    "warnings.filterwarnings(\"ignore\")\n",
    "\n",
    "%matplotlib inline"
   ]
  },
  {
   "cell_type": "markdown",
   "metadata": {},
   "source": [
    "#### Load dataset\n",
    "___"
   ]
  },
  {
   "cell_type": "code",
   "execution_count": 38,
   "metadata": {},
   "outputs": [
    {
     "data": {
      "text/html": [
       "<div>\n",
       "<style scoped>\n",
       "    .dataframe tbody tr th:only-of-type {\n",
       "        vertical-align: middle;\n",
       "    }\n",
       "\n",
       "    .dataframe tbody tr th {\n",
       "        vertical-align: top;\n",
       "    }\n",
       "\n",
       "    .dataframe thead th {\n",
       "        text-align: right;\n",
       "    }\n",
       "</style>\n",
       "<table border=\"1\" class=\"dataframe\">\n",
       "  <thead>\n",
       "    <tr style=\"text-align: right;\">\n",
       "      <th></th>\n",
       "      <th>bname</th>\n",
       "      <th>build_year</th>\n",
       "      <th>floor_area</th>\n",
       "      <th>occupy</th>\n",
       "      <th>water_use</th>\n",
       "      <th>ws_ngas</th>\n",
       "      <th>ws_elec</th>\n",
       "      <th>site_eui</th>\n",
       "    </tr>\n",
       "  </thead>\n",
       "  <tbody>\n",
       "    <tr>\n",
       "      <th>0</th>\n",
       "      <td>Multifamily</td>\n",
       "      <td>1903</td>\n",
       "      <td>412503.0</td>\n",
       "      <td>100</td>\n",
       "      <td>22061.0</td>\n",
       "      <td>0.0</td>\n",
       "      <td>3249755.2</td>\n",
       "      <td>32.0</td>\n",
       "    </tr>\n",
       "    <tr>\n",
       "      <th>1</th>\n",
       "      <td>General Medical</td>\n",
       "      <td>1950</td>\n",
       "      <td>567517.0</td>\n",
       "      <td>100</td>\n",
       "      <td>9574.0</td>\n",
       "      <td>2.2</td>\n",
       "      <td>18295844.6</td>\n",
       "      <td>352.7</td>\n",
       "    </tr>\n",
       "    <tr>\n",
       "      <th>2</th>\n",
       "      <td>Multifamily</td>\n",
       "      <td>1939</td>\n",
       "      <td>321464.0</td>\n",
       "      <td>100</td>\n",
       "      <td>5915.6</td>\n",
       "      <td>0.0</td>\n",
       "      <td>1121931.8</td>\n",
       "      <td>76.2</td>\n",
       "    </tr>\n",
       "    <tr>\n",
       "      <th>3</th>\n",
       "      <td>Multifamily</td>\n",
       "      <td>1911</td>\n",
       "      <td>54913.0</td>\n",
       "      <td>100</td>\n",
       "      <td>231.9</td>\n",
       "      <td>0.0</td>\n",
       "      <td>262377.2</td>\n",
       "      <td>17.9</td>\n",
       "    </tr>\n",
       "    <tr>\n",
       "      <th>4</th>\n",
       "      <td>Multifamily</td>\n",
       "      <td>1964</td>\n",
       "      <td>535632.0</td>\n",
       "      <td>100</td>\n",
       "      <td>8984.2</td>\n",
       "      <td>1.2</td>\n",
       "      <td>1620.0</td>\n",
       "      <td>115.9</td>\n",
       "    </tr>\n",
       "  </tbody>\n",
       "</table>\n",
       "</div>"
      ],
      "text/plain": [
       "             bname  build_year  floor_area  occupy  water_use  ws_ngas  \\\n",
       "0      Multifamily        1903    412503.0     100    22061.0      0.0   \n",
       "1  General Medical        1950    567517.0     100     9574.0      2.2   \n",
       "2      Multifamily        1939    321464.0     100     5915.6      0.0   \n",
       "3      Multifamily        1911     54913.0     100      231.9      0.0   \n",
       "4      Multifamily        1964    535632.0     100     8984.2      1.2   \n",
       "\n",
       "      ws_elec  site_eui  \n",
       "0   3249755.2      32.0  \n",
       "1  18295844.6     352.7  \n",
       "2   1121931.8      76.2  \n",
       "3    262377.2      17.9  \n",
       "4      1620.0     115.9  "
      ]
     },
     "execution_count": 38,
     "metadata": {},
     "output_type": "execute_result"
    }
   ],
   "source": [
    "dataset = '../../../data/bpd/build_clean.csv'\n",
    "building = pd.read_csv(dataset)\n",
    "building.head(5)"
   ]
  },
  {
   "cell_type": "code",
   "execution_count": 39,
   "metadata": {},
   "outputs": [
    {
     "name": "stdout",
     "output_type": "stream",
     "text": [
      "<class 'pandas.core.frame.DataFrame'>\n",
      "RangeIndex: 6529 entries, 0 to 6528\n",
      "Data columns (total 8 columns):\n",
      "bname         6529 non-null object\n",
      "build_year    6529 non-null int64\n",
      "floor_area    6529 non-null float64\n",
      "occupy        6529 non-null int64\n",
      "water_use     6529 non-null float64\n",
      "ws_ngas       6529 non-null float64\n",
      "ws_elec       6529 non-null float64\n",
      "site_eui      6529 non-null float64\n",
      "dtypes: float64(5), int64(2), object(1)\n",
      "memory usage: 408.1+ KB\n"
     ]
    }
   ],
   "source": [
    "building.info()"
   ]
  },
  {
   "cell_type": "code",
   "execution_count": 40,
   "metadata": {},
   "outputs": [
    {
     "data": {
      "text/html": [
       "<div>\n",
       "<style scoped>\n",
       "    .dataframe tbody tr th:only-of-type {\n",
       "        vertical-align: middle;\n",
       "    }\n",
       "\n",
       "    .dataframe tbody tr th {\n",
       "        vertical-align: top;\n",
       "    }\n",
       "\n",
       "    .dataframe thead th {\n",
       "        text-align: right;\n",
       "    }\n",
       "</style>\n",
       "<table border=\"1\" class=\"dataframe\">\n",
       "  <thead>\n",
       "    <tr style=\"text-align: right;\">\n",
       "      <th></th>\n",
       "      <th>build_year</th>\n",
       "      <th>floor_area</th>\n",
       "      <th>occupy</th>\n",
       "      <th>water_use</th>\n",
       "      <th>ws_ngas</th>\n",
       "      <th>ws_elec</th>\n",
       "      <th>site_eui</th>\n",
       "    </tr>\n",
       "  </thead>\n",
       "  <tbody>\n",
       "    <tr>\n",
       "      <th>count</th>\n",
       "      <td>6529.000000</td>\n",
       "      <td>6.529000e+03</td>\n",
       "      <td>6529.000000</td>\n",
       "      <td>6.529000e+03</td>\n",
       "      <td>6529.000000</td>\n",
       "      <td>6.529000e+03</td>\n",
       "      <td>6529.000000</td>\n",
       "    </tr>\n",
       "    <tr>\n",
       "      <th>mean</th>\n",
       "      <td>1949.651095</td>\n",
       "      <td>1.368599e+05</td>\n",
       "      <td>99.152244</td>\n",
       "      <td>1.603062e+04</td>\n",
       "      <td>1.977179</td>\n",
       "      <td>1.476976e+06</td>\n",
       "      <td>260.574575</td>\n",
       "    </tr>\n",
       "    <tr>\n",
       "      <th>std</th>\n",
       "      <td>30.901407</td>\n",
       "      <td>1.711460e+05</td>\n",
       "      <td>5.532777</td>\n",
       "      <td>1.571960e+05</td>\n",
       "      <td>116.266859</td>\n",
       "      <td>9.362351e+06</td>\n",
       "      <td>10897.697301</td>\n",
       "    </tr>\n",
       "    <tr>\n",
       "      <th>min</th>\n",
       "      <td>1649.000000</td>\n",
       "      <td>5.000000e+02</td>\n",
       "      <td>0.000000</td>\n",
       "      <td>0.000000e+00</td>\n",
       "      <td>0.000000</td>\n",
       "      <td>0.000000e+00</td>\n",
       "      <td>0.000000</td>\n",
       "    </tr>\n",
       "    <tr>\n",
       "      <th>25%</th>\n",
       "      <td>1927.000000</td>\n",
       "      <td>6.467700e+04</td>\n",
       "      <td>100.000000</td>\n",
       "      <td>2.688400e+03</td>\n",
       "      <td>0.100000</td>\n",
       "      <td>2.873729e+05</td>\n",
       "      <td>64.400000</td>\n",
       "    </tr>\n",
       "    <tr>\n",
       "      <th>50%</th>\n",
       "      <td>1941.000000</td>\n",
       "      <td>8.703600e+04</td>\n",
       "      <td>100.000000</td>\n",
       "      <td>4.786800e+03</td>\n",
       "      <td>0.500000</td>\n",
       "      <td>4.853083e+05</td>\n",
       "      <td>79.200000</td>\n",
       "    </tr>\n",
       "    <tr>\n",
       "      <th>75%</th>\n",
       "      <td>1967.000000</td>\n",
       "      <td>1.387280e+05</td>\n",
       "      <td>100.000000</td>\n",
       "      <td>8.001200e+03</td>\n",
       "      <td>0.700000</td>\n",
       "      <td>1.058213e+06</td>\n",
       "      <td>96.800000</td>\n",
       "    </tr>\n",
       "    <tr>\n",
       "      <th>max</th>\n",
       "      <td>2019.000000</td>\n",
       "      <td>2.376683e+06</td>\n",
       "      <td>100.000000</td>\n",
       "      <td>6.594604e+06</td>\n",
       "      <td>9393.000000</td>\n",
       "      <td>4.520236e+08</td>\n",
       "      <td>869265.000000</td>\n",
       "    </tr>\n",
       "  </tbody>\n",
       "</table>\n",
       "</div>"
      ],
      "text/plain": [
       "        build_year    floor_area       occupy     water_use      ws_ngas  \\\n",
       "count  6529.000000  6.529000e+03  6529.000000  6.529000e+03  6529.000000   \n",
       "mean   1949.651095  1.368599e+05    99.152244  1.603062e+04     1.977179   \n",
       "std      30.901407  1.711460e+05     5.532777  1.571960e+05   116.266859   \n",
       "min    1649.000000  5.000000e+02     0.000000  0.000000e+00     0.000000   \n",
       "25%    1927.000000  6.467700e+04   100.000000  2.688400e+03     0.100000   \n",
       "50%    1941.000000  8.703600e+04   100.000000  4.786800e+03     0.500000   \n",
       "75%    1967.000000  1.387280e+05   100.000000  8.001200e+03     0.700000   \n",
       "max    2019.000000  2.376683e+06   100.000000  6.594604e+06  9393.000000   \n",
       "\n",
       "            ws_elec       site_eui  \n",
       "count  6.529000e+03    6529.000000  \n",
       "mean   1.476976e+06     260.574575  \n",
       "std    9.362351e+06   10897.697301  \n",
       "min    0.000000e+00       0.000000  \n",
       "25%    2.873729e+05      64.400000  \n",
       "50%    4.853083e+05      79.200000  \n",
       "75%    1.058213e+06      96.800000  \n",
       "max    4.520236e+08  869265.000000  "
      ]
     },
     "execution_count": 40,
     "metadata": {},
     "output_type": "execute_result"
    }
   ],
   "source": [
    "building.describe()"
   ]
  },
  {
   "cell_type": "markdown",
   "metadata": {},
   "source": [
    "#### Filtering columns based on LR OLS analysis\n",
    "_____"
   ]
  },
  {
   "cell_type": "code",
   "execution_count": 41,
   "metadata": {},
   "outputs": [
    {
     "data": {
      "text/html": [
       "<div>\n",
       "<style scoped>\n",
       "    .dataframe tbody tr th:only-of-type {\n",
       "        vertical-align: middle;\n",
       "    }\n",
       "\n",
       "    .dataframe tbody tr th {\n",
       "        vertical-align: top;\n",
       "    }\n",
       "\n",
       "    .dataframe thead th {\n",
       "        text-align: right;\n",
       "    }\n",
       "</style>\n",
       "<table border=\"1\" class=\"dataframe\">\n",
       "  <thead>\n",
       "    <tr style=\"text-align: right;\">\n",
       "      <th></th>\n",
       "      <th>floor_area</th>\n",
       "      <th>ws_ngas</th>\n",
       "      <th>ws_elec</th>\n",
       "      <th>site_eui</th>\n",
       "    </tr>\n",
       "  </thead>\n",
       "  <tbody>\n",
       "    <tr>\n",
       "      <th>0</th>\n",
       "      <td>412503.0</td>\n",
       "      <td>0.0</td>\n",
       "      <td>3249755.2</td>\n",
       "      <td>32.0</td>\n",
       "    </tr>\n",
       "    <tr>\n",
       "      <th>1</th>\n",
       "      <td>567517.0</td>\n",
       "      <td>2.2</td>\n",
       "      <td>18295844.6</td>\n",
       "      <td>352.7</td>\n",
       "    </tr>\n",
       "    <tr>\n",
       "      <th>2</th>\n",
       "      <td>321464.0</td>\n",
       "      <td>0.0</td>\n",
       "      <td>1121931.8</td>\n",
       "      <td>76.2</td>\n",
       "    </tr>\n",
       "    <tr>\n",
       "      <th>3</th>\n",
       "      <td>54913.0</td>\n",
       "      <td>0.0</td>\n",
       "      <td>262377.2</td>\n",
       "      <td>17.9</td>\n",
       "    </tr>\n",
       "    <tr>\n",
       "      <th>4</th>\n",
       "      <td>535632.0</td>\n",
       "      <td>1.2</td>\n",
       "      <td>1620.0</td>\n",
       "      <td>115.9</td>\n",
       "    </tr>\n",
       "  </tbody>\n",
       "</table>\n",
       "</div>"
      ],
      "text/plain": [
       "   floor_area  ws_ngas     ws_elec  site_eui\n",
       "0    412503.0      0.0   3249755.2      32.0\n",
       "1    567517.0      2.2  18295844.6     352.7\n",
       "2    321464.0      0.0   1121931.8      76.2\n",
       "3     54913.0      0.0    262377.2      17.9\n",
       "4    535632.0      1.2      1620.0     115.9"
      ]
     },
     "execution_count": 41,
     "metadata": {},
     "output_type": "execute_result"
    }
   ],
   "source": [
    "columns = ['floor_area', 'ws_ngas', 'ws_elec', 'site_eui']\n",
    "\n",
    "building = building[columns]\n",
    "\n",
    "building.head(5)"
   ]
  },
  {
   "cell_type": "markdown",
   "metadata": {},
   "source": [
    "#### Feature Scaling\n",
    "___"
   ]
  },
  {
   "cell_type": "code",
   "execution_count": 42,
   "metadata": {},
   "outputs": [
    {
     "data": {
      "text/html": [
       "<div>\n",
       "<style scoped>\n",
       "    .dataframe tbody tr th:only-of-type {\n",
       "        vertical-align: middle;\n",
       "    }\n",
       "\n",
       "    .dataframe tbody tr th {\n",
       "        vertical-align: top;\n",
       "    }\n",
       "\n",
       "    .dataframe thead th {\n",
       "        text-align: right;\n",
       "    }\n",
       "</style>\n",
       "<table border=\"1\" class=\"dataframe\">\n",
       "  <thead>\n",
       "    <tr style=\"text-align: right;\">\n",
       "      <th></th>\n",
       "      <th>floor_area</th>\n",
       "      <th>ws_ngas</th>\n",
       "      <th>ws_elec</th>\n",
       "    </tr>\n",
       "  </thead>\n",
       "  <tbody>\n",
       "    <tr>\n",
       "      <th>0</th>\n",
       "      <td>1.610696</td>\n",
       "      <td>-0.017007</td>\n",
       "      <td>0.189366</td>\n",
       "    </tr>\n",
       "    <tr>\n",
       "      <th>1</th>\n",
       "      <td>2.516507</td>\n",
       "      <td>0.001917</td>\n",
       "      <td>1.796574</td>\n",
       "    </tr>\n",
       "    <tr>\n",
       "      <th>2</th>\n",
       "      <td>1.078718</td>\n",
       "      <td>-0.017007</td>\n",
       "      <td>-0.037925</td>\n",
       "    </tr>\n",
       "    <tr>\n",
       "      <th>3</th>\n",
       "      <td>-0.478849</td>\n",
       "      <td>-0.017007</td>\n",
       "      <td>-0.129742</td>\n",
       "    </tr>\n",
       "    <tr>\n",
       "      <th>4</th>\n",
       "      <td>2.330190</td>\n",
       "      <td>-0.006685</td>\n",
       "      <td>-0.157596</td>\n",
       "    </tr>\n",
       "  </tbody>\n",
       "</table>\n",
       "</div>"
      ],
      "text/plain": [
       "   floor_area   ws_ngas   ws_elec\n",
       "0    1.610696 -0.017007  0.189366\n",
       "1    2.516507  0.001917  1.796574\n",
       "2    1.078718 -0.017007 -0.037925\n",
       "3   -0.478849 -0.017007 -0.129742\n",
       "4    2.330190 -0.006685 -0.157596"
      ]
     },
     "execution_count": 42,
     "metadata": {},
     "output_type": "execute_result"
    }
   ],
   "source": [
    "scaler = StandardScaler()\n",
    "scaler.fit(building.drop(['site_eui'], axis=1))\n",
    "scaled_features = scaler.transform(building.drop(['site_eui'], axis=1))\n",
    "\n",
    "building_scaled = pd.DataFrame(scaled_features,columns=building.drop(['site_eui'], axis=1).columns)\n",
    "\n",
    "building_scaled.head(5)"
   ]
  },
  {
   "cell_type": "markdown",
   "metadata": {},
   "source": [
    "#### Converting Categorical Features\n",
    "___"
   ]
  },
  {
   "cell_type": "code",
   "execution_count": 43,
   "metadata": {},
   "outputs": [
    {
     "data": {
      "text/html": [
       "<div>\n",
       "<style scoped>\n",
       "    .dataframe tbody tr th:only-of-type {\n",
       "        vertical-align: middle;\n",
       "    }\n",
       "\n",
       "    .dataframe tbody tr th {\n",
       "        vertical-align: top;\n",
       "    }\n",
       "\n",
       "    .dataframe thead th {\n",
       "        text-align: right;\n",
       "    }\n",
       "</style>\n",
       "<table border=\"1\" class=\"dataframe\">\n",
       "  <thead>\n",
       "    <tr style=\"text-align: right;\">\n",
       "      <th></th>\n",
       "      <th>floor_area</th>\n",
       "      <th>ws_ngas</th>\n",
       "      <th>ws_elec</th>\n",
       "      <th>site_eui</th>\n",
       "    </tr>\n",
       "  </thead>\n",
       "  <tbody>\n",
       "    <tr>\n",
       "      <th>0</th>\n",
       "      <td>1.610696</td>\n",
       "      <td>-0.017007</td>\n",
       "      <td>0.189366</td>\n",
       "      <td>32.0</td>\n",
       "    </tr>\n",
       "    <tr>\n",
       "      <th>1</th>\n",
       "      <td>2.516507</td>\n",
       "      <td>0.001917</td>\n",
       "      <td>1.796574</td>\n",
       "      <td>352.7</td>\n",
       "    </tr>\n",
       "    <tr>\n",
       "      <th>2</th>\n",
       "      <td>1.078718</td>\n",
       "      <td>-0.017007</td>\n",
       "      <td>-0.037925</td>\n",
       "      <td>76.2</td>\n",
       "    </tr>\n",
       "    <tr>\n",
       "      <th>3</th>\n",
       "      <td>-0.478849</td>\n",
       "      <td>-0.017007</td>\n",
       "      <td>-0.129742</td>\n",
       "      <td>17.9</td>\n",
       "    </tr>\n",
       "    <tr>\n",
       "      <th>4</th>\n",
       "      <td>2.330190</td>\n",
       "      <td>-0.006685</td>\n",
       "      <td>-0.157596</td>\n",
       "      <td>115.9</td>\n",
       "    </tr>\n",
       "  </tbody>\n",
       "</table>\n",
       "</div>"
      ],
      "text/plain": [
       "   floor_area   ws_ngas   ws_elec  site_eui\n",
       "0    1.610696 -0.017007  0.189366      32.0\n",
       "1    2.516507  0.001917  1.796574     352.7\n",
       "2    1.078718 -0.017007 -0.037925      76.2\n",
       "3   -0.478849 -0.017007 -0.129742      17.9\n",
       "4    2.330190 -0.006685 -0.157596     115.9"
      ]
     },
     "execution_count": 43,
     "metadata": {},
     "output_type": "execute_result"
    }
   ],
   "source": [
    "#bname_categorical = pd.get_dummies(building['bname'])\n",
    "\n",
    "# Avoiding the Dummy Variable Trap\n",
    "#bname_categorical.drop(bname_categorical.columns[0], axis=1, inplace=True)\n",
    "\n",
    "# Merge datasets\n",
    "#building.drop(['bname'], axis=1, inplace=True)\n",
    "#building = pd.concat([bname_categorical, building], axis=1)\n",
    "#building = pd.concat([bname_categorical, building_scaled, building['site_eui']], axis=1)  ## if feature scale is necessary??\n",
    "\n",
    "building = pd.concat([building_scaled, building['site_eui']], axis=1)\n",
    "building.head(5)"
   ]
  },
  {
   "cell_type": "markdown",
   "metadata": {},
   "source": [
    "#### Define X, Y variables\n",
    "___"
   ]
  },
  {
   "cell_type": "code",
   "execution_count": 44,
   "metadata": {},
   "outputs": [
    {
     "name": "stdout",
     "output_type": "stream",
     "text": [
      "(6529, 3) (6529,)\n"
     ]
    }
   ],
   "source": [
    "X = building.drop('site_eui', axis=1)\n",
    "Y = building['site_eui']\n",
    "\n",
    "print (X.shape, Y.shape)"
   ]
  },
  {
   "cell_type": "markdown",
   "metadata": {},
   "source": [
    "#### Split dataset (TRAIN/TEST) data\n",
    "____"
   ]
  },
  {
   "cell_type": "code",
   "execution_count": 45,
   "metadata": {},
   "outputs": [],
   "source": [
    "X_train, X_test, Y_train, Y_test = train_test_split(X, Y, test_size = 0.3, random_state = 101)"
   ]
  },
  {
   "cell_type": "markdown",
   "metadata": {},
   "source": [
    "#### Fitting SVR to the dataset\n",
    "____"
   ]
  },
  {
   "cell_type": "code",
   "execution_count": 47,
   "metadata": {},
   "outputs": [
    {
     "data": {
      "text/plain": [
       "SVR(C=1.0, cache_size=200, coef0=0.0, degree=3, epsilon=0.1, gamma='auto',\n",
       "  kernel='linear', max_iter=-1, shrinking=True, tol=0.001, verbose=False)"
      ]
     },
     "execution_count": 47,
     "metadata": {},
     "output_type": "execute_result"
    }
   ],
   "source": [
    "regressor = SVR(kernel='linear')\n",
    "regressor.fit(X_train, Y_train)"
   ]
  },
  {
   "cell_type": "markdown",
   "metadata": {},
   "source": [
    "#### Fitting Simple Linear Regression to the Training Set\n",
    "_____"
   ]
  },
  {
   "cell_type": "code",
   "execution_count": 48,
   "metadata": {},
   "outputs": [],
   "source": [
    "y_prediction = regressor.predict(X_test)\n",
    "\n",
    "#y_pred = scale_Y.inverse_transform(regressor.predict(scale_X.transform(np.array([[6.5]]))))  # original values without scale\n",
    "#print(y_pred)"
   ]
  },
  {
   "cell_type": "markdown",
   "metadata": {},
   "source": [
    "#### Real x Predict\n",
    "_____"
   ]
  },
  {
   "cell_type": "code",
   "execution_count": 49,
   "metadata": {},
   "outputs": [
    {
     "data": {
      "text/html": [
       "<div>\n",
       "<style scoped>\n",
       "    .dataframe tbody tr th:only-of-type {\n",
       "        vertical-align: middle;\n",
       "    }\n",
       "\n",
       "    .dataframe tbody tr th {\n",
       "        vertical-align: top;\n",
       "    }\n",
       "\n",
       "    .dataframe thead th {\n",
       "        text-align: right;\n",
       "    }\n",
       "</style>\n",
       "<table border=\"1\" class=\"dataframe\">\n",
       "  <thead>\n",
       "    <tr style=\"text-align: right;\">\n",
       "      <th></th>\n",
       "      <th>Real</th>\n",
       "      <th>Predict</th>\n",
       "    </tr>\n",
       "  </thead>\n",
       "  <tbody>\n",
       "    <tr>\n",
       "      <th>1233</th>\n",
       "      <td>66.5</td>\n",
       "      <td>77.096534</td>\n",
       "    </tr>\n",
       "    <tr>\n",
       "      <th>1439</th>\n",
       "      <td>57.7</td>\n",
       "      <td>79.775724</td>\n",
       "    </tr>\n",
       "    <tr>\n",
       "      <th>4067</th>\n",
       "      <td>57.1</td>\n",
       "      <td>80.996613</td>\n",
       "    </tr>\n",
       "    <tr>\n",
       "      <th>5867</th>\n",
       "      <td>44.1</td>\n",
       "      <td>84.489829</td>\n",
       "    </tr>\n",
       "    <tr>\n",
       "      <th>1222</th>\n",
       "      <td>115.9</td>\n",
       "      <td>78.026933</td>\n",
       "    </tr>\n",
       "    <tr>\n",
       "      <th>2678</th>\n",
       "      <td>108.4</td>\n",
       "      <td>80.051496</td>\n",
       "    </tr>\n",
       "    <tr>\n",
       "      <th>4551</th>\n",
       "      <td>54.4</td>\n",
       "      <td>78.488649</td>\n",
       "    </tr>\n",
       "    <tr>\n",
       "      <th>1722</th>\n",
       "      <td>78.0</td>\n",
       "      <td>80.049275</td>\n",
       "    </tr>\n",
       "    <tr>\n",
       "      <th>6101</th>\n",
       "      <td>163.1</td>\n",
       "      <td>80.779785</td>\n",
       "    </tr>\n",
       "    <tr>\n",
       "      <th>4206</th>\n",
       "      <td>84.2</td>\n",
       "      <td>81.630618</td>\n",
       "    </tr>\n",
       "  </tbody>\n",
       "</table>\n",
       "</div>"
      ],
      "text/plain": [
       "       Real    Predict\n",
       "1233   66.5  77.096534\n",
       "1439   57.7  79.775724\n",
       "4067   57.1  80.996613\n",
       "5867   44.1  84.489829\n",
       "1222  115.9  78.026933\n",
       "2678  108.4  80.051496\n",
       "4551   54.4  78.488649\n",
       "1722   78.0  80.049275\n",
       "6101  163.1  80.779785\n",
       "4206   84.2  81.630618"
      ]
     },
     "execution_count": 49,
     "metadata": {},
     "output_type": "execute_result"
    }
   ],
   "source": [
    "pd.DataFrame({\n",
    "    'Real' : Y_test,\n",
    "    'Predict' : y_prediction\n",
    "\n",
    "}).head(10)"
   ]
  },
  {
   "cell_type": "markdown",
   "metadata": {},
   "source": [
    "#### Model Score\n",
    "__________"
   ]
  },
  {
   "cell_type": "code",
   "execution_count": 50,
   "metadata": {},
   "outputs": [
    {
     "name": "stdout",
     "output_type": "stream",
     "text": [
      "Training Data Score: 0.015977529102492505\n",
      "Testing Data Score: 0.16505680349191254\n"
     ]
    }
   ],
   "source": [
    "print(f\"Training Data Score: {regressor.score(X_train, Y_train)}\")\n",
    "print(f\"Testing Data Score: {regressor.score(X_test, Y_test)}\")"
   ]
  },
  {
   "cell_type": "markdown",
   "metadata": {},
   "source": [
    "#### GridSearch\n",
    "__________"
   ]
  },
  {
   "cell_type": "code",
   "execution_count": 51,
   "metadata": {},
   "outputs": [
    {
     "data": {
      "text/plain": [
       "GridSearchCV(cv=10, error_score='raise',\n",
       "       estimator=SVR(C=1.0, cache_size=200, coef0=0.0, degree=3, epsilon=0.1, gamma='auto',\n",
       "  kernel='linear', max_iter=-1, shrinking=True, tol=0.001, verbose=False),\n",
       "       fit_params=None, iid=True, n_jobs=1,\n",
       "       param_grid=[{'C': [0.1, 1, 10, 100, 1000], 'kernel': ['linear']}],\n",
       "       pre_dispatch='2*n_jobs', refit=True, return_train_score='warn',\n",
       "       scoring=None, verbose=0)"
      ]
     },
     "execution_count": 51,
     "metadata": {},
     "output_type": "execute_result"
    }
   ],
   "source": [
    "#param_grid = [{'C': [0.1, 1, 10, 100, 1000], 'kernel' : ['linear']},\n",
    "#              {'C': [0.1, 1, 10, 100, 1000], 'kernel' : ['poly']},\n",
    "#              {'C': [0.1, 1, 10, 100, 1000], 'kernel' : ['sigmoid']},\n",
    "#              {'C': [0.1, 1, 10, 100, 1000], 'kernel' : ['rbf'], 'gamma' : [0.5, 0.1, 0.01, 0.001, 0.0001]}\n",
    "#             ]\n",
    "\n",
    "param_grid = [{'C': [0.1, 1, 10, 100, 1000], 'kernel' : ['linear']}]\n",
    "\n",
    "grid = GridSearchCV(estimator = regressor, \n",
    "                    param_grid = param_grid,                    \n",
    "                    cv = 10,\n",
    "                    refit=True,\n",
    "                    verbose=0)\n",
    "\n",
    "grid.fit(X_train,Y_train)"
   ]
  },
  {
   "cell_type": "markdown",
   "metadata": {},
   "source": [
    "#### Best Results\n",
    "__________"
   ]
  },
  {
   "cell_type": "code",
   "execution_count": 52,
   "metadata": {},
   "outputs": [
    {
     "data": {
      "text/plain": [
       "{'C': 100, 'kernel': 'linear'}"
      ]
     },
     "execution_count": 52,
     "metadata": {},
     "output_type": "execute_result"
    }
   ],
   "source": [
    "grid.best_params_"
   ]
  },
  {
   "cell_type": "code",
   "execution_count": 53,
   "metadata": {},
   "outputs": [
    {
     "data": {
      "text/plain": [
       "0.31172971703657565"
      ]
     },
     "execution_count": 53,
     "metadata": {},
     "output_type": "execute_result"
    }
   ],
   "source": [
    "grid.best_score_"
   ]
  },
  {
   "cell_type": "markdown",
   "metadata": {},
   "source": [
    "#### Save model into disk\n",
    "_____"
   ]
  },
  {
   "cell_type": "code",
   "execution_count": 54,
   "metadata": {},
   "outputs": [],
   "source": [
    "regressor = SVR(kernel='linear', C=100)"
   ]
  },
  {
   "cell_type": "code",
   "execution_count": 55,
   "metadata": {},
   "outputs": [],
   "source": [
    "pickle.dump(regressor, open('svr_buildings.pkl','wb'))"
   ]
  },
  {
   "cell_type": "code",
   "execution_count": null,
   "metadata": {},
   "outputs": [],
   "source": []
  }
 ],
 "metadata": {
  "kernelspec": {
   "display_name": "Python 3",
   "language": "python",
   "name": "python3"
  },
  "language_info": {
   "codemirror_mode": {
    "name": "ipython",
    "version": 3
   },
   "file_extension": ".py",
   "mimetype": "text/x-python",
   "name": "python",
   "nbconvert_exporter": "python",
   "pygments_lexer": "ipython3",
   "version": "3.7.0"
  }
 },
 "nbformat": 4,
 "nbformat_minor": 2
}
