{
 "cells": [
  {
   "cell_type": "markdown",
   "metadata": {},
   "source": [
    "# Random Forest Regression\n",
    "____"
   ]
  },
  {
   "cell_type": "markdown",
   "metadata": {},
   "source": [
    "#### Libraries\n",
    "____"
   ]
  },
  {
   "cell_type": "code",
   "execution_count": 48,
   "metadata": {},
   "outputs": [],
   "source": [
    "import numpy as np\n",
    "import matplotlib.pyplot as plt\n",
    "import pandas as pd\n",
    "import seaborn as sns\n",
    "\n",
    "from sklearn.model_selection import train_test_split \n",
    "from sklearn.preprocessing import StandardScaler\n",
    "\n",
    "from sklearn.preprocessing import LabelEncoder\n",
    "from sklearn.preprocessing import OneHotEncoder\n",
    "from sklearn.ensemble import RandomForestRegressor\n",
    "\n",
    "import statsmodels.formula.api as sm\n",
    "from sklearn.model_selection import cross_val_score\n",
    "from sklearn import metrics\n",
    "\n",
    "\n",
    "%matplotlib inline"
   ]
  },
  {
   "cell_type": "markdown",
   "metadata": {},
   "source": [
    "#### Load dataset\n",
    "___"
   ]
  },
  {
   "cell_type": "code",
   "execution_count": 16,
   "metadata": {},
   "outputs": [
    {
     "data": {
      "text/html": [
       "<div>\n",
       "<style scoped>\n",
       "    .dataframe tbody tr th:only-of-type {\n",
       "        vertical-align: middle;\n",
       "    }\n",
       "\n",
       "    .dataframe tbody tr th {\n",
       "        vertical-align: top;\n",
       "    }\n",
       "\n",
       "    .dataframe thead th {\n",
       "        text-align: right;\n",
       "    }\n",
       "</style>\n",
       "<table border=\"1\" class=\"dataframe\">\n",
       "  <thead>\n",
       "    <tr style=\"text-align: right;\">\n",
       "      <th></th>\n",
       "      <th>bname</th>\n",
       "      <th>build_year</th>\n",
       "      <th>floor_area</th>\n",
       "      <th>occupy</th>\n",
       "      <th>water_use</th>\n",
       "      <th>ws_ngas</th>\n",
       "      <th>ws_elec</th>\n",
       "      <th>site_eui</th>\n",
       "    </tr>\n",
       "  </thead>\n",
       "  <tbody>\n",
       "    <tr>\n",
       "      <th>0</th>\n",
       "      <td>Multifamily</td>\n",
       "      <td>1903</td>\n",
       "      <td>412503.0</td>\n",
       "      <td>100</td>\n",
       "      <td>22061.0</td>\n",
       "      <td>0.0</td>\n",
       "      <td>3249755.2</td>\n",
       "      <td>32.0</td>\n",
       "    </tr>\n",
       "    <tr>\n",
       "      <th>1</th>\n",
       "      <td>General Medical</td>\n",
       "      <td>1950</td>\n",
       "      <td>567517.0</td>\n",
       "      <td>100</td>\n",
       "      <td>9574.0</td>\n",
       "      <td>2.2</td>\n",
       "      <td>18295844.6</td>\n",
       "      <td>352.7</td>\n",
       "    </tr>\n",
       "    <tr>\n",
       "      <th>2</th>\n",
       "      <td>Multifamily</td>\n",
       "      <td>1939</td>\n",
       "      <td>321464.0</td>\n",
       "      <td>100</td>\n",
       "      <td>5915.6</td>\n",
       "      <td>0.0</td>\n",
       "      <td>1121931.8</td>\n",
       "      <td>76.2</td>\n",
       "    </tr>\n",
       "    <tr>\n",
       "      <th>3</th>\n",
       "      <td>Multifamily</td>\n",
       "      <td>1911</td>\n",
       "      <td>54913.0</td>\n",
       "      <td>100</td>\n",
       "      <td>231.9</td>\n",
       "      <td>0.0</td>\n",
       "      <td>262377.2</td>\n",
       "      <td>17.9</td>\n",
       "    </tr>\n",
       "    <tr>\n",
       "      <th>4</th>\n",
       "      <td>Multifamily</td>\n",
       "      <td>1964</td>\n",
       "      <td>535632.0</td>\n",
       "      <td>100</td>\n",
       "      <td>8984.2</td>\n",
       "      <td>1.2</td>\n",
       "      <td>1620.0</td>\n",
       "      <td>115.9</td>\n",
       "    </tr>\n",
       "  </tbody>\n",
       "</table>\n",
       "</div>"
      ],
      "text/plain": [
       "             bname  build_year  floor_area  occupy  water_use  ws_ngas  \\\n",
       "0      Multifamily        1903    412503.0     100    22061.0      0.0   \n",
       "1  General Medical        1950    567517.0     100     9574.0      2.2   \n",
       "2      Multifamily        1939    321464.0     100     5915.6      0.0   \n",
       "3      Multifamily        1911     54913.0     100      231.9      0.0   \n",
       "4      Multifamily        1964    535632.0     100     8984.2      1.2   \n",
       "\n",
       "      ws_elec  site_eui  \n",
       "0   3249755.2      32.0  \n",
       "1  18295844.6     352.7  \n",
       "2   1121931.8      76.2  \n",
       "3    262377.2      17.9  \n",
       "4      1620.0     115.9  "
      ]
     },
     "execution_count": 16,
     "metadata": {},
     "output_type": "execute_result"
    }
   ],
   "source": [
    "dataset = '../../../data/bpd/build_clean.csv'\n",
    "building = pd.read_csv(dataset)\n",
    "building.head(5)"
   ]
  },
  {
   "cell_type": "code",
   "execution_count": 18,
   "metadata": {},
   "outputs": [
    {
     "name": "stdout",
     "output_type": "stream",
     "text": [
      "<class 'pandas.core.frame.DataFrame'>\n",
      "RangeIndex: 6529 entries, 0 to 6528\n",
      "Data columns (total 8 columns):\n",
      "bname         6529 non-null object\n",
      "build_year    6529 non-null int64\n",
      "floor_area    6529 non-null float64\n",
      "occupy        6529 non-null int64\n",
      "water_use     6529 non-null float64\n",
      "ws_ngas       6529 non-null float64\n",
      "ws_elec       6529 non-null float64\n",
      "site_eui      6529 non-null float64\n",
      "dtypes: float64(5), int64(2), object(1)\n",
      "memory usage: 408.1+ KB\n"
     ]
    }
   ],
   "source": [
    "building.info()"
   ]
  },
  {
   "cell_type": "code",
   "execution_count": 17,
   "metadata": {},
   "outputs": [
    {
     "data": {
      "text/html": [
       "<div>\n",
       "<style scoped>\n",
       "    .dataframe tbody tr th:only-of-type {\n",
       "        vertical-align: middle;\n",
       "    }\n",
       "\n",
       "    .dataframe tbody tr th {\n",
       "        vertical-align: top;\n",
       "    }\n",
       "\n",
       "    .dataframe thead th {\n",
       "        text-align: right;\n",
       "    }\n",
       "</style>\n",
       "<table border=\"1\" class=\"dataframe\">\n",
       "  <thead>\n",
       "    <tr style=\"text-align: right;\">\n",
       "      <th></th>\n",
       "      <th>build_year</th>\n",
       "      <th>floor_area</th>\n",
       "      <th>occupy</th>\n",
       "      <th>water_use</th>\n",
       "      <th>ws_ngas</th>\n",
       "      <th>ws_elec</th>\n",
       "      <th>site_eui</th>\n",
       "    </tr>\n",
       "  </thead>\n",
       "  <tbody>\n",
       "    <tr>\n",
       "      <th>count</th>\n",
       "      <td>6529.000000</td>\n",
       "      <td>6.529000e+03</td>\n",
       "      <td>6529.000000</td>\n",
       "      <td>6.529000e+03</td>\n",
       "      <td>6529.000000</td>\n",
       "      <td>6.529000e+03</td>\n",
       "      <td>6529.000000</td>\n",
       "    </tr>\n",
       "    <tr>\n",
       "      <th>mean</th>\n",
       "      <td>1949.651095</td>\n",
       "      <td>1.368599e+05</td>\n",
       "      <td>99.152244</td>\n",
       "      <td>1.603062e+04</td>\n",
       "      <td>1.977179</td>\n",
       "      <td>1.476976e+06</td>\n",
       "      <td>260.574575</td>\n",
       "    </tr>\n",
       "    <tr>\n",
       "      <th>std</th>\n",
       "      <td>30.901407</td>\n",
       "      <td>1.711460e+05</td>\n",
       "      <td>5.532777</td>\n",
       "      <td>1.571960e+05</td>\n",
       "      <td>116.266859</td>\n",
       "      <td>9.362351e+06</td>\n",
       "      <td>10897.697301</td>\n",
       "    </tr>\n",
       "    <tr>\n",
       "      <th>min</th>\n",
       "      <td>1649.000000</td>\n",
       "      <td>5.000000e+02</td>\n",
       "      <td>0.000000</td>\n",
       "      <td>0.000000e+00</td>\n",
       "      <td>0.000000</td>\n",
       "      <td>0.000000e+00</td>\n",
       "      <td>0.000000</td>\n",
       "    </tr>\n",
       "    <tr>\n",
       "      <th>25%</th>\n",
       "      <td>1927.000000</td>\n",
       "      <td>6.467700e+04</td>\n",
       "      <td>100.000000</td>\n",
       "      <td>2.688400e+03</td>\n",
       "      <td>0.100000</td>\n",
       "      <td>2.873729e+05</td>\n",
       "      <td>64.400000</td>\n",
       "    </tr>\n",
       "    <tr>\n",
       "      <th>50%</th>\n",
       "      <td>1941.000000</td>\n",
       "      <td>8.703600e+04</td>\n",
       "      <td>100.000000</td>\n",
       "      <td>4.786800e+03</td>\n",
       "      <td>0.500000</td>\n",
       "      <td>4.853083e+05</td>\n",
       "      <td>79.200000</td>\n",
       "    </tr>\n",
       "    <tr>\n",
       "      <th>75%</th>\n",
       "      <td>1967.000000</td>\n",
       "      <td>1.387280e+05</td>\n",
       "      <td>100.000000</td>\n",
       "      <td>8.001200e+03</td>\n",
       "      <td>0.700000</td>\n",
       "      <td>1.058213e+06</td>\n",
       "      <td>96.800000</td>\n",
       "    </tr>\n",
       "    <tr>\n",
       "      <th>max</th>\n",
       "      <td>2019.000000</td>\n",
       "      <td>2.376683e+06</td>\n",
       "      <td>100.000000</td>\n",
       "      <td>6.594604e+06</td>\n",
       "      <td>9393.000000</td>\n",
       "      <td>4.520236e+08</td>\n",
       "      <td>869265.000000</td>\n",
       "    </tr>\n",
       "  </tbody>\n",
       "</table>\n",
       "</div>"
      ],
      "text/plain": [
       "        build_year    floor_area       occupy     water_use      ws_ngas  \\\n",
       "count  6529.000000  6.529000e+03  6529.000000  6.529000e+03  6529.000000   \n",
       "mean   1949.651095  1.368599e+05    99.152244  1.603062e+04     1.977179   \n",
       "std      30.901407  1.711460e+05     5.532777  1.571960e+05   116.266859   \n",
       "min    1649.000000  5.000000e+02     0.000000  0.000000e+00     0.000000   \n",
       "25%    1927.000000  6.467700e+04   100.000000  2.688400e+03     0.100000   \n",
       "50%    1941.000000  8.703600e+04   100.000000  4.786800e+03     0.500000   \n",
       "75%    1967.000000  1.387280e+05   100.000000  8.001200e+03     0.700000   \n",
       "max    2019.000000  2.376683e+06   100.000000  6.594604e+06  9393.000000   \n",
       "\n",
       "            ws_elec       site_eui  \n",
       "count  6.529000e+03    6529.000000  \n",
       "mean   1.476976e+06     260.574575  \n",
       "std    9.362351e+06   10897.697301  \n",
       "min    0.000000e+00       0.000000  \n",
       "25%    2.873729e+05      64.400000  \n",
       "50%    4.853083e+05      79.200000  \n",
       "75%    1.058213e+06      96.800000  \n",
       "max    4.520236e+08  869265.000000  "
      ]
     },
     "execution_count": 17,
     "metadata": {},
     "output_type": "execute_result"
    }
   ],
   "source": [
    "building.describe()"
   ]
  },
  {
   "cell_type": "markdown",
   "metadata": {},
   "source": [
    "#### Converting Categorical Features\n",
    "___"
   ]
  },
  {
   "cell_type": "code",
   "execution_count": 19,
   "metadata": {},
   "outputs": [
    {
     "data": {
      "text/html": [
       "<div>\n",
       "<style scoped>\n",
       "    .dataframe tbody tr th:only-of-type {\n",
       "        vertical-align: middle;\n",
       "    }\n",
       "\n",
       "    .dataframe tbody tr th {\n",
       "        vertical-align: top;\n",
       "    }\n",
       "\n",
       "    .dataframe thead th {\n",
       "        text-align: right;\n",
       "    }\n",
       "</style>\n",
       "<table border=\"1\" class=\"dataframe\">\n",
       "  <thead>\n",
       "    <tr style=\"text-align: right;\">\n",
       "      <th></th>\n",
       "      <th>Entertainment</th>\n",
       "      <th>Facility</th>\n",
       "      <th>Food Service</th>\n",
       "      <th>Gas Station</th>\n",
       "      <th>General Medical</th>\n",
       "      <th>Hotel</th>\n",
       "      <th>Multifamily</th>\n",
       "      <th>Office</th>\n",
       "      <th>Other</th>\n",
       "      <th>Parking</th>\n",
       "      <th>Retail</th>\n",
       "      <th>build_year</th>\n",
       "      <th>floor_area</th>\n",
       "      <th>occupy</th>\n",
       "      <th>water_use</th>\n",
       "      <th>ws_ngas</th>\n",
       "      <th>ws_elec</th>\n",
       "      <th>site_eui</th>\n",
       "    </tr>\n",
       "  </thead>\n",
       "  <tbody>\n",
       "    <tr>\n",
       "      <th>0</th>\n",
       "      <td>0</td>\n",
       "      <td>0</td>\n",
       "      <td>0</td>\n",
       "      <td>0</td>\n",
       "      <td>0</td>\n",
       "      <td>0</td>\n",
       "      <td>1</td>\n",
       "      <td>0</td>\n",
       "      <td>0</td>\n",
       "      <td>0</td>\n",
       "      <td>0</td>\n",
       "      <td>1903</td>\n",
       "      <td>412503.0</td>\n",
       "      <td>100</td>\n",
       "      <td>22061.0</td>\n",
       "      <td>0.0</td>\n",
       "      <td>3249755.2</td>\n",
       "      <td>32.0</td>\n",
       "    </tr>\n",
       "    <tr>\n",
       "      <th>1</th>\n",
       "      <td>0</td>\n",
       "      <td>0</td>\n",
       "      <td>0</td>\n",
       "      <td>0</td>\n",
       "      <td>1</td>\n",
       "      <td>0</td>\n",
       "      <td>0</td>\n",
       "      <td>0</td>\n",
       "      <td>0</td>\n",
       "      <td>0</td>\n",
       "      <td>0</td>\n",
       "      <td>1950</td>\n",
       "      <td>567517.0</td>\n",
       "      <td>100</td>\n",
       "      <td>9574.0</td>\n",
       "      <td>2.2</td>\n",
       "      <td>18295844.6</td>\n",
       "      <td>352.7</td>\n",
       "    </tr>\n",
       "    <tr>\n",
       "      <th>2</th>\n",
       "      <td>0</td>\n",
       "      <td>0</td>\n",
       "      <td>0</td>\n",
       "      <td>0</td>\n",
       "      <td>0</td>\n",
       "      <td>0</td>\n",
       "      <td>1</td>\n",
       "      <td>0</td>\n",
       "      <td>0</td>\n",
       "      <td>0</td>\n",
       "      <td>0</td>\n",
       "      <td>1939</td>\n",
       "      <td>321464.0</td>\n",
       "      <td>100</td>\n",
       "      <td>5915.6</td>\n",
       "      <td>0.0</td>\n",
       "      <td>1121931.8</td>\n",
       "      <td>76.2</td>\n",
       "    </tr>\n",
       "    <tr>\n",
       "      <th>3</th>\n",
       "      <td>0</td>\n",
       "      <td>0</td>\n",
       "      <td>0</td>\n",
       "      <td>0</td>\n",
       "      <td>0</td>\n",
       "      <td>0</td>\n",
       "      <td>1</td>\n",
       "      <td>0</td>\n",
       "      <td>0</td>\n",
       "      <td>0</td>\n",
       "      <td>0</td>\n",
       "      <td>1911</td>\n",
       "      <td>54913.0</td>\n",
       "      <td>100</td>\n",
       "      <td>231.9</td>\n",
       "      <td>0.0</td>\n",
       "      <td>262377.2</td>\n",
       "      <td>17.9</td>\n",
       "    </tr>\n",
       "    <tr>\n",
       "      <th>4</th>\n",
       "      <td>0</td>\n",
       "      <td>0</td>\n",
       "      <td>0</td>\n",
       "      <td>0</td>\n",
       "      <td>0</td>\n",
       "      <td>0</td>\n",
       "      <td>1</td>\n",
       "      <td>0</td>\n",
       "      <td>0</td>\n",
       "      <td>0</td>\n",
       "      <td>0</td>\n",
       "      <td>1964</td>\n",
       "      <td>535632.0</td>\n",
       "      <td>100</td>\n",
       "      <td>8984.2</td>\n",
       "      <td>1.2</td>\n",
       "      <td>1620.0</td>\n",
       "      <td>115.9</td>\n",
       "    </tr>\n",
       "  </tbody>\n",
       "</table>\n",
       "</div>"
      ],
      "text/plain": [
       "   Entertainment  Facility  Food Service  Gas Station  General Medical  Hotel  \\\n",
       "0              0         0             0            0                0      0   \n",
       "1              0         0             0            0                1      0   \n",
       "2              0         0             0            0                0      0   \n",
       "3              0         0             0            0                0      0   \n",
       "4              0         0             0            0                0      0   \n",
       "\n",
       "   Multifamily  Office  Other  Parking  Retail  build_year  floor_area  \\\n",
       "0            1       0      0        0       0        1903    412503.0   \n",
       "1            0       0      0        0       0        1950    567517.0   \n",
       "2            1       0      0        0       0        1939    321464.0   \n",
       "3            1       0      0        0       0        1911     54913.0   \n",
       "4            1       0      0        0       0        1964    535632.0   \n",
       "\n",
       "   occupy  water_use  ws_ngas     ws_elec  site_eui  \n",
       "0     100    22061.0      0.0   3249755.2      32.0  \n",
       "1     100     9574.0      2.2  18295844.6     352.7  \n",
       "2     100     5915.6      0.0   1121931.8      76.2  \n",
       "3     100      231.9      0.0    262377.2      17.9  \n",
       "4     100     8984.2      1.2      1620.0     115.9  "
      ]
     },
     "execution_count": 19,
     "metadata": {},
     "output_type": "execute_result"
    }
   ],
   "source": [
    "bname_categorical = pd.get_dummies(building['bname'])\n",
    "\n",
    "# Avoiding the Dummy Variable Trap\n",
    "bname_categorical.drop(bname_categorical.columns[0], axis=1, inplace=True)\n",
    "\n",
    "# Merge datasets\n",
    "building.drop(['bname'], axis=1, inplace=True)\n",
    "building = pd.concat([bname_categorical, building], axis=1)\n",
    "\n",
    "building.head(5)"
   ]
  },
  {
   "cell_type": "markdown",
   "metadata": {},
   "source": [
    "#### Define X, Y variables\n",
    "___"
   ]
  },
  {
   "cell_type": "code",
   "execution_count": 20,
   "metadata": {},
   "outputs": [
    {
     "name": "stdout",
     "output_type": "stream",
     "text": [
      "(6529, 17) (6529,)\n"
     ]
    }
   ],
   "source": [
    "X = building.drop('site_eui', axis=1)\n",
    "Y = building['site_eui']\n",
    "\n",
    "print (X.shape, Y.shape)"
   ]
  },
  {
   "cell_type": "markdown",
   "metadata": {},
   "source": [
    "#### Split dataset (TRAIN/TEST) data\n",
    "____"
   ]
  },
  {
   "cell_type": "code",
   "execution_count": 38,
   "metadata": {},
   "outputs": [],
   "source": [
    "X_train, X_test, Y_train, Y_test = train_test_split(X, Y, test_size = 0.2, random_state = 101)"
   ]
  },
  {
   "cell_type": "markdown",
   "metadata": {},
   "source": [
    "#### Fitting model to the dataset\n",
    "____"
   ]
  },
  {
   "cell_type": "code",
   "execution_count": 39,
   "metadata": {},
   "outputs": [
    {
     "data": {
      "text/plain": [
       "RandomForestRegressor(bootstrap=True, criterion='mse', max_depth=None,\n",
       "           max_features='auto', max_leaf_nodes=None,\n",
       "           min_impurity_decrease=0.0, min_impurity_split=None,\n",
       "           min_samples_leaf=1, min_samples_split=2,\n",
       "           min_weight_fraction_leaf=0.0, n_estimators=100, n_jobs=1,\n",
       "           oob_score=False, random_state=101, verbose=0, warm_start=False)"
      ]
     },
     "execution_count": 39,
     "metadata": {},
     "output_type": "execute_result"
    }
   ],
   "source": [
    "regressor = RandomForestRegressor(n_estimators = 100, random_state = 101)\n",
    "regressor.fit(X, Y)"
   ]
  },
  {
   "cell_type": "markdown",
   "metadata": {},
   "source": [
    "#### Fitting Simple Linear Regression to the Training Set\n",
    "_____"
   ]
  },
  {
   "cell_type": "code",
   "execution_count": 40,
   "metadata": {},
   "outputs": [],
   "source": [
    "y_prediction = regressor.predict(X_test)"
   ]
  },
  {
   "cell_type": "markdown",
   "metadata": {},
   "source": [
    "#### Real x Predict\n",
    "_____"
   ]
  },
  {
   "cell_type": "code",
   "execution_count": 41,
   "metadata": {},
   "outputs": [
    {
     "data": {
      "text/html": [
       "<div>\n",
       "<style scoped>\n",
       "    .dataframe tbody tr th:only-of-type {\n",
       "        vertical-align: middle;\n",
       "    }\n",
       "\n",
       "    .dataframe tbody tr th {\n",
       "        vertical-align: top;\n",
       "    }\n",
       "\n",
       "    .dataframe thead th {\n",
       "        text-align: right;\n",
       "    }\n",
       "</style>\n",
       "<table border=\"1\" class=\"dataframe\">\n",
       "  <thead>\n",
       "    <tr style=\"text-align: right;\">\n",
       "      <th></th>\n",
       "      <th>Real</th>\n",
       "      <th>Predict</th>\n",
       "    </tr>\n",
       "  </thead>\n",
       "  <tbody>\n",
       "    <tr>\n",
       "      <th>1233</th>\n",
       "      <td>66.5</td>\n",
       "      <td>64.348</td>\n",
       "    </tr>\n",
       "    <tr>\n",
       "      <th>1439</th>\n",
       "      <td>57.7</td>\n",
       "      <td>61.094</td>\n",
       "    </tr>\n",
       "    <tr>\n",
       "      <th>4067</th>\n",
       "      <td>57.1</td>\n",
       "      <td>55.945</td>\n",
       "    </tr>\n",
       "    <tr>\n",
       "      <th>5867</th>\n",
       "      <td>44.1</td>\n",
       "      <td>54.150</td>\n",
       "    </tr>\n",
       "    <tr>\n",
       "      <th>1222</th>\n",
       "      <td>115.9</td>\n",
       "      <td>111.952</td>\n",
       "    </tr>\n",
       "    <tr>\n",
       "      <th>2678</th>\n",
       "      <td>108.4</td>\n",
       "      <td>96.069</td>\n",
       "    </tr>\n",
       "    <tr>\n",
       "      <th>4551</th>\n",
       "      <td>54.4</td>\n",
       "      <td>57.220</td>\n",
       "    </tr>\n",
       "    <tr>\n",
       "      <th>1722</th>\n",
       "      <td>78.0</td>\n",
       "      <td>79.060</td>\n",
       "    </tr>\n",
       "    <tr>\n",
       "      <th>6101</th>\n",
       "      <td>163.1</td>\n",
       "      <td>133.165</td>\n",
       "    </tr>\n",
       "    <tr>\n",
       "      <th>4206</th>\n",
       "      <td>84.2</td>\n",
       "      <td>81.704</td>\n",
       "    </tr>\n",
       "  </tbody>\n",
       "</table>\n",
       "</div>"
      ],
      "text/plain": [
       "       Real  Predict\n",
       "1233   66.5   64.348\n",
       "1439   57.7   61.094\n",
       "4067   57.1   55.945\n",
       "5867   44.1   54.150\n",
       "1222  115.9  111.952\n",
       "2678  108.4   96.069\n",
       "4551   54.4   57.220\n",
       "1722   78.0   79.060\n",
       "6101  163.1  133.165\n",
       "4206   84.2   81.704"
      ]
     },
     "execution_count": 41,
     "metadata": {},
     "output_type": "execute_result"
    }
   ],
   "source": [
    "pd.DataFrame({\n",
    "    'Real' : Y_test,\n",
    "    'Predict' : y_prediction\n",
    "\n",
    "}).head(10)"
   ]
  },
  {
   "cell_type": "markdown",
   "metadata": {},
   "source": [
    "#### Model Score\n",
    "__________"
   ]
  },
  {
   "cell_type": "code",
   "execution_count": 42,
   "metadata": {},
   "outputs": [
    {
     "name": "stdout",
     "output_type": "stream",
     "text": [
      "Training Data Score: 0.8589991468714256\n",
      "Testing Data Score: 0.8375512173204313\n"
     ]
    }
   ],
   "source": [
    "print(f\"Training Data Score: {regressor.score(X_train, Y_train)}\")\n",
    "print(f\"Testing Data Score: {regressor.score(X_test, Y_test)}\")"
   ]
  },
  {
   "cell_type": "code",
   "execution_count": 49,
   "metadata": {},
   "outputs": [
    {
     "name": "stdout",
     "output_type": "stream",
     "text": [
      "MAE: 22.981392802450248\n",
      "MSE: 91731.90499623676\n",
      "RMSE: 302.8727538030398\n"
     ]
    }
   ],
   "source": [
    "print('MAE:', metrics.mean_absolute_error(Y_test, y_prediction))\n",
    "print('MSE:', metrics.mean_squared_error(Y_test, y_prediction))\n",
    "print('RMSE:', np.sqrt(metrics.mean_squared_error(Y_test, y_prediction)))"
   ]
  },
  {
   "cell_type": "markdown",
   "metadata": {},
   "source": [
    "#### Applying K-Fold Cross Validation\n",
    "_____"
   ]
  },
  {
   "cell_type": "code",
   "execution_count": 43,
   "metadata": {},
   "outputs": [],
   "source": [
    "accuracies = cross_val_score(estimator = regressor, X = X_train, y = Y_train, cv = 10)"
   ]
  },
  {
   "cell_type": "code",
   "execution_count": 44,
   "metadata": {},
   "outputs": [
    {
     "name": "stdout",
     "output_type": "stream",
     "text": [
      "[-2.77032019e+03  8.78698768e-01 -5.18506448e-03  1.17489336e-02\n",
      " -3.47176321e+00  9.64564547e-01 -1.82023909e-03 -9.68410726e+01\n",
      "  9.79105598e-01 -4.32094825e+00]\n"
     ]
    }
   ],
   "source": [
    "print (accuracies)"
   ]
  },
  {
   "cell_type": "code",
   "execution_count": 45,
   "metadata": {},
   "outputs": [
    {
     "data": {
      "text/plain": [
       "-287.21268638033115"
      ]
     },
     "execution_count": 45,
     "metadata": {},
     "output_type": "execute_result"
    }
   ],
   "source": [
    "accuracies.mean()"
   ]
  },
  {
   "cell_type": "code",
   "execution_count": 46,
   "metadata": {},
   "outputs": [
    {
     "data": {
      "text/plain": [
       "828.2013205724754"
      ]
     },
     "execution_count": 46,
     "metadata": {},
     "output_type": "execute_result"
    }
   ],
   "source": [
    "accuracies.std()"
   ]
  },
  {
   "cell_type": "code",
   "execution_count": null,
   "metadata": {},
   "outputs": [],
   "source": []
  }
 ],
 "metadata": {
  "kernelspec": {
   "display_name": "Python 3",
   "language": "python",
   "name": "python3"
  },
  "language_info": {
   "codemirror_mode": {
    "name": "ipython",
    "version": 3
   },
   "file_extension": ".py",
   "mimetype": "text/x-python",
   "name": "python",
   "nbconvert_exporter": "python",
   "pygments_lexer": "ipython3",
   "version": "3.7.0"
  }
 },
 "nbformat": 4,
 "nbformat_minor": 2
}
