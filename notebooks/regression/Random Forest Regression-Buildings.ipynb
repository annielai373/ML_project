{
 "cells": [
  {
   "cell_type": "markdown",
   "metadata": {},
   "source": [
    "# Random Forest Regression (Buildings)\n",
    "____"
   ]
  },
  {
   "cell_type": "markdown",
   "metadata": {},
   "source": [
    "#### Libraries\n",
    "____"
   ]
  },
  {
   "cell_type": "code",
   "execution_count": 34,
   "metadata": {},
   "outputs": [],
   "source": [
    "import numpy as np\n",
    "import matplotlib.pyplot as plt\n",
    "import pandas as pd\n",
    "import seaborn as sns\n",
    "\n",
    "from sklearn.model_selection import train_test_split \n",
    "from sklearn.preprocessing import StandardScaler\n",
    "\n",
    "from sklearn.preprocessing import LabelEncoder\n",
    "from sklearn.preprocessing import OneHotEncoder\n",
    "from sklearn.ensemble import RandomForestRegressor\n",
    "\n",
    "import statsmodels.formula.api as sm\n",
    "from sklearn.model_selection import cross_val_score\n",
    "\n",
    "%matplotlib inline"
   ]
  },
  {
   "cell_type": "markdown",
   "metadata": {},
   "source": [
    "#### Load dataset\n",
    "___"
   ]
  },
  {
   "cell_type": "code",
   "execution_count": 35,
   "metadata": {},
   "outputs": [
    {
     "data": {
      "text/html": [
       "<div>\n",
       "<style scoped>\n",
       "    .dataframe tbody tr th:only-of-type {\n",
       "        vertical-align: middle;\n",
       "    }\n",
       "\n",
       "    .dataframe tbody tr th {\n",
       "        vertical-align: top;\n",
       "    }\n",
       "\n",
       "    .dataframe thead th {\n",
       "        text-align: right;\n",
       "    }\n",
       "</style>\n",
       "<table border=\"1\" class=\"dataframe\">\n",
       "  <thead>\n",
       "    <tr style=\"text-align: right;\">\n",
       "      <th></th>\n",
       "      <th>ptype</th>\n",
       "      <th>floor_area</th>\n",
       "      <th>build_year</th>\n",
       "      <th>occupy</th>\n",
       "      <th>star</th>\n",
       "      <th>site_eui</th>\n",
       "      <th>ngas</th>\n",
       "      <th>water_use</th>\n",
       "      <th>total_fuel</th>\n",
       "    </tr>\n",
       "  </thead>\n",
       "  <tbody>\n",
       "    <tr>\n",
       "      <th>244</th>\n",
       "      <td>K-12 School</td>\n",
       "      <td>322505.0</td>\n",
       "      <td>1928</td>\n",
       "      <td>100</td>\n",
       "      <td>49.000000</td>\n",
       "      <td>75.9</td>\n",
       "      <td>2904463.4</td>\n",
       "      <td>15917.984063</td>\n",
       "      <td>1.158455e+07</td>\n",
       "    </tr>\n",
       "    <tr>\n",
       "      <th>281</th>\n",
       "      <td>K-12 School</td>\n",
       "      <td>36500.0</td>\n",
       "      <td>1947</td>\n",
       "      <td>100</td>\n",
       "      <td>59.854594</td>\n",
       "      <td>46.6</td>\n",
       "      <td>874188.3</td>\n",
       "      <td>15917.984063</td>\n",
       "      <td>3.976671e+06</td>\n",
       "    </tr>\n",
       "    <tr>\n",
       "      <th>1199</th>\n",
       "      <td>K-12 School</td>\n",
       "      <td>214783.0</td>\n",
       "      <td>1928</td>\n",
       "      <td>80</td>\n",
       "      <td>67.000000</td>\n",
       "      <td>75.7</td>\n",
       "      <td>6542200.2</td>\n",
       "      <td>2490.300000</td>\n",
       "      <td>3.976671e+06</td>\n",
       "    </tr>\n",
       "    <tr>\n",
       "      <th>1624</th>\n",
       "      <td>K-12 School</td>\n",
       "      <td>90600.0</td>\n",
       "      <td>1988</td>\n",
       "      <td>100</td>\n",
       "      <td>29.000000</td>\n",
       "      <td>90.2</td>\n",
       "      <td>6003028.0</td>\n",
       "      <td>4870.300000</td>\n",
       "      <td>3.976671e+06</td>\n",
       "    </tr>\n",
       "    <tr>\n",
       "      <th>2227</th>\n",
       "      <td>K-12 School</td>\n",
       "      <td>71000.0</td>\n",
       "      <td>2001</td>\n",
       "      <td>100</td>\n",
       "      <td>34.000000</td>\n",
       "      <td>90.5</td>\n",
       "      <td>2457100.8</td>\n",
       "      <td>1430.200000</td>\n",
       "      <td>3.976671e+06</td>\n",
       "    </tr>\n",
       "  </tbody>\n",
       "</table>\n",
       "</div>"
      ],
      "text/plain": [
       "            ptype  floor_area  build_year  occupy       star  site_eui  \\\n",
       "244   K-12 School    322505.0        1928     100  49.000000      75.9   \n",
       "281   K-12 School     36500.0        1947     100  59.854594      46.6   \n",
       "1199  K-12 School    214783.0        1928      80  67.000000      75.7   \n",
       "1624  K-12 School     90600.0        1988     100  29.000000      90.2   \n",
       "2227  K-12 School     71000.0        2001     100  34.000000      90.5   \n",
       "\n",
       "           ngas     water_use    total_fuel  \n",
       "244   2904463.4  15917.984063  1.158455e+07  \n",
       "281    874188.3  15917.984063  3.976671e+06  \n",
       "1199  6542200.2   2490.300000  3.976671e+06  \n",
       "1624  6003028.0   4870.300000  3.976671e+06  \n",
       "2227  2457100.8   1430.200000  3.976671e+06  "
      ]
     },
     "execution_count": 35,
     "metadata": {},
     "output_type": "execute_result"
    }
   ],
   "source": [
    "dataset = '../../data/commercial_data_clear.csv'\n",
    "columns = ['ptype', 'floor_area', 'build_year', 'occupy', 'star', 'site_eui', 'ngas', 'water_use', 'total_fuel']\n",
    "\n",
    "\n",
    "df = pd.read_csv(dataset, sep=',', usecols=columns)\n",
    "\n",
    "cond1 = df['ptype'] == 'K-12 School'\n",
    "\n",
    "building = df[cond1]\n",
    "\n",
    "building.head(5)"
   ]
  },
  {
   "cell_type": "code",
   "execution_count": 36,
   "metadata": {},
   "outputs": [
    {
     "name": "stdout",
     "output_type": "stream",
     "text": [
      "<class 'pandas.core.frame.DataFrame'>\n",
      "Int64Index: 90 entries, 244 to 11725\n",
      "Data columns (total 9 columns):\n",
      "ptype         90 non-null object\n",
      "floor_area    90 non-null float64\n",
      "build_year    90 non-null int64\n",
      "occupy        90 non-null int64\n",
      "star          90 non-null float64\n",
      "site_eui      90 non-null float64\n",
      "ngas          90 non-null float64\n",
      "water_use     90 non-null float64\n",
      "total_fuel    90 non-null float64\n",
      "dtypes: float64(6), int64(2), object(1)\n",
      "memory usage: 7.0+ KB\n"
     ]
    }
   ],
   "source": [
    "building.info()"
   ]
  },
  {
   "cell_type": "code",
   "execution_count": 37,
   "metadata": {},
   "outputs": [
    {
     "data": {
      "text/html": [
       "<div>\n",
       "<style scoped>\n",
       "    .dataframe tbody tr th:only-of-type {\n",
       "        vertical-align: middle;\n",
       "    }\n",
       "\n",
       "    .dataframe tbody tr th {\n",
       "        vertical-align: top;\n",
       "    }\n",
       "\n",
       "    .dataframe thead th {\n",
       "        text-align: right;\n",
       "    }\n",
       "</style>\n",
       "<table border=\"1\" class=\"dataframe\">\n",
       "  <thead>\n",
       "    <tr style=\"text-align: right;\">\n",
       "      <th></th>\n",
       "      <th>floor_area</th>\n",
       "      <th>build_year</th>\n",
       "      <th>occupy</th>\n",
       "      <th>star</th>\n",
       "      <th>site_eui</th>\n",
       "      <th>ngas</th>\n",
       "      <th>water_use</th>\n",
       "      <th>total_fuel</th>\n",
       "    </tr>\n",
       "  </thead>\n",
       "  <tbody>\n",
       "    <tr>\n",
       "      <th>count</th>\n",
       "      <td>90.000000</td>\n",
       "      <td>90.000000</td>\n",
       "      <td>90.000000</td>\n",
       "      <td>90.000000</td>\n",
       "      <td>90.000000</td>\n",
       "      <td>9.000000e+01</td>\n",
       "      <td>90.000000</td>\n",
       "      <td>9.000000e+01</td>\n",
       "    </tr>\n",
       "    <tr>\n",
       "      <th>mean</th>\n",
       "      <td>113176.088889</td>\n",
       "      <td>1957.888889</td>\n",
       "      <td>99.555556</td>\n",
       "      <td>62.010913</td>\n",
       "      <td>72.422700</td>\n",
       "      <td>5.771013e+06</td>\n",
       "      <td>10683.206171</td>\n",
       "      <td>3.603263e+06</td>\n",
       "    </tr>\n",
       "    <tr>\n",
       "      <th>std</th>\n",
       "      <td>78845.820415</td>\n",
       "      <td>31.526498</td>\n",
       "      <td>2.445409</td>\n",
       "      <td>30.407385</td>\n",
       "      <td>45.616365</td>\n",
       "      <td>1.060378e+07</td>\n",
       "      <td>7560.418928</td>\n",
       "      <td>1.647142e+06</td>\n",
       "    </tr>\n",
       "    <tr>\n",
       "      <th>min</th>\n",
       "      <td>36500.000000</td>\n",
       "      <td>1891.000000</td>\n",
       "      <td>80.000000</td>\n",
       "      <td>1.000000</td>\n",
       "      <td>2.900000</td>\n",
       "      <td>6.290900e+03</td>\n",
       "      <td>109.400000</td>\n",
       "      <td>0.000000e+00</td>\n",
       "    </tr>\n",
       "    <tr>\n",
       "      <th>25%</th>\n",
       "      <td>63950.000000</td>\n",
       "      <td>1929.250000</td>\n",
       "      <td>100.000000</td>\n",
       "      <td>40.000000</td>\n",
       "      <td>46.625000</td>\n",
       "      <td>1.015279e+06</td>\n",
       "      <td>1849.975000</td>\n",
       "      <td>3.976671e+06</td>\n",
       "    </tr>\n",
       "    <tr>\n",
       "      <th>50%</th>\n",
       "      <td>86618.000000</td>\n",
       "      <td>1961.500000</td>\n",
       "      <td>100.000000</td>\n",
       "      <td>67.500000</td>\n",
       "      <td>62.250000</td>\n",
       "      <td>2.547472e+06</td>\n",
       "      <td>15917.984063</td>\n",
       "      <td>3.976671e+06</td>\n",
       "    </tr>\n",
       "    <tr>\n",
       "      <th>75%</th>\n",
       "      <td>124815.000000</td>\n",
       "      <td>1972.750000</td>\n",
       "      <td>100.000000</td>\n",
       "      <td>89.500000</td>\n",
       "      <td>77.850000</td>\n",
       "      <td>4.555968e+06</td>\n",
       "      <td>15917.984063</td>\n",
       "      <td>3.976671e+06</td>\n",
       "    </tr>\n",
       "    <tr>\n",
       "      <th>max</th>\n",
       "      <td>444000.000000</td>\n",
       "      <td>2016.000000</td>\n",
       "      <td>100.000000</td>\n",
       "      <td>100.000000</td>\n",
       "      <td>280.071484</td>\n",
       "      <td>5.048545e+07</td>\n",
       "      <td>33570.600000</td>\n",
       "      <td>1.158455e+07</td>\n",
       "    </tr>\n",
       "  </tbody>\n",
       "</table>\n",
       "</div>"
      ],
      "text/plain": [
       "          floor_area   build_year      occupy        star    site_eui  \\\n",
       "count      90.000000    90.000000   90.000000   90.000000   90.000000   \n",
       "mean   113176.088889  1957.888889   99.555556   62.010913   72.422700   \n",
       "std     78845.820415    31.526498    2.445409   30.407385   45.616365   \n",
       "min     36500.000000  1891.000000   80.000000    1.000000    2.900000   \n",
       "25%     63950.000000  1929.250000  100.000000   40.000000   46.625000   \n",
       "50%     86618.000000  1961.500000  100.000000   67.500000   62.250000   \n",
       "75%    124815.000000  1972.750000  100.000000   89.500000   77.850000   \n",
       "max    444000.000000  2016.000000  100.000000  100.000000  280.071484   \n",
       "\n",
       "               ngas     water_use    total_fuel  \n",
       "count  9.000000e+01     90.000000  9.000000e+01  \n",
       "mean   5.771013e+06  10683.206171  3.603263e+06  \n",
       "std    1.060378e+07   7560.418928  1.647142e+06  \n",
       "min    6.290900e+03    109.400000  0.000000e+00  \n",
       "25%    1.015279e+06   1849.975000  3.976671e+06  \n",
       "50%    2.547472e+06  15917.984063  3.976671e+06  \n",
       "75%    4.555968e+06  15917.984063  3.976671e+06  \n",
       "max    5.048545e+07  33570.600000  1.158455e+07  "
      ]
     },
     "execution_count": 37,
     "metadata": {},
     "output_type": "execute_result"
    }
   ],
   "source": [
    "building.describe()"
   ]
  },
  {
   "cell_type": "markdown",
   "metadata": {},
   "source": [
    "#### Data cleanup\n",
    "___"
   ]
  },
  {
   "cell_type": "code",
   "execution_count": 38,
   "metadata": {},
   "outputs": [
    {
     "data": {
      "image/png": "[encoded data removed]",
      "text/plain": [
       "<Figure size 1152x432 with 1 Axes>"
      ]
     },
     "metadata": {
      "needs_background": "light"
     },
     "output_type": "display_data"
    }
   ],
   "source": [
    "plt.figure(figsize=(16,6))\n",
    "\n",
    "sns.heatmap(building.isnull(), yticklabels=False, cbar=False, cmap='viridis')\n",
    "plt.show()"
   ]
  },
  {
   "cell_type": "markdown",
   "metadata": {},
   "source": [
    "#### Define X, Y variables\n",
    "___"
   ]
  },
  {
   "cell_type": "code",
   "execution_count": 39,
   "metadata": {},
   "outputs": [],
   "source": [
    "x_columns = ['floor_area', 'build_year', 'occupy', 'star', 'ngas', 'water_use', 'total_fuel']\n",
    "y_columns = ['site_eui']\n",
    "\n",
    "X = building[x_columns].values\n",
    "Y = building[y_columns].values"
   ]
  },
  {
   "cell_type": "markdown",
   "metadata": {},
   "source": [
    "#### Split dataset (TRAIN/TEST) data\n",
    "____"
   ]
  },
  {
   "cell_type": "code",
   "execution_count": 44,
   "metadata": {},
   "outputs": [],
   "source": [
    "X_train, X_test, Y_train, Y_test = train_test_split(X, Y, test_size = 0.2, random_state = 0)"
   ]
  },
  {
   "cell_type": "markdown",
   "metadata": {},
   "source": [
    "#### Fitting Random Forest to the dataset\n",
    "____"
   ]
  },
  {
   "cell_type": "code",
   "execution_count": 45,
   "metadata": {},
   "outputs": [
    {
     "name": "stderr",
     "output_type": "stream",
     "text": [
      "C:\\Users\\Alexandre\\Anaconda3\\lib\\site-packages\\ipykernel_launcher.py:2: DataConversionWarning: A column-vector y was passed when a 1d array was expected. Please change the shape of y to (n_samples,), for example using ravel().\n",
      "  \n"
     ]
    },
    {
     "data": {
      "text/plain": [
       "RandomForestRegressor(bootstrap=True, criterion='mse', max_depth=None,\n",
       "           max_features='auto', max_leaf_nodes=None,\n",
       "           min_impurity_decrease=0.0, min_impurity_split=None,\n",
       "           min_samples_leaf=1, min_samples_split=2,\n",
       "           min_weight_fraction_leaf=0.0, n_estimators=100, n_jobs=1,\n",
       "           oob_score=False, random_state=0, verbose=0, warm_start=False)"
      ]
     },
     "execution_count": 45,
     "metadata": {},
     "output_type": "execute_result"
    }
   ],
   "source": [
    "regressor = RandomForestRegressor(n_estimators = 100, random_state = 0)\n",
    "regressor.fit(X, Y)"
   ]
  },
  {
   "cell_type": "markdown",
   "metadata": {},
   "source": [
    "#### Fitting Simple Linear Regression to the Training Set\n",
    "_____"
   ]
  },
  {
   "cell_type": "code",
   "execution_count": 46,
   "metadata": {},
   "outputs": [],
   "source": [
    "y_prediction = regressor.predict(X_test)\n"
   ]
  },
  {
   "cell_type": "markdown",
   "metadata": {},
   "source": [
    "#### Real x Predict\n",
    "_____"
   ]
  },
  {
   "cell_type": "code",
   "execution_count": 47,
   "metadata": {},
   "outputs": [
    {
     "data": {
      "text/html": [
       "<div>\n",
       "<style scoped>\n",
       "    .dataframe tbody tr th:only-of-type {\n",
       "        vertical-align: middle;\n",
       "    }\n",
       "\n",
       "    .dataframe tbody tr th {\n",
       "        vertical-align: top;\n",
       "    }\n",
       "\n",
       "    .dataframe thead th {\n",
       "        text-align: right;\n",
       "    }\n",
       "</style>\n",
       "<table border=\"1\" class=\"dataframe\">\n",
       "  <thead>\n",
       "    <tr style=\"text-align: right;\">\n",
       "      <th></th>\n",
       "      <th>Real</th>\n",
       "      <th>Predict</th>\n",
       "    </tr>\n",
       "  </thead>\n",
       "  <tbody>\n",
       "    <tr>\n",
       "      <th>0</th>\n",
       "      <td>75.7</td>\n",
       "      <td>72.889000</td>\n",
       "    </tr>\n",
       "    <tr>\n",
       "      <th>1</th>\n",
       "      <td>50.7</td>\n",
       "      <td>52.932000</td>\n",
       "    </tr>\n",
       "    <tr>\n",
       "      <th>2</th>\n",
       "      <td>43.5</td>\n",
       "      <td>49.428000</td>\n",
       "    </tr>\n",
       "    <tr>\n",
       "      <th>3</th>\n",
       "      <td>57.9</td>\n",
       "      <td>80.269148</td>\n",
       "    </tr>\n",
       "    <tr>\n",
       "      <th>4</th>\n",
       "      <td>46.7</td>\n",
       "      <td>50.972000</td>\n",
       "    </tr>\n",
       "    <tr>\n",
       "      <th>5</th>\n",
       "      <td>69.5</td>\n",
       "      <td>72.067000</td>\n",
       "    </tr>\n",
       "    <tr>\n",
       "      <th>6</th>\n",
       "      <td>78.1</td>\n",
       "      <td>76.569000</td>\n",
       "    </tr>\n",
       "    <tr>\n",
       "      <th>7</th>\n",
       "      <td>61.8</td>\n",
       "      <td>63.706000</td>\n",
       "    </tr>\n",
       "    <tr>\n",
       "      <th>8</th>\n",
       "      <td>44.2</td>\n",
       "      <td>50.919000</td>\n",
       "    </tr>\n",
       "    <tr>\n",
       "      <th>9</th>\n",
       "      <td>54.8</td>\n",
       "      <td>56.575000</td>\n",
       "    </tr>\n",
       "    <tr>\n",
       "      <th>10</th>\n",
       "      <td>69.1</td>\n",
       "      <td>69.049000</td>\n",
       "    </tr>\n",
       "    <tr>\n",
       "      <th>11</th>\n",
       "      <td>73.9</td>\n",
       "      <td>68.189000</td>\n",
       "    </tr>\n",
       "    <tr>\n",
       "      <th>12</th>\n",
       "      <td>62.7</td>\n",
       "      <td>61.468000</td>\n",
       "    </tr>\n",
       "    <tr>\n",
       "      <th>13</th>\n",
       "      <td>145.1</td>\n",
       "      <td>127.945000</td>\n",
       "    </tr>\n",
       "    <tr>\n",
       "      <th>14</th>\n",
       "      <td>130.9</td>\n",
       "      <td>141.216000</td>\n",
       "    </tr>\n",
       "    <tr>\n",
       "      <th>15</th>\n",
       "      <td>56.8</td>\n",
       "      <td>57.370000</td>\n",
       "    </tr>\n",
       "    <tr>\n",
       "      <th>16</th>\n",
       "      <td>2.9</td>\n",
       "      <td>31.750000</td>\n",
       "    </tr>\n",
       "    <tr>\n",
       "      <th>17</th>\n",
       "      <td>60.9</td>\n",
       "      <td>63.138000</td>\n",
       "    </tr>\n",
       "  </tbody>\n",
       "</table>\n",
       "</div>"
      ],
      "text/plain": [
       "     Real     Predict\n",
       "0    75.7   72.889000\n",
       "1    50.7   52.932000\n",
       "2    43.5   49.428000\n",
       "3    57.9   80.269148\n",
       "4    46.7   50.972000\n",
       "5    69.5   72.067000\n",
       "6    78.1   76.569000\n",
       "7    61.8   63.706000\n",
       "8    44.2   50.919000\n",
       "9    54.8   56.575000\n",
       "10   69.1   69.049000\n",
       "11   73.9   68.189000\n",
       "12   62.7   61.468000\n",
       "13  145.1  127.945000\n",
       "14  130.9  141.216000\n",
       "15   56.8   57.370000\n",
       "16    2.9   31.750000\n",
       "17   60.9   63.138000"
      ]
     },
     "execution_count": 47,
     "metadata": {},
     "output_type": "execute_result"
    }
   ],
   "source": [
    "pd.DataFrame({\n",
    "    'Real' : Y_test[:,0],\n",
    "    'Predict' : y_prediction\n",
    "\n",
    "})"
   ]
  },
  {
   "cell_type": "markdown",
   "metadata": {},
   "source": [
    "#### Model Score\n",
    "__________"
   ]
  },
  {
   "cell_type": "code",
   "execution_count": 48,
   "metadata": {},
   "outputs": [
    {
     "name": "stdout",
     "output_type": "stream",
     "text": [
      "Training Data Score: 0.9029082241437658\n",
      "Testing Data Score: 0.8861790018972006\n"
     ]
    }
   ],
   "source": [
    "print(f\"Training Data Score: {regressor.score(X_train, Y_train)}\")\n",
    "print(f\"Testing Data Score: {regressor.score(X_test, Y_test)}\")"
   ]
  },
  {
   "cell_type": "markdown",
   "metadata": {},
   "source": [
    "#### Applying K-Fold Cross Validation\n",
    "_____"
   ]
  },
  {
   "cell_type": "code",
   "execution_count": 49,
   "metadata": {},
   "outputs": [
    {
     "name": "stderr",
     "output_type": "stream",
     "text": [
      "C:\\Users\\Alexandre\\Anaconda3\\lib\\site-packages\\sklearn\\model_selection\\_validation.py:458: DataConversionWarning: A column-vector y was passed when a 1d array was expected. Please change the shape of y to (n_samples,), for example using ravel().\n",
      "  estimator.fit(X_train, y_train, **fit_params)\n",
      "C:\\Users\\Alexandre\\Anaconda3\\lib\\site-packages\\sklearn\\model_selection\\_validation.py:458: DataConversionWarning: A column-vector y was passed when a 1d array was expected. Please change the shape of y to (n_samples,), for example using ravel().\n",
      "  estimator.fit(X_train, y_train, **fit_params)\n",
      "C:\\Users\\Alexandre\\Anaconda3\\lib\\site-packages\\sklearn\\model_selection\\_validation.py:458: DataConversionWarning: A column-vector y was passed when a 1d array was expected. Please change the shape of y to (n_samples,), for example using ravel().\n",
      "  estimator.fit(X_train, y_train, **fit_params)\n",
      "C:\\Users\\Alexandre\\Anaconda3\\lib\\site-packages\\sklearn\\model_selection\\_validation.py:458: DataConversionWarning: A column-vector y was passed when a 1d array was expected. Please change the shape of y to (n_samples,), for example using ravel().\n",
      "  estimator.fit(X_train, y_train, **fit_params)\n",
      "C:\\Users\\Alexandre\\Anaconda3\\lib\\site-packages\\sklearn\\model_selection\\_validation.py:458: DataConversionWarning: A column-vector y was passed when a 1d array was expected. Please change the shape of y to (n_samples,), for example using ravel().\n",
      "  estimator.fit(X_train, y_train, **fit_params)\n",
      "C:\\Users\\Alexandre\\Anaconda3\\lib\\site-packages\\sklearn\\model_selection\\_validation.py:458: DataConversionWarning: A column-vector y was passed when a 1d array was expected. Please change the shape of y to (n_samples,), for example using ravel().\n",
      "  estimator.fit(X_train, y_train, **fit_params)\n",
      "C:\\Users\\Alexandre\\Anaconda3\\lib\\site-packages\\sklearn\\model_selection\\_validation.py:458: DataConversionWarning: A column-vector y was passed when a 1d array was expected. Please change the shape of y to (n_samples,), for example using ravel().\n",
      "  estimator.fit(X_train, y_train, **fit_params)\n",
      "C:\\Users\\Alexandre\\Anaconda3\\lib\\site-packages\\sklearn\\model_selection\\_validation.py:458: DataConversionWarning: A column-vector y was passed when a 1d array was expected. Please change the shape of y to (n_samples,), for example using ravel().\n",
      "  estimator.fit(X_train, y_train, **fit_params)\n",
      "C:\\Users\\Alexandre\\Anaconda3\\lib\\site-packages\\sklearn\\model_selection\\_validation.py:458: DataConversionWarning: A column-vector y was passed when a 1d array was expected. Please change the shape of y to (n_samples,), for example using ravel().\n",
      "  estimator.fit(X_train, y_train, **fit_params)\n",
      "C:\\Users\\Alexandre\\Anaconda3\\lib\\site-packages\\sklearn\\model_selection\\_validation.py:458: DataConversionWarning: A column-vector y was passed when a 1d array was expected. Please change the shape of y to (n_samples,), for example using ravel().\n",
      "  estimator.fit(X_train, y_train, **fit_params)\n"
     ]
    }
   ],
   "source": [
    "accuracies = cross_val_score(estimator = regressor, X = X_train, y = Y_train, cv = 10)"
   ]
  },
  {
   "cell_type": "code",
   "execution_count": 50,
   "metadata": {},
   "outputs": [
    {
     "name": "stdout",
     "output_type": "stream",
     "text": [
      "[ 0.47274196  0.137318    0.63098629 -0.78757853  0.79100785 -0.5356216\n",
      " -0.04914697  0.70161257  0.34778323  0.75415615]\n"
     ]
    }
   ],
   "source": [
    "print (accuracies)"
   ]
  },
  {
   "cell_type": "code",
   "execution_count": 51,
   "metadata": {},
   "outputs": [
    {
     "data": {
      "text/plain": [
       "0.24632589485213208"
      ]
     },
     "execution_count": 51,
     "metadata": {},
     "output_type": "execute_result"
    }
   ],
   "source": [
    "accuracies.mean()"
   ]
  },
  {
   "cell_type": "code",
   "execution_count": 52,
   "metadata": {},
   "outputs": [
    {
     "data": {
      "text/plain": [
       "0.5244963848510852"
      ]
     },
     "execution_count": 52,
     "metadata": {},
     "output_type": "execute_result"
    }
   ],
   "source": [
    "accuracies.std()"
   ]
  },
  {
   "cell_type": "code",
   "execution_count": null,
   "metadata": {},
   "outputs": [],
   "source": []
  }
 ],
 "metadata": {
  "kernelspec": {
   "display_name": "Python 3",
   "language": "python",
   "name": "python3"
  },
  "language_info": {
   "codemirror_mode": {
    "name": "ipython",
    "version": 3
   },
   "file_extension": ".py",
   "mimetype": "text/x-python",
   "name": "python",
   "nbconvert_exporter": "python",
   "pygments_lexer": "ipython3",
   "version": "3.7.1"
  }
 },
 "nbformat": 4,
 "nbformat_minor": 2
}
