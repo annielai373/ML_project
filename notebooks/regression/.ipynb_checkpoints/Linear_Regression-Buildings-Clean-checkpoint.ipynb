{
 "cells": [
  {
   "cell_type": "markdown",
   "metadata": {},
   "source": [
    "# Linear Regression (Buildings)\n",
    "____"
   ]
  },
  {
   "cell_type": "markdown",
   "metadata": {},
   "source": [
    "#### Libraries\n",
    "____"
   ]
  },
  {
   "cell_type": "code",
   "execution_count": 142,
   "metadata": {},
   "outputs": [],
   "source": [
    "import numpy as np\n",
    "import matplotlib.pyplot as plt\n",
    "import pandas as pd\n",
    "import seaborn as sns\n",
    "\n",
    "from sklearn.model_selection import train_test_split \n",
    "from sklearn.linear_model import LinearRegression\n",
    "from sklearn.preprocessing import LabelEncoder\n",
    "from sklearn.preprocessing import OneHotEncoder\n",
    "from sklearn.model_selection import cross_val_score\n",
    "from sklearn import metrics\n",
    "\n",
    "import statsmodels.formula.api as sm\n",
    "import pickle\n",
    "\n",
    "%matplotlib inline"
   ]
  },
  {
   "cell_type": "markdown",
   "metadata": {},
   "source": [
    "#### Load dataset\n",
    "___"
   ]
  },
  {
   "cell_type": "code",
   "execution_count": 84,
   "metadata": {},
   "outputs": [
    {
     "data": {
      "text/html": [
       "<div>\n",
       "<style scoped>\n",
       "    .dataframe tbody tr th:only-of-type {\n",
       "        vertical-align: middle;\n",
       "    }\n",
       "\n",
       "    .dataframe tbody tr th {\n",
       "        vertical-align: top;\n",
       "    }\n",
       "\n",
       "    .dataframe thead th {\n",
       "        text-align: right;\n",
       "    }\n",
       "</style>\n",
       "<table border=\"1\" class=\"dataframe\">\n",
       "  <thead>\n",
       "    <tr style=\"text-align: right;\">\n",
       "      <th></th>\n",
       "      <th>bname</th>\n",
       "      <th>build_year</th>\n",
       "      <th>floor_area</th>\n",
       "      <th>occupy</th>\n",
       "      <th>water_use</th>\n",
       "      <th>ws_ngas</th>\n",
       "      <th>ws_elec</th>\n",
       "      <th>site_eui</th>\n",
       "    </tr>\n",
       "  </thead>\n",
       "  <tbody>\n",
       "    <tr>\n",
       "      <th>0</th>\n",
       "      <td>Multifamily</td>\n",
       "      <td>1903</td>\n",
       "      <td>412503.0</td>\n",
       "      <td>100</td>\n",
       "      <td>22061.0</td>\n",
       "      <td>0.0</td>\n",
       "      <td>3249755.2</td>\n",
       "      <td>32.0</td>\n",
       "    </tr>\n",
       "    <tr>\n",
       "      <th>1</th>\n",
       "      <td>General Medical</td>\n",
       "      <td>1950</td>\n",
       "      <td>567517.0</td>\n",
       "      <td>100</td>\n",
       "      <td>9574.0</td>\n",
       "      <td>2.2</td>\n",
       "      <td>18295844.6</td>\n",
       "      <td>352.7</td>\n",
       "    </tr>\n",
       "    <tr>\n",
       "      <th>2</th>\n",
       "      <td>Multifamily</td>\n",
       "      <td>1939</td>\n",
       "      <td>321464.0</td>\n",
       "      <td>100</td>\n",
       "      <td>5915.6</td>\n",
       "      <td>0.0</td>\n",
       "      <td>1121931.8</td>\n",
       "      <td>76.2</td>\n",
       "    </tr>\n",
       "    <tr>\n",
       "      <th>3</th>\n",
       "      <td>Multifamily</td>\n",
       "      <td>1911</td>\n",
       "      <td>54913.0</td>\n",
       "      <td>100</td>\n",
       "      <td>231.9</td>\n",
       "      <td>0.0</td>\n",
       "      <td>262377.2</td>\n",
       "      <td>17.9</td>\n",
       "    </tr>\n",
       "    <tr>\n",
       "      <th>4</th>\n",
       "      <td>Multifamily</td>\n",
       "      <td>1964</td>\n",
       "      <td>535632.0</td>\n",
       "      <td>100</td>\n",
       "      <td>8984.2</td>\n",
       "      <td>1.2</td>\n",
       "      <td>1620.0</td>\n",
       "      <td>115.9</td>\n",
       "    </tr>\n",
       "  </tbody>\n",
       "</table>\n",
       "</div>"
      ],
      "text/plain": [
       "             bname  build_year  floor_area  occupy  water_use  ws_ngas  \\\n",
       "0      Multifamily        1903    412503.0     100    22061.0      0.0   \n",
       "1  General Medical        1950    567517.0     100     9574.0      2.2   \n",
       "2      Multifamily        1939    321464.0     100     5915.6      0.0   \n",
       "3      Multifamily        1911     54913.0     100      231.9      0.0   \n",
       "4      Multifamily        1964    535632.0     100     8984.2      1.2   \n",
       "\n",
       "      ws_elec  site_eui  \n",
       "0   3249755.2      32.0  \n",
       "1  18295844.6     352.7  \n",
       "2   1121931.8      76.2  \n",
       "3    262377.2      17.9  \n",
       "4      1620.0     115.9  "
      ]
     },
     "execution_count": 84,
     "metadata": {},
     "output_type": "execute_result"
    }
   ],
   "source": [
    "dataset = '../../data/bpd/build_clean.csv'\n",
    "building = pd.read_csv(dataset)\n",
    "building.head(5)"
   ]
  },
  {
   "cell_type": "code",
   "execution_count": 85,
   "metadata": {},
   "outputs": [
    {
     "name": "stdout",
     "output_type": "stream",
     "text": [
      "<class 'pandas.core.frame.DataFrame'>\n",
      "RangeIndex: 6529 entries, 0 to 6528\n",
      "Data columns (total 8 columns):\n",
      "bname         6529 non-null object\n",
      "build_year    6529 non-null int64\n",
      "floor_area    6529 non-null float64\n",
      "occupy        6529 non-null int64\n",
      "water_use     6529 non-null float64\n",
      "ws_ngas       6529 non-null float64\n",
      "ws_elec       6529 non-null float64\n",
      "site_eui      6529 non-null float64\n",
      "dtypes: float64(5), int64(2), object(1)\n",
      "memory usage: 408.1+ KB\n"
     ]
    }
   ],
   "source": [
    "building.info()"
   ]
  },
  {
   "cell_type": "code",
   "execution_count": 86,
   "metadata": {},
   "outputs": [
    {
     "data": {
      "text/html": [
       "<div>\n",
       "<style scoped>\n",
       "    .dataframe tbody tr th:only-of-type {\n",
       "        vertical-align: middle;\n",
       "    }\n",
       "\n",
       "    .dataframe tbody tr th {\n",
       "        vertical-align: top;\n",
       "    }\n",
       "\n",
       "    .dataframe thead th {\n",
       "        text-align: right;\n",
       "    }\n",
       "</style>\n",
       "<table border=\"1\" class=\"dataframe\">\n",
       "  <thead>\n",
       "    <tr style=\"text-align: right;\">\n",
       "      <th></th>\n",
       "      <th>build_year</th>\n",
       "      <th>floor_area</th>\n",
       "      <th>occupy</th>\n",
       "      <th>water_use</th>\n",
       "      <th>ws_ngas</th>\n",
       "      <th>ws_elec</th>\n",
       "      <th>site_eui</th>\n",
       "    </tr>\n",
       "  </thead>\n",
       "  <tbody>\n",
       "    <tr>\n",
       "      <th>count</th>\n",
       "      <td>6529.000000</td>\n",
       "      <td>6.529000e+03</td>\n",
       "      <td>6529.000000</td>\n",
       "      <td>6.529000e+03</td>\n",
       "      <td>6529.000000</td>\n",
       "      <td>6.529000e+03</td>\n",
       "      <td>6529.000000</td>\n",
       "    </tr>\n",
       "    <tr>\n",
       "      <th>mean</th>\n",
       "      <td>1949.651095</td>\n",
       "      <td>1.368599e+05</td>\n",
       "      <td>99.152244</td>\n",
       "      <td>1.603062e+04</td>\n",
       "      <td>1.977179</td>\n",
       "      <td>1.476976e+06</td>\n",
       "      <td>260.574575</td>\n",
       "    </tr>\n",
       "    <tr>\n",
       "      <th>std</th>\n",
       "      <td>30.901407</td>\n",
       "      <td>1.711460e+05</td>\n",
       "      <td>5.532777</td>\n",
       "      <td>1.571960e+05</td>\n",
       "      <td>116.266859</td>\n",
       "      <td>9.362351e+06</td>\n",
       "      <td>10897.697301</td>\n",
       "    </tr>\n",
       "    <tr>\n",
       "      <th>min</th>\n",
       "      <td>1649.000000</td>\n",
       "      <td>5.000000e+02</td>\n",
       "      <td>0.000000</td>\n",
       "      <td>0.000000e+00</td>\n",
       "      <td>0.000000</td>\n",
       "      <td>0.000000e+00</td>\n",
       "      <td>0.000000</td>\n",
       "    </tr>\n",
       "    <tr>\n",
       "      <th>25%</th>\n",
       "      <td>1927.000000</td>\n",
       "      <td>6.467700e+04</td>\n",
       "      <td>100.000000</td>\n",
       "      <td>2.688400e+03</td>\n",
       "      <td>0.100000</td>\n",
       "      <td>2.873729e+05</td>\n",
       "      <td>64.400000</td>\n",
       "    </tr>\n",
       "    <tr>\n",
       "      <th>50%</th>\n",
       "      <td>1941.000000</td>\n",
       "      <td>8.703600e+04</td>\n",
       "      <td>100.000000</td>\n",
       "      <td>4.786800e+03</td>\n",
       "      <td>0.500000</td>\n",
       "      <td>4.853083e+05</td>\n",
       "      <td>79.200000</td>\n",
       "    </tr>\n",
       "    <tr>\n",
       "      <th>75%</th>\n",
       "      <td>1967.000000</td>\n",
       "      <td>1.387280e+05</td>\n",
       "      <td>100.000000</td>\n",
       "      <td>8.001200e+03</td>\n",
       "      <td>0.700000</td>\n",
       "      <td>1.058213e+06</td>\n",
       "      <td>96.800000</td>\n",
       "    </tr>\n",
       "    <tr>\n",
       "      <th>max</th>\n",
       "      <td>2019.000000</td>\n",
       "      <td>2.376683e+06</td>\n",
       "      <td>100.000000</td>\n",
       "      <td>6.594604e+06</td>\n",
       "      <td>9393.000000</td>\n",
       "      <td>4.520236e+08</td>\n",
       "      <td>869265.000000</td>\n",
       "    </tr>\n",
       "  </tbody>\n",
       "</table>\n",
       "</div>"
      ],
      "text/plain": [
       "        build_year    floor_area       occupy     water_use      ws_ngas  \\\n",
       "count  6529.000000  6.529000e+03  6529.000000  6.529000e+03  6529.000000   \n",
       "mean   1949.651095  1.368599e+05    99.152244  1.603062e+04     1.977179   \n",
       "std      30.901407  1.711460e+05     5.532777  1.571960e+05   116.266859   \n",
       "min    1649.000000  5.000000e+02     0.000000  0.000000e+00     0.000000   \n",
       "25%    1927.000000  6.467700e+04   100.000000  2.688400e+03     0.100000   \n",
       "50%    1941.000000  8.703600e+04   100.000000  4.786800e+03     0.500000   \n",
       "75%    1967.000000  1.387280e+05   100.000000  8.001200e+03     0.700000   \n",
       "max    2019.000000  2.376683e+06   100.000000  6.594604e+06  9393.000000   \n",
       "\n",
       "            ws_elec       site_eui  \n",
       "count  6.529000e+03    6529.000000  \n",
       "mean   1.476976e+06     260.574575  \n",
       "std    9.362351e+06   10897.697301  \n",
       "min    0.000000e+00       0.000000  \n",
       "25%    2.873729e+05      64.400000  \n",
       "50%    4.853083e+05      79.200000  \n",
       "75%    1.058213e+06      96.800000  \n",
       "max    4.520236e+08  869265.000000  "
      ]
     },
     "execution_count": 86,
     "metadata": {},
     "output_type": "execute_result"
    }
   ],
   "source": [
    "building.describe()"
   ]
  },
  {
   "cell_type": "markdown",
   "metadata": {},
   "source": [
    "#### Data cleanup\n",
    "___"
   ]
  },
  {
   "cell_type": "code",
   "execution_count": 87,
   "metadata": {},
   "outputs": [
    {
     "data": {
      "image/png": "[encoded data removed]",
      "text/plain": [
       "<Figure size 1152x432 with 1 Axes>"
      ]
     },
     "metadata": {
      "needs_background": "light"
     },
     "output_type": "display_data"
    }
   ],
   "source": [
    "plt.figure(figsize=(16,6))\n",
    "\n",
    "sns.heatmap(building.isnull(), yticklabels=False, cbar=False, cmap='viridis')\n",
    "plt.show()"
   ]
  },
  {
   "cell_type": "markdown",
   "metadata": {},
   "source": [
    "#### Correlations\n",
    "___"
   ]
  },
  {
   "cell_type": "code",
   "execution_count": 88,
   "metadata": {},
   "outputs": [
    {
     "data": {
      "image/png": "[encoded data removed]",
      "text/plain": [
       "<Figure size 1728x864 with 2 Axes>"
      ]
     },
     "metadata": {
      "needs_background": "light"
     },
     "output_type": "display_data"
    }
   ],
   "source": [
    "plt.figure(figsize=(24,12))\n",
    "\n",
    "sns.heatmap(building.corr(), annot=True, annot_kws={\"size\": 9}, cmap='YlGnBu')\n",
    "plt.show()"
   ]
  },
  {
   "cell_type": "markdown",
   "metadata": {},
   "source": [
    "#### Distributions\n",
    "___"
   ]
  },
  {
   "cell_type": "code",
   "execution_count": 89,
   "metadata": {},
   "outputs": [
    {
     "data": {
      "text/plain": [
       "<matplotlib.axes._subplots.AxesSubplot at 0x1b9362c37b8>"
      ]
     },
     "execution_count": 89,
     "metadata": {},
     "output_type": "execute_result"
    },
    {
     "data": {
      "image/png": "[encoded data removed]",
      "text/plain": [
       "<Figure size 432x288 with 1 Axes>"
      ]
     },
     "metadata": {
      "needs_background": "light"
     },
     "output_type": "display_data"
    }
   ],
   "source": [
    "sns.distplot(building['site_eui'], kde=False, bins=30)"
   ]
  },
  {
   "cell_type": "code",
   "execution_count": 90,
   "metadata": {},
   "outputs": [
    {
     "data": {
      "text/plain": [
       "count      6529.000000\n",
       "mean        260.574575\n",
       "std       10897.697301\n",
       "min           0.000000\n",
       "25%          64.400000\n",
       "50%          79.200000\n",
       "75%          96.800000\n",
       "max      869265.000000\n",
       "Name: site_eui, dtype: float64"
      ]
     },
     "execution_count": 90,
     "metadata": {},
     "output_type": "execute_result"
    }
   ],
   "source": [
    "building['site_eui'].describe()"
   ]
  },
  {
   "cell_type": "code",
   "execution_count": 91,
   "metadata": {},
   "outputs": [
    {
     "data": {
      "text/plain": [
       "<seaborn.axisgrid.PairGrid at 0x1b9363e74a8>"
      ]
     },
     "execution_count": 91,
     "metadata": {},
     "output_type": "execute_result"
    },
    {
     "data": {
      "image/png": "[encoded data removed]",
      "text/plain": [
       "<Figure size 1260x1260 with 56 Axes>"
      ]
     },
     "metadata": {
      "needs_background": "light"
     },
     "output_type": "display_data"
    }
   ],
   "source": [
    "sns.pairplot(building, palette='coolwarm')"
   ]
  },
  {
   "cell_type": "code",
   "execution_count": 92,
   "metadata": {},
   "outputs": [
    {
     "data": {
      "image/png": "[encoded data removed]",
      "text/plain": [
       "<Figure size 432x432 with 3 Axes>"
      ]
     },
     "metadata": {
      "needs_background": "light"
     },
     "output_type": "display_data"
    }
   ],
   "source": [
    "sns.jointplot(x='ws_ngas', y='site_eui', data=building, kind='reg');"
   ]
  },
  {
   "cell_type": "markdown",
   "metadata": {},
   "source": [
    "#### Converting Categorical Features\n",
    "___"
   ]
  },
  {
   "cell_type": "code",
   "execution_count": 93,
   "metadata": {},
   "outputs": [
    {
     "data": {
      "text/plain": [
       "array(['Multifamily', 'General Medical', 'Education', 'Office', 'Retail',\n",
       "       'Entertainment', 'Hotel', 'Parking', 'Facility', 'Other',\n",
       "       'Food Service', 'Gas Station'], dtype=object)"
      ]
     },
     "execution_count": 93,
     "metadata": {},
     "output_type": "execute_result"
    }
   ],
   "source": [
    "building['bname'].unique()"
   ]
  },
  {
   "cell_type": "code",
   "execution_count": 94,
   "metadata": {},
   "outputs": [
    {
     "data": {
      "text/plain": [
       "12"
      ]
     },
     "execution_count": 94,
     "metadata": {},
     "output_type": "execute_result"
    }
   ],
   "source": [
    "building['bname'].nunique()"
   ]
  },
  {
   "cell_type": "code",
   "execution_count": 95,
   "metadata": {},
   "outputs": [
    {
     "data": {
      "image/png": "[encoded data removed]",
      "text/plain": [
       "<Figure size 1152x432 with 1 Axes>"
      ]
     },
     "metadata": {
      "needs_background": "light"
     },
     "output_type": "display_data"
    }
   ],
   "source": [
    "plt.figure(figsize=(16,6))\n",
    "ax = sns.countplot(x='bname', data=building, palette='YlGnBu')\n",
    "ax.set_xticklabels(ax.get_xticklabels(), rotation=40, ha=\"right\")\n",
    "plt.tight_layout()\n",
    "\n",
    "plt.show()"
   ]
  },
  {
   "cell_type": "code",
   "execution_count": 96,
   "metadata": {},
   "outputs": [
    {
     "data": {
      "text/html": [
       "<div>\n",
       "<style scoped>\n",
       "    .dataframe tbody tr th:only-of-type {\n",
       "        vertical-align: middle;\n",
       "    }\n",
       "\n",
       "    .dataframe tbody tr th {\n",
       "        vertical-align: top;\n",
       "    }\n",
       "\n",
       "    .dataframe thead th {\n",
       "        text-align: right;\n",
       "    }\n",
       "</style>\n",
       "<table border=\"1\" class=\"dataframe\">\n",
       "  <thead>\n",
       "    <tr style=\"text-align: right;\">\n",
       "      <th></th>\n",
       "      <th>Entertainment</th>\n",
       "      <th>Facility</th>\n",
       "      <th>Food Service</th>\n",
       "      <th>Gas Station</th>\n",
       "      <th>General Medical</th>\n",
       "      <th>Hotel</th>\n",
       "      <th>Multifamily</th>\n",
       "      <th>Office</th>\n",
       "      <th>Other</th>\n",
       "      <th>Parking</th>\n",
       "      <th>Retail</th>\n",
       "      <th>build_year</th>\n",
       "      <th>floor_area</th>\n",
       "      <th>occupy</th>\n",
       "      <th>water_use</th>\n",
       "      <th>ws_ngas</th>\n",
       "      <th>ws_elec</th>\n",
       "      <th>site_eui</th>\n",
       "    </tr>\n",
       "  </thead>\n",
       "  <tbody>\n",
       "    <tr>\n",
       "      <th>0</th>\n",
       "      <td>0</td>\n",
       "      <td>0</td>\n",
       "      <td>0</td>\n",
       "      <td>0</td>\n",
       "      <td>0</td>\n",
       "      <td>0</td>\n",
       "      <td>1</td>\n",
       "      <td>0</td>\n",
       "      <td>0</td>\n",
       "      <td>0</td>\n",
       "      <td>0</td>\n",
       "      <td>1903</td>\n",
       "      <td>412503.0</td>\n",
       "      <td>100</td>\n",
       "      <td>22061.0</td>\n",
       "      <td>0.0</td>\n",
       "      <td>3249755.2</td>\n",
       "      <td>32.0</td>\n",
       "    </tr>\n",
       "    <tr>\n",
       "      <th>1</th>\n",
       "      <td>0</td>\n",
       "      <td>0</td>\n",
       "      <td>0</td>\n",
       "      <td>0</td>\n",
       "      <td>1</td>\n",
       "      <td>0</td>\n",
       "      <td>0</td>\n",
       "      <td>0</td>\n",
       "      <td>0</td>\n",
       "      <td>0</td>\n",
       "      <td>0</td>\n",
       "      <td>1950</td>\n",
       "      <td>567517.0</td>\n",
       "      <td>100</td>\n",
       "      <td>9574.0</td>\n",
       "      <td>2.2</td>\n",
       "      <td>18295844.6</td>\n",
       "      <td>352.7</td>\n",
       "    </tr>\n",
       "    <tr>\n",
       "      <th>2</th>\n",
       "      <td>0</td>\n",
       "      <td>0</td>\n",
       "      <td>0</td>\n",
       "      <td>0</td>\n",
       "      <td>0</td>\n",
       "      <td>0</td>\n",
       "      <td>1</td>\n",
       "      <td>0</td>\n",
       "      <td>0</td>\n",
       "      <td>0</td>\n",
       "      <td>0</td>\n",
       "      <td>1939</td>\n",
       "      <td>321464.0</td>\n",
       "      <td>100</td>\n",
       "      <td>5915.6</td>\n",
       "      <td>0.0</td>\n",
       "      <td>1121931.8</td>\n",
       "      <td>76.2</td>\n",
       "    </tr>\n",
       "    <tr>\n",
       "      <th>3</th>\n",
       "      <td>0</td>\n",
       "      <td>0</td>\n",
       "      <td>0</td>\n",
       "      <td>0</td>\n",
       "      <td>0</td>\n",
       "      <td>0</td>\n",
       "      <td>1</td>\n",
       "      <td>0</td>\n",
       "      <td>0</td>\n",
       "      <td>0</td>\n",
       "      <td>0</td>\n",
       "      <td>1911</td>\n",
       "      <td>54913.0</td>\n",
       "      <td>100</td>\n",
       "      <td>231.9</td>\n",
       "      <td>0.0</td>\n",
       "      <td>262377.2</td>\n",
       "      <td>17.9</td>\n",
       "    </tr>\n",
       "    <tr>\n",
       "      <th>4</th>\n",
       "      <td>0</td>\n",
       "      <td>0</td>\n",
       "      <td>0</td>\n",
       "      <td>0</td>\n",
       "      <td>0</td>\n",
       "      <td>0</td>\n",
       "      <td>1</td>\n",
       "      <td>0</td>\n",
       "      <td>0</td>\n",
       "      <td>0</td>\n",
       "      <td>0</td>\n",
       "      <td>1964</td>\n",
       "      <td>535632.0</td>\n",
       "      <td>100</td>\n",
       "      <td>8984.2</td>\n",
       "      <td>1.2</td>\n",
       "      <td>1620.0</td>\n",
       "      <td>115.9</td>\n",
       "    </tr>\n",
       "  </tbody>\n",
       "</table>\n",
       "</div>"
      ],
      "text/plain": [
       "   Entertainment  Facility  Food Service  Gas Station  General Medical  Hotel  \\\n",
       "0              0         0             0            0                0      0   \n",
       "1              0         0             0            0                1      0   \n",
       "2              0         0             0            0                0      0   \n",
       "3              0         0             0            0                0      0   \n",
       "4              0         0             0            0                0      0   \n",
       "\n",
       "   Multifamily  Office  Other  Parking  Retail  build_year  floor_area  \\\n",
       "0            1       0      0        0       0        1903    412503.0   \n",
       "1            0       0      0        0       0        1950    567517.0   \n",
       "2            1       0      0        0       0        1939    321464.0   \n",
       "3            1       0      0        0       0        1911     54913.0   \n",
       "4            1       0      0        0       0        1964    535632.0   \n",
       "\n",
       "   occupy  water_use  ws_ngas     ws_elec  site_eui  \n",
       "0     100    22061.0      0.0   3249755.2      32.0  \n",
       "1     100     9574.0      2.2  18295844.6     352.7  \n",
       "2     100     5915.6      0.0   1121931.8      76.2  \n",
       "3     100      231.9      0.0    262377.2      17.9  \n",
       "4     100     8984.2      1.2      1620.0     115.9  "
      ]
     },
     "execution_count": 96,
     "metadata": {},
     "output_type": "execute_result"
    }
   ],
   "source": [
    "bname_categorical = pd.get_dummies(building['bname'])\n",
    "\n",
    "# Avoiding the Dummy Variable Trap\n",
    "bname_categorical.drop(bname_categorical.columns[0], axis=1, inplace=True)\n",
    "\n",
    "# Merge datasets\n",
    "building.drop(['bname'], axis=1, inplace=True)\n",
    "building = pd.concat([bname_categorical, building], axis=1)\n",
    "\n",
    "building.head(5)"
   ]
  },
  {
   "cell_type": "markdown",
   "metadata": {},
   "source": [
    "#### Define X, Y variables\n",
    "___"
   ]
  },
  {
   "cell_type": "code",
   "execution_count": 97,
   "metadata": {},
   "outputs": [
    {
     "name": "stdout",
     "output_type": "stream",
     "text": [
      "(6529, 17) (6529,)\n"
     ]
    }
   ],
   "source": [
    "X = building.drop('site_eui', axis=1)\n",
    "Y = building['site_eui']\n",
    "\n",
    "print (X.shape, Y.shape)"
   ]
  },
  {
   "cell_type": "markdown",
   "metadata": {},
   "source": [
    "#### Split dataset (TRAIN/TEST) data\n",
    "____"
   ]
  },
  {
   "cell_type": "code",
   "execution_count": 98,
   "metadata": {},
   "outputs": [],
   "source": [
    "X_train, X_test, Y_train, Y_test = train_test_split(X, Y, test_size = 0.3, random_state = 101)"
   ]
  },
  {
   "cell_type": "code",
   "execution_count": 99,
   "metadata": {},
   "outputs": [
    {
     "data": {
      "text/plain": [
       "LinearRegression(copy_X=True, fit_intercept=True, n_jobs=1, normalize=False)"
      ]
     },
     "execution_count": 99,
     "metadata": {},
     "output_type": "execute_result"
    }
   ],
   "source": [
    "regressor = LinearRegression() \n",
    "regressor.fit(X_train, Y_train)"
   ]
  },
  {
   "cell_type": "markdown",
   "metadata": {},
   "source": [
    "#### Fitting Simple Linear Regression to the Training Set\n",
    "_____"
   ]
  },
  {
   "cell_type": "code",
   "execution_count": 100,
   "metadata": {},
   "outputs": [],
   "source": [
    "y_prediction = regressor.predict(X_test)"
   ]
  },
  {
   "cell_type": "markdown",
   "metadata": {},
   "source": [
    "#### Real x Predict\n",
    "_____"
   ]
  },
  {
   "cell_type": "code",
   "execution_count": 101,
   "metadata": {},
   "outputs": [
    {
     "data": {
      "text/html": [
       "<div>\n",
       "<style scoped>\n",
       "    .dataframe tbody tr th:only-of-type {\n",
       "        vertical-align: middle;\n",
       "    }\n",
       "\n",
       "    .dataframe tbody tr th {\n",
       "        vertical-align: top;\n",
       "    }\n",
       "\n",
       "    .dataframe thead th {\n",
       "        text-align: right;\n",
       "    }\n",
       "</style>\n",
       "<table border=\"1\" class=\"dataframe\">\n",
       "  <thead>\n",
       "    <tr style=\"text-align: right;\">\n",
       "      <th></th>\n",
       "      <th>Real</th>\n",
       "      <th>Predict</th>\n",
       "    </tr>\n",
       "  </thead>\n",
       "  <tbody>\n",
       "    <tr>\n",
       "      <th>1233</th>\n",
       "      <td>66.5</td>\n",
       "      <td>21.314929</td>\n",
       "    </tr>\n",
       "    <tr>\n",
       "      <th>1439</th>\n",
       "      <td>57.7</td>\n",
       "      <td>59.029385</td>\n",
       "    </tr>\n",
       "    <tr>\n",
       "      <th>4067</th>\n",
       "      <td>57.1</td>\n",
       "      <td>117.027537</td>\n",
       "    </tr>\n",
       "    <tr>\n",
       "      <th>5867</th>\n",
       "      <td>44.1</td>\n",
       "      <td>126.335705</td>\n",
       "    </tr>\n",
       "    <tr>\n",
       "      <th>1222</th>\n",
       "      <td>115.9</td>\n",
       "      <td>138.257606</td>\n",
       "    </tr>\n",
       "    <tr>\n",
       "      <th>2678</th>\n",
       "      <td>108.4</td>\n",
       "      <td>76.333050</td>\n",
       "    </tr>\n",
       "    <tr>\n",
       "      <th>4551</th>\n",
       "      <td>54.4</td>\n",
       "      <td>103.685462</td>\n",
       "    </tr>\n",
       "    <tr>\n",
       "      <th>1722</th>\n",
       "      <td>78.0</td>\n",
       "      <td>148.875818</td>\n",
       "    </tr>\n",
       "    <tr>\n",
       "      <th>6101</th>\n",
       "      <td>163.1</td>\n",
       "      <td>115.528374</td>\n",
       "    </tr>\n",
       "    <tr>\n",
       "      <th>4206</th>\n",
       "      <td>84.2</td>\n",
       "      <td>171.805535</td>\n",
       "    </tr>\n",
       "  </tbody>\n",
       "</table>\n",
       "</div>"
      ],
      "text/plain": [
       "       Real     Predict\n",
       "1233   66.5   21.314929\n",
       "1439   57.7   59.029385\n",
       "4067   57.1  117.027537\n",
       "5867   44.1  126.335705\n",
       "1222  115.9  138.257606\n",
       "2678  108.4   76.333050\n",
       "4551   54.4  103.685462\n",
       "1722   78.0  148.875818\n",
       "6101  163.1  115.528374\n",
       "4206   84.2  171.805535"
      ]
     },
     "execution_count": 101,
     "metadata": {},
     "output_type": "execute_result"
    }
   ],
   "source": [
    "pd.DataFrame({\n",
    "    'Real' : Y_test,\n",
    "    'Predict' : y_prediction\n",
    "\n",
    "}).head(10)"
   ]
  },
  {
   "cell_type": "markdown",
   "metadata": {},
   "source": [
    "#### Model Score\n",
    "__________"
   ]
  },
  {
   "cell_type": "code",
   "execution_count": 102,
   "metadata": {},
   "outputs": [
    {
     "name": "stdout",
     "output_type": "stream",
     "text": [
      "Training Data Score: 0.9761254912603432\n",
      "Testing Data Score: 0.7325170924328764\n"
     ]
    }
   ],
   "source": [
    "print(f\"Training Data Score: {regressor.score(X_train, Y_train)}\")\n",
    "print(f\"Testing Data Score: {regressor.score(X_test, Y_test)}\")"
   ]
  },
  {
   "cell_type": "markdown",
   "metadata": {},
   "source": [
    "#### Model Evaluation\n",
    "__________"
   ]
  },
  {
   "cell_type": "code",
   "execution_count": 103,
   "metadata": {},
   "outputs": [
    {
     "name": "stdout",
     "output_type": "stream",
     "text": [
      "-1334.7215723444947\n"
     ]
    }
   ],
   "source": [
    "print (regressor.intercept_)"
   ]
  },
  {
   "cell_type": "code",
   "execution_count": 104,
   "metadata": {},
   "outputs": [
    {
     "data": {
      "text/html": [
       "<div>\n",
       "<style scoped>\n",
       "    .dataframe tbody tr th:only-of-type {\n",
       "        vertical-align: middle;\n",
       "    }\n",
       "\n",
       "    .dataframe tbody tr th {\n",
       "        vertical-align: top;\n",
       "    }\n",
       "\n",
       "    .dataframe thead th {\n",
       "        text-align: right;\n",
       "    }\n",
       "</style>\n",
       "<table border=\"1\" class=\"dataframe\">\n",
       "  <thead>\n",
       "    <tr style=\"text-align: right;\">\n",
       "      <th></th>\n",
       "      <th>Coefficient</th>\n",
       "    </tr>\n",
       "  </thead>\n",
       "  <tbody>\n",
       "    <tr>\n",
       "      <th>Entertainment</th>\n",
       "      <td>-4.771537e+01</td>\n",
       "    </tr>\n",
       "    <tr>\n",
       "      <th>Facility</th>\n",
       "      <td>-6.569775e+01</td>\n",
       "    </tr>\n",
       "    <tr>\n",
       "      <th>Food Service</th>\n",
       "      <td>-6.097467e+01</td>\n",
       "    </tr>\n",
       "    <tr>\n",
       "      <th>Gas Station</th>\n",
       "      <td>1.306397e-09</td>\n",
       "    </tr>\n",
       "    <tr>\n",
       "      <th>General Medical</th>\n",
       "      <td>-8.780938e+01</td>\n",
       "    </tr>\n",
       "    <tr>\n",
       "      <th>Hotel</th>\n",
       "      <td>5.445136e+02</td>\n",
       "    </tr>\n",
       "    <tr>\n",
       "      <th>Multifamily</th>\n",
       "      <td>7.198888e+00</td>\n",
       "    </tr>\n",
       "    <tr>\n",
       "      <th>Office</th>\n",
       "      <td>-4.799911e+01</td>\n",
       "    </tr>\n",
       "    <tr>\n",
       "      <th>Other</th>\n",
       "      <td>-4.607434e+01</td>\n",
       "    </tr>\n",
       "    <tr>\n",
       "      <th>Parking</th>\n",
       "      <td>-1.205710e+01</td>\n",
       "    </tr>\n",
       "    <tr>\n",
       "      <th>Retail</th>\n",
       "      <td>-8.240090e+01</td>\n",
       "    </tr>\n",
       "    <tr>\n",
       "      <th>build_year</th>\n",
       "      <td>8.688670e-01</td>\n",
       "    </tr>\n",
       "    <tr>\n",
       "      <th>floor_area</th>\n",
       "      <td>-6.934155e-04</td>\n",
       "    </tr>\n",
       "    <tr>\n",
       "      <th>occupy</th>\n",
       "      <td>-2.414732e+00</td>\n",
       "    </tr>\n",
       "    <tr>\n",
       "      <th>water_use</th>\n",
       "      <td>-2.966149e-05</td>\n",
       "    </tr>\n",
       "    <tr>\n",
       "      <th>ws_ngas</th>\n",
       "      <td>9.252780e+01</td>\n",
       "    </tr>\n",
       "    <tr>\n",
       "      <th>ws_elec</th>\n",
       "      <td>3.776702e-05</td>\n",
       "    </tr>\n",
       "  </tbody>\n",
       "</table>\n",
       "</div>"
      ],
      "text/plain": [
       "                  Coefficient\n",
       "Entertainment   -4.771537e+01\n",
       "Facility        -6.569775e+01\n",
       "Food Service    -6.097467e+01\n",
       "Gas Station      1.306397e-09\n",
       "General Medical -8.780938e+01\n",
       "Hotel            5.445136e+02\n",
       "Multifamily      7.198888e+00\n",
       "Office          -4.799911e+01\n",
       "Other           -4.607434e+01\n",
       "Parking         -1.205710e+01\n",
       "Retail          -8.240090e+01\n",
       "build_year       8.688670e-01\n",
       "floor_area      -6.934155e-04\n",
       "occupy          -2.414732e+00\n",
       "water_use       -2.966149e-05\n",
       "ws_ngas          9.252780e+01\n",
       "ws_elec          3.776702e-05"
      ]
     },
     "execution_count": 104,
     "metadata": {},
     "output_type": "execute_result"
    }
   ],
   "source": [
    "coeff_df = pd.DataFrame(regressor.coef_,X.columns,columns=['Coefficient'])\n",
    "coeff_df"
   ]
  },
  {
   "cell_type": "markdown",
   "metadata": {},
   "source": [
    "#### Metrics\n",
    "__________"
   ]
  },
  {
   "cell_type": "code",
   "execution_count": 105,
   "metadata": {},
   "outputs": [
    {
     "name": "stdout",
     "output_type": "stream",
     "text": [
      "MAE: 84.55651507071745\n",
      "MSE: 100930.88403617467\n",
      "RMSE: 317.6962134432431\n"
     ]
    }
   ],
   "source": [
    "print('MAE:', metrics.mean_absolute_error(Y_test, y_prediction))\n",
    "print('MSE:', metrics.mean_squared_error(Y_test, y_prediction))\n",
    "print('RMSE:', np.sqrt(metrics.mean_squared_error(Y_test, y_prediction)))"
   ]
  },
  {
   "cell_type": "markdown",
   "metadata": {},
   "source": [
    "### Backward Elimination\n",
    "___"
   ]
  },
  {
   "cell_type": "code",
   "execution_count": 121,
   "metadata": {},
   "outputs": [
    {
     "data": {
      "text/plain": [
       "(6529, 18)"
      ]
     },
     "execution_count": 121,
     "metadata": {},
     "output_type": "execute_result"
    }
   ],
   "source": [
    "# appending x0 = 1 \n",
    "X = np.append(arr = np.ones((len(X), 1)).astype(int), values = X, axis =1)\n",
    "\n",
    "X.shape"
   ]
  },
  {
   "cell_type": "code",
   "execution_count": 124,
   "metadata": {},
   "outputs": [
    {
     "data": {
      "text/plain": [
       "array([1.])"
      ]
     },
     "execution_count": 124,
     "metadata": {},
     "output_type": "execute_result"
    }
   ],
   "source": [
    "np.unique(X[:,0])"
   ]
  },
  {
   "cell_type": "code",
   "execution_count": null,
   "metadata": {},
   "outputs": [],
   "source": []
  },
  {
   "cell_type": "markdown",
   "metadata": {},
   "source": [
    "#### Runnning OLS analyis \n",
    "_____"
   ]
  },
  {
   "cell_type": "code",
   "execution_count": 129,
   "metadata": {},
   "outputs": [
    {
     "data": {
      "text/plain": [
       "Index(['Entertainment', 'Facility', 'Food Service', 'Gas Station',\n",
       "       'General Medical', 'Hotel', 'Multifamily', 'Office', 'Other', 'Parking',\n",
       "       'Retail', 'build_year', 'floor_area', 'occupy', 'water_use', 'ws_ngas',\n",
       "       'ws_elec', 'site_eui'],\n",
       "      dtype='object')"
      ]
     },
     "execution_count": 129,
     "metadata": {},
     "output_type": "execute_result"
    }
   ],
   "source": [
    "building.columns"
   ]
  },
  {
   "cell_type": "code",
   "execution_count": 130,
   "metadata": {},
   "outputs": [
    {
     "data": {
      "text/plain": [
       "(6529, 18)"
      ]
     },
     "execution_count": 130,
     "metadata": {},
     "output_type": "execute_result"
    }
   ],
   "source": [
    "X.shape"
   ]
  },
  {
   "cell_type": "code",
   "execution_count": 131,
   "metadata": {},
   "outputs": [
    {
     "data": {
      "text/html": [
       "<table class=\"simpletable\">\n",
       "<caption>OLS Regression Results</caption>\n",
       "<tr>\n",
       "  <th>Dep. Variable:</th>        <td>site_eui</td>     <th>  R-squared:         </th> <td>   0.976</td> \n",
       "</tr>\n",
       "<tr>\n",
       "  <th>Model:</th>                   <td>OLS</td>       <th>  Adj. R-squared:    </th> <td>   0.976</td> \n",
       "</tr>\n",
       "<tr>\n",
       "  <th>Method:</th>             <td>Least Squares</td>  <th>  F-statistic:       </th> <td>1.552e+04</td>\n",
       "</tr>\n",
       "<tr>\n",
       "  <th>Date:</th>             <td>Mon, 05 Aug 2019</td> <th>  Prob (F-statistic):</th>  <td>  0.00</td>  \n",
       "</tr>\n",
       "<tr>\n",
       "  <th>Time:</th>                 <td>21:19:44</td>     <th>  Log-Likelihood:    </th> <td> -57795.</td> \n",
       "</tr>\n",
       "<tr>\n",
       "  <th>No. Observations:</th>      <td>  6529</td>      <th>  AIC:               </th> <td>1.156e+05</td>\n",
       "</tr>\n",
       "<tr>\n",
       "  <th>Df Residuals:</th>          <td>  6511</td>      <th>  BIC:               </th> <td>1.157e+05</td>\n",
       "</tr>\n",
       "<tr>\n",
       "  <th>Df Model:</th>              <td>    17</td>      <th>                     </th>     <td> </td>    \n",
       "</tr>\n",
       "<tr>\n",
       "  <th>Covariance Type:</th>      <td>nonrobust</td>    <th>                     </th>     <td> </td>    \n",
       "</tr>\n",
       "</table>\n",
       "<table class=\"simpletable\">\n",
       "<tr>\n",
       "    <td></td>       <th>coef</th>     <th>std err</th>      <th>t</th>      <th>P>|t|</th>  <th>[0.025</th>    <th>0.975]</th>  \n",
       "</tr>\n",
       "<tr>\n",
       "  <th>const</th> <td> -586.4847</td> <td> 1432.184</td> <td>   -0.410</td> <td> 0.682</td> <td>-3394.036</td> <td> 2221.067</td>\n",
       "</tr>\n",
       "<tr>\n",
       "  <th>x1</th>    <td>  -19.0905</td> <td>  440.475</td> <td>   -0.043</td> <td> 0.965</td> <td> -882.567</td> <td>  844.386</td>\n",
       "</tr>\n",
       "<tr>\n",
       "  <th>x2</th>    <td>  -37.2756</td> <td>  216.097</td> <td>   -0.172</td> <td> 0.863</td> <td> -460.897</td> <td>  386.345</td>\n",
       "</tr>\n",
       "<tr>\n",
       "  <th>x3</th>    <td>  -26.5255</td> <td> 1703.629</td> <td>   -0.016</td> <td> 0.988</td> <td>-3366.197</td> <td> 3313.146</td>\n",
       "</tr>\n",
       "<tr>\n",
       "  <th>x4</th>    <td>  -55.2941</td> <td> 1703.689</td> <td>   -0.032</td> <td> 0.974</td> <td>-3395.085</td> <td> 3284.497</td>\n",
       "</tr>\n",
       "<tr>\n",
       "  <th>x5</th>    <td>  -97.9612</td> <td>  342.660</td> <td>   -0.286</td> <td> 0.775</td> <td> -769.688</td> <td>  573.765</td>\n",
       "</tr>\n",
       "<tr>\n",
       "  <th>x6</th>    <td>  378.5786</td> <td>  234.874</td> <td>    1.612</td> <td> 0.107</td> <td>  -81.852</td> <td>  839.009</td>\n",
       "</tr>\n",
       "<tr>\n",
       "  <th>x7</th>    <td>   16.1918</td> <td>  187.406</td> <td>    0.086</td> <td> 0.931</td> <td> -351.185</td> <td>  383.569</td>\n",
       "</tr>\n",
       "<tr>\n",
       "  <th>x8</th>    <td>  -38.1499</td> <td>  198.807</td> <td>   -0.192</td> <td> 0.848</td> <td> -427.876</td> <td>  351.576</td>\n",
       "</tr>\n",
       "<tr>\n",
       "  <th>x9</th>    <td>  -27.4472</td> <td>  270.989</td> <td>   -0.101</td> <td> 0.919</td> <td> -558.675</td> <td>  503.781</td>\n",
       "</tr>\n",
       "<tr>\n",
       "  <th>x10</th>   <td>  -11.8697</td> <td>  492.519</td> <td>   -0.024</td> <td> 0.981</td> <td> -977.369</td> <td>  953.630</td>\n",
       "</tr>\n",
       "<tr>\n",
       "  <th>x11</th>   <td>  -58.4324</td> <td>  265.306</td> <td>   -0.220</td> <td> 0.826</td> <td> -578.520</td> <td>  461.655</td>\n",
       "</tr>\n",
       "<tr>\n",
       "  <th>x12</th>   <td>    0.3985</td> <td>    0.700</td> <td>    0.569</td> <td> 0.569</td> <td>   -0.974</td> <td>    1.771</td>\n",
       "</tr>\n",
       "<tr>\n",
       "  <th>x13</th>   <td>   -0.0006</td> <td>    0.000</td> <td>   -4.247</td> <td> 0.000</td> <td>   -0.001</td> <td>   -0.000</td>\n",
       "</tr>\n",
       "<tr>\n",
       "  <th>x14</th>   <td>   -1.1107</td> <td>    3.874</td> <td>   -0.287</td> <td> 0.774</td> <td>   -8.704</td> <td>    6.483</td>\n",
       "</tr>\n",
       "<tr>\n",
       "  <th>x15</th>   <td> -2.04e-05</td> <td>    0.000</td> <td>   -0.150</td> <td> 0.881</td> <td>   -0.000</td> <td>    0.000</td>\n",
       "</tr>\n",
       "<tr>\n",
       "  <th>x16</th>   <td>   92.5340</td> <td>    0.180</td> <td>  513.047</td> <td> 0.000</td> <td>   92.180</td> <td>   92.888</td>\n",
       "</tr>\n",
       "<tr>\n",
       "  <th>x17</th>   <td>   4.1e-05</td> <td> 2.35e-06</td> <td>   17.439</td> <td> 0.000</td> <td> 3.64e-05</td> <td> 4.56e-05</td>\n",
       "</tr>\n",
       "</table>\n",
       "<table class=\"simpletable\">\n",
       "<tr>\n",
       "  <th>Omnibus:</th>       <td>22902.942</td> <th>  Durbin-Watson:     </th>    <td>   2.002</td>   \n",
       "</tr>\n",
       "<tr>\n",
       "  <th>Prob(Omnibus):</th>  <td> 0.000</td>   <th>  Jarque-Bera (JB):  </th> <td>6458476746.620</td>\n",
       "</tr>\n",
       "<tr>\n",
       "  <th>Skew:</th>           <td>67.740</td>   <th>  Prob(JB):          </th>    <td>    0.00</td>   \n",
       "</tr>\n",
       "<tr>\n",
       "  <th>Kurtosis:</th>      <td>4873.566</td>  <th>  Cond. No.          </th>    <td>7.76e+08</td>   \n",
       "</tr>\n",
       "</table><br/><br/>Warnings:<br/>[1] Standard Errors assume that the covariance matrix of the errors is correctly specified.<br/>[2] The condition number is large, 7.76e+08. This might indicate that there are<br/>strong multicollinearity or other numerical problems."
      ],
      "text/plain": [
       "<class 'statsmodels.iolib.summary.Summary'>\n",
       "\"\"\"\n",
       "                            OLS Regression Results                            \n",
       "==============================================================================\n",
       "Dep. Variable:               site_eui   R-squared:                       0.976\n",
       "Model:                            OLS   Adj. R-squared:                  0.976\n",
       "Method:                 Least Squares   F-statistic:                 1.552e+04\n",
       "Date:                Mon, 05 Aug 2019   Prob (F-statistic):               0.00\n",
       "Time:                        21:19:44   Log-Likelihood:                -57795.\n",
       "No. Observations:                6529   AIC:                         1.156e+05\n",
       "Df Residuals:                    6511   BIC:                         1.157e+05\n",
       "Df Model:                          17                                         \n",
       "Covariance Type:            nonrobust                                         \n",
       "==============================================================================\n",
       "                 coef    std err          t      P>|t|      [0.025      0.975]\n",
       "------------------------------------------------------------------------------\n",
       "const       -586.4847   1432.184     -0.410      0.682   -3394.036    2221.067\n",
       "x1           -19.0905    440.475     -0.043      0.965    -882.567     844.386\n",
       "x2           -37.2756    216.097     -0.172      0.863    -460.897     386.345\n",
       "x3           -26.5255   1703.629     -0.016      0.988   -3366.197    3313.146\n",
       "x4           -55.2941   1703.689     -0.032      0.974   -3395.085    3284.497\n",
       "x5           -97.9612    342.660     -0.286      0.775    -769.688     573.765\n",
       "x6           378.5786    234.874      1.612      0.107     -81.852     839.009\n",
       "x7            16.1918    187.406      0.086      0.931    -351.185     383.569\n",
       "x8           -38.1499    198.807     -0.192      0.848    -427.876     351.576\n",
       "x9           -27.4472    270.989     -0.101      0.919    -558.675     503.781\n",
       "x10          -11.8697    492.519     -0.024      0.981    -977.369     953.630\n",
       "x11          -58.4324    265.306     -0.220      0.826    -578.520     461.655\n",
       "x12            0.3985      0.700      0.569      0.569      -0.974       1.771\n",
       "x13           -0.0006      0.000     -4.247      0.000      -0.001      -0.000\n",
       "x14           -1.1107      3.874     -0.287      0.774      -8.704       6.483\n",
       "x15         -2.04e-05      0.000     -0.150      0.881      -0.000       0.000\n",
       "x16           92.5340      0.180    513.047      0.000      92.180      92.888\n",
       "x17           4.1e-05   2.35e-06     17.439      0.000    3.64e-05    4.56e-05\n",
       "==============================================================================\n",
       "Omnibus:                    22902.942   Durbin-Watson:                   2.002\n",
       "Prob(Omnibus):                  0.000   Jarque-Bera (JB):       6458476746.620\n",
       "Skew:                          67.740   Prob(JB):                         0.00\n",
       "Kurtosis:                    4873.566   Cond. No.                     7.76e+08\n",
       "==============================================================================\n",
       "\n",
       "Warnings:\n",
       "[1] Standard Errors assume that the covariance matrix of the errors is correctly specified.\n",
       "[2] The condition number is large, 7.76e+08. This might indicate that there are\n",
       "strong multicollinearity or other numerical problems.\n",
       "\"\"\""
      ]
     },
     "execution_count": 131,
     "metadata": {},
     "output_type": "execute_result"
    }
   ],
   "source": [
    "\n",
    "#X_optimized = X[:, [0, 1, 2, 3, 4, 5]]\n",
    "\n",
    "# fitting the model with all possible predictors\n",
    "X_optimized = X[:, :]\n",
    "\n",
    "significante_level = 0.05\n",
    "\n",
    "regressor_OLS = sm.OLS(endog = Y, exog = X_optimized).fit()\n",
    "\n",
    "regressor_OLS.summary()"
   ]
  },
  {
   "cell_type": "code",
   "execution_count": 134,
   "metadata": {},
   "outputs": [
    {
     "name": "stdout",
     "output_type": "stream",
     "text": [
      "floor_area ws_ngas ws_elec\n"
     ]
    }
   ],
   "source": [
    "# Removing the predictors where P_value > significante_level\n",
    "# \n",
    "print (building.columns[13 -1], building.columns[16 -1], building.columns[17 -1])"
   ]
  },
  {
   "cell_type": "code",
   "execution_count": 137,
   "metadata": {},
   "outputs": [
    {
     "data": {
      "text/html": [
       "<table class=\"simpletable\">\n",
       "<caption>OLS Regression Results</caption>\n",
       "<tr>\n",
       "  <th>Dep. Variable:</th>        <td>site_eui</td>     <th>  R-squared:         </th> <td>   0.976</td> \n",
       "</tr>\n",
       "<tr>\n",
       "  <th>Model:</th>                   <td>OLS</td>       <th>  Adj. R-squared:    </th> <td>   0.976</td> \n",
       "</tr>\n",
       "<tr>\n",
       "  <th>Method:</th>             <td>Least Squares</td>  <th>  F-statistic:       </th> <td>8.802e+04</td>\n",
       "</tr>\n",
       "<tr>\n",
       "  <th>Date:</th>             <td>Mon, 05 Aug 2019</td> <th>  Prob (F-statistic):</th>  <td>  0.00</td>  \n",
       "</tr>\n",
       "<tr>\n",
       "  <th>Time:</th>                 <td>21:25:02</td>     <th>  Log-Likelihood:    </th> <td> -57799.</td> \n",
       "</tr>\n",
       "<tr>\n",
       "  <th>No. Observations:</th>      <td>  6529</td>      <th>  AIC:               </th> <td>1.156e+05</td>\n",
       "</tr>\n",
       "<tr>\n",
       "  <th>Df Residuals:</th>          <td>  6525</td>      <th>  BIC:               </th> <td>1.156e+05</td>\n",
       "</tr>\n",
       "<tr>\n",
       "  <th>Df Model:</th>              <td>     3</td>      <th>                     </th>     <td> </td>    \n",
       "</tr>\n",
       "<tr>\n",
       "  <th>Covariance Type:</th>      <td>nonrobust</td>    <th>                     </th>     <td> </td>    \n",
       "</tr>\n",
       "</table>\n",
       "<table class=\"simpletable\">\n",
       "<tr>\n",
       "    <td></td>       <th>coef</th>     <th>std err</th>      <th>t</th>      <th>P>|t|</th>  <th>[0.025</th>    <th>0.975]</th>  \n",
       "</tr>\n",
       "<tr>\n",
       "  <th>const</th> <td>   93.0480</td> <td>   26.881</td> <td>    3.461</td> <td> 0.001</td> <td>   40.352</td> <td>  145.744</td>\n",
       "</tr>\n",
       "<tr>\n",
       "  <th>x1</th>    <td>   -0.0006</td> <td>    0.000</td> <td>   -4.343</td> <td> 0.000</td> <td>   -0.001</td> <td>   -0.000</td>\n",
       "</tr>\n",
       "<tr>\n",
       "  <th>x2</th>    <td>   92.5378</td> <td>    0.180</td> <td>  513.552</td> <td> 0.000</td> <td>   92.185</td> <td>   92.891</td>\n",
       "</tr>\n",
       "<tr>\n",
       "  <th>x3</th>    <td> 4.109e-05</td> <td> 2.34e-06</td> <td>   17.551</td> <td> 0.000</td> <td> 3.65e-05</td> <td> 4.57e-05</td>\n",
       "</tr>\n",
       "</table>\n",
       "<table class=\"simpletable\">\n",
       "<tr>\n",
       "  <th>Omnibus:</th>       <td>22899.585</td> <th>  Durbin-Watson:     </th>    <td>   1.998</td>   \n",
       "</tr>\n",
       "<tr>\n",
       "  <th>Prob(Omnibus):</th>  <td> 0.000</td>   <th>  Jarque-Bera (JB):  </th> <td>6437235270.952</td>\n",
       "</tr>\n",
       "<tr>\n",
       "  <th>Skew:</th>           <td>67.712</td>   <th>  Prob(JB):          </th>    <td>    0.00</td>   \n",
       "</tr>\n",
       "<tr>\n",
       "  <th>Kurtosis:</th>      <td>4865.545</td>  <th>  Cond. No.          </th>    <td>1.22e+07</td>   \n",
       "</tr>\n",
       "</table><br/><br/>Warnings:<br/>[1] Standard Errors assume that the covariance matrix of the errors is correctly specified.<br/>[2] The condition number is large, 1.22e+07. This might indicate that there are<br/>strong multicollinearity or other numerical problems."
      ],
      "text/plain": [
       "<class 'statsmodels.iolib.summary.Summary'>\n",
       "\"\"\"\n",
       "                            OLS Regression Results                            \n",
       "==============================================================================\n",
       "Dep. Variable:               site_eui   R-squared:                       0.976\n",
       "Model:                            OLS   Adj. R-squared:                  0.976\n",
       "Method:                 Least Squares   F-statistic:                 8.802e+04\n",
       "Date:                Mon, 05 Aug 2019   Prob (F-statistic):               0.00\n",
       "Time:                        21:25:02   Log-Likelihood:                -57799.\n",
       "No. Observations:                6529   AIC:                         1.156e+05\n",
       "Df Residuals:                    6525   BIC:                         1.156e+05\n",
       "Df Model:                           3                                         \n",
       "Covariance Type:            nonrobust                                         \n",
       "==============================================================================\n",
       "                 coef    std err          t      P>|t|      [0.025      0.975]\n",
       "------------------------------------------------------------------------------\n",
       "const         93.0480     26.881      3.461      0.001      40.352     145.744\n",
       "x1            -0.0006      0.000     -4.343      0.000      -0.001      -0.000\n",
       "x2            92.5378      0.180    513.552      0.000      92.185      92.891\n",
       "x3          4.109e-05   2.34e-06     17.551      0.000    3.65e-05    4.57e-05\n",
       "==============================================================================\n",
       "Omnibus:                    22899.585   Durbin-Watson:                   1.998\n",
       "Prob(Omnibus):                  0.000   Jarque-Bera (JB):       6437235270.952\n",
       "Skew:                          67.712   Prob(JB):                         0.00\n",
       "Kurtosis:                    4865.545   Cond. No.                     1.22e+07\n",
       "==============================================================================\n",
       "\n",
       "Warnings:\n",
       "[1] Standard Errors assume that the covariance matrix of the errors is correctly specified.\n",
       "[2] The condition number is large, 1.22e+07. This might indicate that there are\n",
       "strong multicollinearity or other numerical problems.\n",
       "\"\"\""
      ]
     },
     "execution_count": 137,
     "metadata": {},
     "output_type": "execute_result"
    }
   ],
   "source": [
    "# fitting the model with selected columns\n",
    "X_optimized = X[:, [0, 13,16,17]]\n",
    "\n",
    "significante_level = 0.05\n",
    "\n",
    "regressor_OLS = sm.OLS(endog = Y, exog = X_optimized).fit()\n",
    "\n",
    "regressor_OLS.summary()"
   ]
  },
  {
   "cell_type": "markdown",
   "metadata": {},
   "source": [
    "#### Running the model based on backward elimination\n",
    "_____"
   ]
  },
  {
   "cell_type": "code",
   "execution_count": 139,
   "metadata": {},
   "outputs": [
    {
     "data": {
      "text/plain": [
       "LinearRegression(copy_X=True, fit_intercept=True, n_jobs=1, normalize=False)"
      ]
     },
     "execution_count": 139,
     "metadata": {},
     "output_type": "execute_result"
    }
   ],
   "source": [
    "X = building[['floor_area', 'ws_ngas', 'ws_elec']]\n",
    "\n",
    "X_train, X_test, Y_train, Y_test = train_test_split(X, Y, test_size = 0.3, random_state = 101)\n",
    "\n",
    "regressor = LinearRegression() \n",
    "regressor.fit(X_train, Y_train)"
   ]
  },
  {
   "cell_type": "code",
   "execution_count": 140,
   "metadata": {},
   "outputs": [
    {
     "name": "stdout",
     "output_type": "stream",
     "text": [
      "Training Data Score: 0.9760820875353002\n",
      "Testing Data Score: 0.7526710628920978\n"
     ]
    }
   ],
   "source": [
    "print(f\"Training Data Score: {regressor.score(X_train, Y_train)}\")\n",
    "print(f\"Testing Data Score: {regressor.score(X_test, Y_test)}\")"
   ]
  },
  {
   "cell_type": "markdown",
   "metadata": {},
   "source": [
    "#### K-Fold Cross Validation\n",
    "____"
   ]
  },
  {
   "cell_type": "code",
   "execution_count": 153,
   "metadata": {},
   "outputs": [],
   "source": [
    "accuracies = cross_val_score(estimator = regressor, X = X_train, y = Y_train, cv = 10)"
   ]
  },
  {
   "cell_type": "code",
   "execution_count": 154,
   "metadata": {},
   "outputs": [
    {
     "name": "stdout",
     "output_type": "stream",
     "text": [
      "[ 0.05834547 -0.15529556  0.99508321 -3.01636599  0.97211582  0.00354499\n",
      " -3.19950385  0.86339662 -1.77116385 -2.66582638]\n"
     ]
    }
   ],
   "source": [
    "print (accuracies)"
   ]
  },
  {
   "cell_type": "code",
   "execution_count": 155,
   "metadata": {},
   "outputs": [
    {
     "data": {
      "text/plain": [
       "-0.7915669532727042"
      ]
     },
     "execution_count": 155,
     "metadata": {},
     "output_type": "execute_result"
    }
   ],
   "source": [
    "accuracies.mean()"
   ]
  },
  {
   "cell_type": "code",
   "execution_count": 156,
   "metadata": {},
   "outputs": [
    {
     "data": {
      "text/plain": [
       "1.6131132908140793"
      ]
     },
     "execution_count": 156,
     "metadata": {},
     "output_type": "execute_result"
    }
   ],
   "source": [
    "accuracies.std()"
   ]
  },
  {
   "cell_type": "markdown",
   "metadata": {},
   "source": [
    "#### Save model into disk\n",
    "_____"
   ]
  },
  {
   "cell_type": "code",
   "execution_count": 67,
   "metadata": {},
   "outputs": [],
   "source": [
    "#pickle.dump(regressor, open('buildings.pkl','wb'))"
   ]
  },
  {
   "cell_type": "code",
   "execution_count": null,
   "metadata": {},
   "outputs": [],
   "source": []
  }
 ],
 "metadata": {
  "kernelspec": {
   "display_name": "Python 3",
   "language": "python",
   "name": "python3"
  },
  "language_info": {
   "codemirror_mode": {
    "name": "ipython",
    "version": 3
   },
   "file_extension": ".py",
   "mimetype": "text/x-python",
   "name": "python",
   "nbconvert_exporter": "python",
   "pygments_lexer": "ipython3",
   "version": "3.7.0"
  }
 },
 "nbformat": 4,
 "nbformat_minor": 2
}
