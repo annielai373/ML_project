{
 "cells": [
  {
   "cell_type": "markdown",
   "metadata": {},
   "source": [
    "# Support Vector Regression (Buildings)\n",
    "____"
   ]
  },
  {
   "cell_type": "markdown",
   "metadata": {},
   "source": [
    "#### Libraries\n",
    "____"
   ]
  },
  {
   "cell_type": "code",
   "execution_count": 73,
   "metadata": {},
   "outputs": [],
   "source": [
    "import numpy as np\n",
    "import matplotlib.pyplot as plt\n",
    "import pandas as pd\n",
    "import seaborn as sns\n",
    "\n",
    "from sklearn.model_selection import train_test_split \n",
    "from sklearn.svm import SVR\n",
    "from sklearn.preprocessing import StandardScaler\n",
    "\n",
    "from sklearn.preprocessing import LabelEncoder\n",
    "from sklearn.preprocessing import OneHotEncoder\n",
    "from sklearn.model_selection import GridSearchCV\n",
    "\n",
    "import statsmodels.formula.api as sm\n",
    "\n",
    "import warnings\n",
    "warnings.filterwarnings(\"ignore\")\n",
    "\n",
    "%matplotlib inline"
   ]
  },
  {
   "cell_type": "markdown",
   "metadata": {},
   "source": [
    "#### Load dataset\n",
    "___"
   ]
  },
  {
   "cell_type": "code",
   "execution_count": 12,
   "metadata": {},
   "outputs": [
    {
     "data": {
      "text/html": [
       "<div>\n",
       "<style scoped>\n",
       "    .dataframe tbody tr th:only-of-type {\n",
       "        vertical-align: middle;\n",
       "    }\n",
       "\n",
       "    .dataframe tbody tr th {\n",
       "        vertical-align: top;\n",
       "    }\n",
       "\n",
       "    .dataframe thead th {\n",
       "        text-align: right;\n",
       "    }\n",
       "</style>\n",
       "<table border=\"1\" class=\"dataframe\">\n",
       "  <thead>\n",
       "    <tr style=\"text-align: right;\">\n",
       "      <th></th>\n",
       "      <th>ptype</th>\n",
       "      <th>floor_area</th>\n",
       "      <th>build_year</th>\n",
       "      <th>occupy</th>\n",
       "      <th>star</th>\n",
       "      <th>site_eui</th>\n",
       "      <th>ngas</th>\n",
       "      <th>water_use</th>\n",
       "      <th>total_fuel</th>\n",
       "    </tr>\n",
       "  </thead>\n",
       "  <tbody>\n",
       "    <tr>\n",
       "      <th>244</th>\n",
       "      <td>K-12 School</td>\n",
       "      <td>322505.0</td>\n",
       "      <td>1928</td>\n",
       "      <td>100</td>\n",
       "      <td>49.000000</td>\n",
       "      <td>75.9</td>\n",
       "      <td>2904463.4</td>\n",
       "      <td>15917.984063</td>\n",
       "      <td>1.158455e+07</td>\n",
       "    </tr>\n",
       "    <tr>\n",
       "      <th>281</th>\n",
       "      <td>K-12 School</td>\n",
       "      <td>36500.0</td>\n",
       "      <td>1947</td>\n",
       "      <td>100</td>\n",
       "      <td>59.854594</td>\n",
       "      <td>46.6</td>\n",
       "      <td>874188.3</td>\n",
       "      <td>15917.984063</td>\n",
       "      <td>3.976671e+06</td>\n",
       "    </tr>\n",
       "    <tr>\n",
       "      <th>1199</th>\n",
       "      <td>K-12 School</td>\n",
       "      <td>214783.0</td>\n",
       "      <td>1928</td>\n",
       "      <td>80</td>\n",
       "      <td>67.000000</td>\n",
       "      <td>75.7</td>\n",
       "      <td>6542200.2</td>\n",
       "      <td>2490.300000</td>\n",
       "      <td>3.976671e+06</td>\n",
       "    </tr>\n",
       "    <tr>\n",
       "      <th>1624</th>\n",
       "      <td>K-12 School</td>\n",
       "      <td>90600.0</td>\n",
       "      <td>1988</td>\n",
       "      <td>100</td>\n",
       "      <td>29.000000</td>\n",
       "      <td>90.2</td>\n",
       "      <td>6003028.0</td>\n",
       "      <td>4870.300000</td>\n",
       "      <td>3.976671e+06</td>\n",
       "    </tr>\n",
       "    <tr>\n",
       "      <th>2227</th>\n",
       "      <td>K-12 School</td>\n",
       "      <td>71000.0</td>\n",
       "      <td>2001</td>\n",
       "      <td>100</td>\n",
       "      <td>34.000000</td>\n",
       "      <td>90.5</td>\n",
       "      <td>2457100.8</td>\n",
       "      <td>1430.200000</td>\n",
       "      <td>3.976671e+06</td>\n",
       "    </tr>\n",
       "  </tbody>\n",
       "</table>\n",
       "</div>"
      ],
      "text/plain": [
       "            ptype  floor_area  build_year  occupy       star  site_eui  \\\n",
       "244   K-12 School    322505.0        1928     100  49.000000      75.9   \n",
       "281   K-12 School     36500.0        1947     100  59.854594      46.6   \n",
       "1199  K-12 School    214783.0        1928      80  67.000000      75.7   \n",
       "1624  K-12 School     90600.0        1988     100  29.000000      90.2   \n",
       "2227  K-12 School     71000.0        2001     100  34.000000      90.5   \n",
       "\n",
       "           ngas     water_use    total_fuel  \n",
       "244   2904463.4  15917.984063  1.158455e+07  \n",
       "281    874188.3  15917.984063  3.976671e+06  \n",
       "1199  6542200.2   2490.300000  3.976671e+06  \n",
       "1624  6003028.0   4870.300000  3.976671e+06  \n",
       "2227  2457100.8   1430.200000  3.976671e+06  "
      ]
     },
     "execution_count": 12,
     "metadata": {},
     "output_type": "execute_result"
    }
   ],
   "source": [
    "dataset = '../../data/commercial_data_clear.csv'\n",
    "columns = ['ptype', 'floor_area', 'build_year', 'occupy', 'star', 'site_eui', 'ngas', 'water_use', 'total_fuel']\n",
    "\n",
    "\n",
    "df = pd.read_csv(dataset, sep=',', usecols=columns)\n",
    "\n",
    "cond1 = df['ptype'] == 'K-12 School'\n",
    "\n",
    "building = df[cond1]\n",
    "\n",
    "building.head(5)"
   ]
  },
  {
   "cell_type": "code",
   "execution_count": 13,
   "metadata": {},
   "outputs": [
    {
     "name": "stdout",
     "output_type": "stream",
     "text": [
      "<class 'pandas.core.frame.DataFrame'>\n",
      "Int64Index: 90 entries, 244 to 11725\n",
      "Data columns (total 9 columns):\n",
      "ptype         90 non-null object\n",
      "floor_area    90 non-null float64\n",
      "build_year    90 non-null int64\n",
      "occupy        90 non-null int64\n",
      "star          90 non-null float64\n",
      "site_eui      90 non-null float64\n",
      "ngas          90 non-null float64\n",
      "water_use     90 non-null float64\n",
      "total_fuel    90 non-null float64\n",
      "dtypes: float64(6), int64(2), object(1)\n",
      "memory usage: 7.0+ KB\n"
     ]
    }
   ],
   "source": [
    "building.info()"
   ]
  },
  {
   "cell_type": "code",
   "execution_count": 14,
   "metadata": {},
   "outputs": [
    {
     "data": {
      "text/html": [
       "<div>\n",
       "<style scoped>\n",
       "    .dataframe tbody tr th:only-of-type {\n",
       "        vertical-align: middle;\n",
       "    }\n",
       "\n",
       "    .dataframe tbody tr th {\n",
       "        vertical-align: top;\n",
       "    }\n",
       "\n",
       "    .dataframe thead th {\n",
       "        text-align: right;\n",
       "    }\n",
       "</style>\n",
       "<table border=\"1\" class=\"dataframe\">\n",
       "  <thead>\n",
       "    <tr style=\"text-align: right;\">\n",
       "      <th></th>\n",
       "      <th>floor_area</th>\n",
       "      <th>build_year</th>\n",
       "      <th>occupy</th>\n",
       "      <th>star</th>\n",
       "      <th>site_eui</th>\n",
       "      <th>ngas</th>\n",
       "      <th>water_use</th>\n",
       "      <th>total_fuel</th>\n",
       "    </tr>\n",
       "  </thead>\n",
       "  <tbody>\n",
       "    <tr>\n",
       "      <th>count</th>\n",
       "      <td>90.000000</td>\n",
       "      <td>90.000000</td>\n",
       "      <td>90.000000</td>\n",
       "      <td>90.000000</td>\n",
       "      <td>90.000000</td>\n",
       "      <td>9.000000e+01</td>\n",
       "      <td>90.000000</td>\n",
       "      <td>9.000000e+01</td>\n",
       "    </tr>\n",
       "    <tr>\n",
       "      <th>mean</th>\n",
       "      <td>113176.088889</td>\n",
       "      <td>1957.888889</td>\n",
       "      <td>99.555556</td>\n",
       "      <td>62.010913</td>\n",
       "      <td>72.422700</td>\n",
       "      <td>5.771013e+06</td>\n",
       "      <td>10683.206171</td>\n",
       "      <td>3.603263e+06</td>\n",
       "    </tr>\n",
       "    <tr>\n",
       "      <th>std</th>\n",
       "      <td>78845.820415</td>\n",
       "      <td>31.526498</td>\n",
       "      <td>2.445409</td>\n",
       "      <td>30.407385</td>\n",
       "      <td>45.616365</td>\n",
       "      <td>1.060378e+07</td>\n",
       "      <td>7560.418928</td>\n",
       "      <td>1.647142e+06</td>\n",
       "    </tr>\n",
       "    <tr>\n",
       "      <th>min</th>\n",
       "      <td>36500.000000</td>\n",
       "      <td>1891.000000</td>\n",
       "      <td>80.000000</td>\n",
       "      <td>1.000000</td>\n",
       "      <td>2.900000</td>\n",
       "      <td>6.290900e+03</td>\n",
       "      <td>109.400000</td>\n",
       "      <td>0.000000e+00</td>\n",
       "    </tr>\n",
       "    <tr>\n",
       "      <th>25%</th>\n",
       "      <td>63950.000000</td>\n",
       "      <td>1929.250000</td>\n",
       "      <td>100.000000</td>\n",
       "      <td>40.000000</td>\n",
       "      <td>46.625000</td>\n",
       "      <td>1.015279e+06</td>\n",
       "      <td>1849.975000</td>\n",
       "      <td>3.976671e+06</td>\n",
       "    </tr>\n",
       "    <tr>\n",
       "      <th>50%</th>\n",
       "      <td>86618.000000</td>\n",
       "      <td>1961.500000</td>\n",
       "      <td>100.000000</td>\n",
       "      <td>67.500000</td>\n",
       "      <td>62.250000</td>\n",
       "      <td>2.547472e+06</td>\n",
       "      <td>15917.984063</td>\n",
       "      <td>3.976671e+06</td>\n",
       "    </tr>\n",
       "    <tr>\n",
       "      <th>75%</th>\n",
       "      <td>124815.000000</td>\n",
       "      <td>1972.750000</td>\n",
       "      <td>100.000000</td>\n",
       "      <td>89.500000</td>\n",
       "      <td>77.850000</td>\n",
       "      <td>4.555968e+06</td>\n",
       "      <td>15917.984063</td>\n",
       "      <td>3.976671e+06</td>\n",
       "    </tr>\n",
       "    <tr>\n",
       "      <th>max</th>\n",
       "      <td>444000.000000</td>\n",
       "      <td>2016.000000</td>\n",
       "      <td>100.000000</td>\n",
       "      <td>100.000000</td>\n",
       "      <td>280.071484</td>\n",
       "      <td>5.048545e+07</td>\n",
       "      <td>33570.600000</td>\n",
       "      <td>1.158455e+07</td>\n",
       "    </tr>\n",
       "  </tbody>\n",
       "</table>\n",
       "</div>"
      ],
      "text/plain": [
       "          floor_area   build_year      occupy        star    site_eui  \\\n",
       "count      90.000000    90.000000   90.000000   90.000000   90.000000   \n",
       "mean   113176.088889  1957.888889   99.555556   62.010913   72.422700   \n",
       "std     78845.820415    31.526498    2.445409   30.407385   45.616365   \n",
       "min     36500.000000  1891.000000   80.000000    1.000000    2.900000   \n",
       "25%     63950.000000  1929.250000  100.000000   40.000000   46.625000   \n",
       "50%     86618.000000  1961.500000  100.000000   67.500000   62.250000   \n",
       "75%    124815.000000  1972.750000  100.000000   89.500000   77.850000   \n",
       "max    444000.000000  2016.000000  100.000000  100.000000  280.071484   \n",
       "\n",
       "               ngas     water_use    total_fuel  \n",
       "count  9.000000e+01     90.000000  9.000000e+01  \n",
       "mean   5.771013e+06  10683.206171  3.603263e+06  \n",
       "std    1.060378e+07   7560.418928  1.647142e+06  \n",
       "min    6.290900e+03    109.400000  0.000000e+00  \n",
       "25%    1.015279e+06   1849.975000  3.976671e+06  \n",
       "50%    2.547472e+06  15917.984063  3.976671e+06  \n",
       "75%    4.555968e+06  15917.984063  3.976671e+06  \n",
       "max    5.048545e+07  33570.600000  1.158455e+07  "
      ]
     },
     "execution_count": 14,
     "metadata": {},
     "output_type": "execute_result"
    }
   ],
   "source": [
    "building.describe()"
   ]
  },
  {
   "cell_type": "markdown",
   "metadata": {},
   "source": [
    "#### Data cleanup\n",
    "___"
   ]
  },
  {
   "cell_type": "code",
   "execution_count": 15,
   "metadata": {},
   "outputs": [
    {
     "data": {
      "image/png": "[encoded data removed]",
      "text/plain": [
       "<Figure size 1152x432 with 1 Axes>"
      ]
     },
     "metadata": {
      "needs_background": "light"
     },
     "output_type": "display_data"
    }
   ],
   "source": [
    "plt.figure(figsize=(16,6))\n",
    "\n",
    "sns.heatmap(building.isnull(), yticklabels=False, cbar=False, cmap='viridis')\n",
    "plt.show()"
   ]
  },
  {
   "cell_type": "markdown",
   "metadata": {},
   "source": [
    "#### Define X, Y variables\n",
    "___"
   ]
  },
  {
   "cell_type": "code",
   "execution_count": 16,
   "metadata": {},
   "outputs": [],
   "source": [
    "x_columns = ['floor_area', 'build_year', 'occupy', 'star', 'ngas', 'water_use', 'total_fuel']\n",
    "y_columns = ['site_eui']\n",
    "\n",
    "X = building[x_columns].values\n",
    "Y = building[y_columns].values"
   ]
  },
  {
   "cell_type": "markdown",
   "metadata": {},
   "source": [
    "#### Feature Scaling\n",
    "___"
   ]
  },
  {
   "cell_type": "code",
   "execution_count": 17,
   "metadata": {},
   "outputs": [],
   "source": [
    "scale_X = StandardScaler()\n",
    "scale_Y = StandardScaler()\n",
    "\n",
    "X = scale_X.fit_transform(X)\n",
    "\n",
    "Y = Y.reshape(len(Y), 1)\n",
    "Y = scale_Y.fit_transform(Y)"
   ]
  },
  {
   "cell_type": "markdown",
   "metadata": {},
   "source": [
    "#### Split dataset (TRAIN/TEST) data\n",
    "____"
   ]
  },
  {
   "cell_type": "code",
   "execution_count": 18,
   "metadata": {},
   "outputs": [],
   "source": [
    "X_train, X_test, Y_train, Y_test = train_test_split(X, Y, test_size = 0.3, random_state = 0)"
   ]
  },
  {
   "cell_type": "markdown",
   "metadata": {},
   "source": [
    "#### Fitting SVR to the dataset\n",
    "____"
   ]
  },
  {
   "cell_type": "code",
   "execution_count": 20,
   "metadata": {},
   "outputs": [
    {
     "name": "stderr",
     "output_type": "stream",
     "text": [
      "C:\\Users\\Alexandre\\Anaconda3\\lib\\site-packages\\sklearn\\utils\\validation.py:578: DataConversionWarning: A column-vector y was passed when a 1d array was expected. Please change the shape of y to (n_samples, ), for example using ravel().\n",
      "  y = column_or_1d(y, warn=True)\n"
     ]
    },
    {
     "data": {
      "text/plain": [
       "SVR(C=1.0, cache_size=200, coef0=0.0, degree=3, epsilon=0.1, gamma='auto',\n",
       "  kernel='rbf', max_iter=-1, shrinking=True, tol=0.001, verbose=False)"
      ]
     },
     "execution_count": 20,
     "metadata": {},
     "output_type": "execute_result"
    }
   ],
   "source": [
    "regressor = SVR(kernel='rbf')\n",
    "regressor.fit(X, Y)"
   ]
  },
  {
   "cell_type": "markdown",
   "metadata": {},
   "source": [
    "#### Fitting Simple Linear Regression to the Training Set\n",
    "_____"
   ]
  },
  {
   "cell_type": "code",
   "execution_count": 21,
   "metadata": {},
   "outputs": [],
   "source": [
    "y_prediction = regressor.predict(X_test)\n",
    "\n",
    "#y_pred = scale_Y.inverse_transform(regressor.predict(scale_X.transform(np.array([[6.5]]))))  # original values without scale\n",
    "#print(y_pred)"
   ]
  },
  {
   "cell_type": "markdown",
   "metadata": {},
   "source": [
    "#### Real x Predict\n",
    "_____"
   ]
  },
  {
   "cell_type": "code",
   "execution_count": 31,
   "metadata": {},
   "outputs": [
    {
     "data": {
      "text/html": [
       "<div>\n",
       "<style scoped>\n",
       "    .dataframe tbody tr th:only-of-type {\n",
       "        vertical-align: middle;\n",
       "    }\n",
       "\n",
       "    .dataframe tbody tr th {\n",
       "        vertical-align: top;\n",
       "    }\n",
       "\n",
       "    .dataframe thead th {\n",
       "        text-align: right;\n",
       "    }\n",
       "</style>\n",
       "<table border=\"1\" class=\"dataframe\">\n",
       "  <thead>\n",
       "    <tr style=\"text-align: right;\">\n",
       "      <th></th>\n",
       "      <th>Real</th>\n",
       "      <th>Predict</th>\n",
       "    </tr>\n",
       "  </thead>\n",
       "  <tbody>\n",
       "    <tr>\n",
       "      <th>0</th>\n",
       "      <td>0.072247</td>\n",
       "      <td>0.172059</td>\n",
       "    </tr>\n",
       "    <tr>\n",
       "      <th>1</th>\n",
       "      <td>-0.478872</td>\n",
       "      <td>-0.480498</td>\n",
       "    </tr>\n",
       "    <tr>\n",
       "      <th>2</th>\n",
       "      <td>-0.637594</td>\n",
       "      <td>-0.410993</td>\n",
       "    </tr>\n",
       "    <tr>\n",
       "      <th>3</th>\n",
       "      <td>-0.320150</td>\n",
       "      <td>-0.220233</td>\n",
       "    </tr>\n",
       "    <tr>\n",
       "      <th>4</th>\n",
       "      <td>-0.567051</td>\n",
       "      <td>-0.466725</td>\n",
       "    </tr>\n",
       "    <tr>\n",
       "      <th>5</th>\n",
       "      <td>-0.064430</td>\n",
       "      <td>-0.164572</td>\n",
       "    </tr>\n",
       "    <tr>\n",
       "      <th>6</th>\n",
       "      <td>0.125155</td>\n",
       "      <td>-0.074038</td>\n",
       "    </tr>\n",
       "    <tr>\n",
       "      <th>7</th>\n",
       "      <td>-0.234175</td>\n",
       "      <td>-0.177585</td>\n",
       "    </tr>\n",
       "    <tr>\n",
       "      <th>8</th>\n",
       "      <td>-0.622163</td>\n",
       "      <td>-0.521832</td>\n",
       "    </tr>\n",
       "    <tr>\n",
       "      <th>9</th>\n",
       "      <td>-0.388488</td>\n",
       "      <td>-0.451163</td>\n",
       "    </tr>\n",
       "    <tr>\n",
       "      <th>10</th>\n",
       "      <td>-0.073248</td>\n",
       "      <td>0.027062</td>\n",
       "    </tr>\n",
       "    <tr>\n",
       "      <th>11</th>\n",
       "      <td>0.032567</td>\n",
       "      <td>-0.067431</td>\n",
       "    </tr>\n",
       "    <tr>\n",
       "      <th>12</th>\n",
       "      <td>-0.214335</td>\n",
       "      <td>-0.314593</td>\n",
       "    </tr>\n",
       "    <tr>\n",
       "      <th>13</th>\n",
       "      <td>1.602154</td>\n",
       "      <td>1.084886</td>\n",
       "    </tr>\n",
       "    <tr>\n",
       "      <th>14</th>\n",
       "      <td>1.289119</td>\n",
       "      <td>0.723055</td>\n",
       "    </tr>\n",
       "    <tr>\n",
       "      <th>15</th>\n",
       "      <td>-0.344399</td>\n",
       "      <td>-0.334117</td>\n",
       "    </tr>\n",
       "    <tr>\n",
       "      <th>16</th>\n",
       "      <td>-1.532612</td>\n",
       "      <td>-0.338276</td>\n",
       "    </tr>\n",
       "    <tr>\n",
       "      <th>17</th>\n",
       "      <td>-0.254015</td>\n",
       "      <td>-0.028547</td>\n",
       "    </tr>\n",
       "    <tr>\n",
       "      <th>18</th>\n",
       "      <td>-0.604527</td>\n",
       "      <td>-0.504669</td>\n",
       "    </tr>\n",
       "    <tr>\n",
       "      <th>19</th>\n",
       "      <td>-0.348808</td>\n",
       "      <td>-0.448343</td>\n",
       "    </tr>\n",
       "    <tr>\n",
       "      <th>20</th>\n",
       "      <td>-0.906540</td>\n",
       "      <td>-0.548725</td>\n",
       "    </tr>\n",
       "    <tr>\n",
       "      <th>21</th>\n",
       "      <td>-0.004909</td>\n",
       "      <td>-0.001935</td>\n",
       "    </tr>\n",
       "    <tr>\n",
       "      <th>22</th>\n",
       "      <td>0.517552</td>\n",
       "      <td>0.484892</td>\n",
       "    </tr>\n",
       "    <tr>\n",
       "      <th>23</th>\n",
       "      <td>0.784293</td>\n",
       "      <td>0.684408</td>\n",
       "    </tr>\n",
       "    <tr>\n",
       "      <th>24</th>\n",
       "      <td>-0.082066</td>\n",
       "      <td>-0.182018</td>\n",
       "    </tr>\n",
       "    <tr>\n",
       "      <th>25</th>\n",
       "      <td>-0.525166</td>\n",
       "      <td>-0.519410</td>\n",
       "    </tr>\n",
       "    <tr>\n",
       "      <th>26</th>\n",
       "      <td>-0.302514</td>\n",
       "      <td>-0.202910</td>\n",
       "    </tr>\n",
       "  </tbody>\n",
       "</table>\n",
       "</div>"
      ],
      "text/plain": [
       "        Real   Predict\n",
       "0   0.072247  0.172059\n",
       "1  -0.478872 -0.480498\n",
       "2  -0.637594 -0.410993\n",
       "3  -0.320150 -0.220233\n",
       "4  -0.567051 -0.466725\n",
       "5  -0.064430 -0.164572\n",
       "6   0.125155 -0.074038\n",
       "7  -0.234175 -0.177585\n",
       "8  -0.622163 -0.521832\n",
       "9  -0.388488 -0.451163\n",
       "10 -0.073248  0.027062\n",
       "11  0.032567 -0.067431\n",
       "12 -0.214335 -0.314593\n",
       "13  1.602154  1.084886\n",
       "14  1.289119  0.723055\n",
       "15 -0.344399 -0.334117\n",
       "16 -1.532612 -0.338276\n",
       "17 -0.254015 -0.028547\n",
       "18 -0.604527 -0.504669\n",
       "19 -0.348808 -0.448343\n",
       "20 -0.906540 -0.548725\n",
       "21 -0.004909 -0.001935\n",
       "22  0.517552  0.484892\n",
       "23  0.784293  0.684408\n",
       "24 -0.082066 -0.182018\n",
       "25 -0.525166 -0.519410\n",
       "26 -0.302514 -0.202910"
      ]
     },
     "execution_count": 31,
     "metadata": {},
     "output_type": "execute_result"
    }
   ],
   "source": [
    "pd.DataFrame({\n",
    "    'Real' : Y_test[:,0],\n",
    "    'Predict' : y_prediction\n",
    "\n",
    "})"
   ]
  },
  {
   "cell_type": "markdown",
   "metadata": {},
   "source": [
    "#### Model Score\n",
    "__________"
   ]
  },
  {
   "cell_type": "code",
   "execution_count": 67,
   "metadata": {},
   "outputs": [
    {
     "name": "stdout",
     "output_type": "stream",
     "text": [
      "Training Data Score: 0.5573281150662568\n",
      "Testing Data Score: 0.7679320674457418\n"
     ]
    }
   ],
   "source": [
    "print(f\"Training Data Score: {regressor.score(X_train, Y_train)}\")\n",
    "print(f\"Testing Data Score: {regressor.score(X_test, Y_test)}\")"
   ]
  },
  {
   "cell_type": "markdown",
   "metadata": {},
   "source": [
    "#### GridSearch\n",
    "__________"
   ]
  },
  {
   "cell_type": "code",
   "execution_count": 84,
   "metadata": {},
   "outputs": [
    {
     "data": {
      "text/plain": [
       "GridSearchCV(cv=10, error_score='raise',\n",
       "       estimator=SVR(C=1.0, cache_size=200, coef0=0.0, degree=3, epsilon=0.1, gamma='auto',\n",
       "  kernel='rbf', max_iter=-1, shrinking=True, tol=0.001, verbose=False),\n",
       "       fit_params=None, iid=True, n_jobs=1,\n",
       "       param_grid=[{'C': [0.1, 1, 10, 100, 1000], 'kernel': ['linear']}, {'C': [0.1, 1, 10, 100, 1000], 'kernel': ['poly']}, {'C': [0.1, 1, 10, 100, 1000], 'kernel': ['sigmoid']}, {'C': [0.1, 1, 10, 100, 1000], 'kernel': ['rbf'], 'gamma': [0.5, 0.1, 0.01, 0.001, 0.0001]}],\n",
       "       pre_dispatch='2*n_jobs', refit=True, return_train_score='warn',\n",
       "       scoring=None, verbose=0)"
      ]
     },
     "execution_count": 84,
     "metadata": {},
     "output_type": "execute_result"
    }
   ],
   "source": [
    "param_grid = [{'C': [0.1, 1, 10, 100, 1000], 'kernel' : ['linear']},\n",
    "              {'C': [0.1, 1, 10, 100, 1000], 'kernel' : ['poly']},\n",
    "              {'C': [0.1, 1, 10, 100, 1000], 'kernel' : ['sigmoid']},\n",
    "              {'C': [0.1, 1, 10, 100, 1000], 'kernel' : ['rbf'], 'gamma' : [0.5, 0.1, 0.01, 0.001, 0.0001]}\n",
    "             ]\n",
    "\n",
    "grid = GridSearchCV(estimator = regressor, \n",
    "                    param_grid = param_grid,                    \n",
    "                    cv = 10,\n",
    "                    refit=True,\n",
    "                    verbose=0)\n",
    "\n",
    "grid.fit(X_train,Y_train)"
   ]
  },
  {
   "cell_type": "markdown",
   "metadata": {},
   "source": [
    "#### Best Results\n",
    "__________"
   ]
  },
  {
   "cell_type": "code",
   "execution_count": 85,
   "metadata": {},
   "outputs": [
    {
     "data": {
      "text/plain": [
       "{'C': 100, 'gamma': 0.0001, 'kernel': 'rbf'}"
      ]
     },
     "execution_count": 85,
     "metadata": {},
     "output_type": "execute_result"
    }
   ],
   "source": [
    "grid.best_params_"
   ]
  },
  {
   "cell_type": "code",
   "execution_count": 86,
   "metadata": {},
   "outputs": [
    {
     "data": {
      "text/plain": [
       "0.27842630783433314"
      ]
     },
     "execution_count": 86,
     "metadata": {},
     "output_type": "execute_result"
    }
   ],
   "source": [
    "grid.best_score_"
   ]
  },
  {
   "cell_type": "code",
   "execution_count": null,
   "metadata": {},
   "outputs": [],
   "source": []
  }
 ],
 "metadata": {
  "kernelspec": {
   "display_name": "Python 3",
   "language": "python",
   "name": "python3"
  },
  "language_info": {
   "codemirror_mode": {
    "name": "ipython",
    "version": 3
   },
   "file_extension": ".py",
   "mimetype": "text/x-python",
   "name": "python",
   "nbconvert_exporter": "python",
   "pygments_lexer": "ipython3",
   "version": "3.7.1"
  }
 },
 "nbformat": 4,
 "nbformat_minor": 2
}
