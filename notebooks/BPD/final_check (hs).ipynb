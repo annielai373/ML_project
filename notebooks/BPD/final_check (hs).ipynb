{
 "cells": [
  {
   "cell_type": "markdown",
   "metadata": {},
   "source": [
    "# FINAL dataset check for missing values\n",
    "____"
   ]
  },
  {
   "cell_type": "markdown",
   "metadata": {},
   "source": [
    "#### 1. Import Libraries\n"
   ]
  },
  {
   "cell_type": "code",
   "execution_count": 5,
   "metadata": {},
   "outputs": [],
   "source": [
    "import pandas as pd\n",
    "import numpy as np\n",
    "import matplotlib.pyplot as plt\n",
    "import seaborn as sns"
   ]
  },
  {
   "cell_type": "markdown",
   "metadata": {},
   "source": [
    "#### 2. Load Dataset\n",
    "_____"
   ]
  },
  {
   "cell_type": "code",
   "execution_count": 6,
   "metadata": {},
   "outputs": [
    {
     "data": {
      "text/html": [
       "<div>\n",
       "<style scoped>\n",
       "    .dataframe tbody tr th:only-of-type {\n",
       "        vertical-align: middle;\n",
       "    }\n",
       "\n",
       "    .dataframe tbody tr th {\n",
       "        vertical-align: top;\n",
       "    }\n",
       "\n",
       "    .dataframe thead th {\n",
       "        text-align: right;\n",
       "    }\n",
       "</style>\n",
       "<table border=\"1\" class=\"dataframe\">\n",
       "  <thead>\n",
       "    <tr style=\"text-align: right;\">\n",
       "      <th></th>\n",
       "      <th>ptype</th>\n",
       "      <th>floor_area</th>\n",
       "      <th>build_year</th>\n",
       "      <th>occupy</th>\n",
       "      <th>site_eui</th>\n",
       "      <th>ngas</th>\n",
       "      <th>water_use</th>\n",
       "    </tr>\n",
       "  </thead>\n",
       "  <tbody>\n",
       "    <tr>\n",
       "      <th>0</th>\n",
       "      <td>Multifamily Housing</td>\n",
       "      <td>2400000.0</td>\n",
       "      <td>1974</td>\n",
       "      <td>100</td>\n",
       "      <td>143974.4</td>\n",
       "      <td>3.942852e+11</td>\n",
       "      <td>107151.5</td>\n",
       "    </tr>\n",
       "    <tr>\n",
       "      <th>1</th>\n",
       "      <td>Multifamily Housing</td>\n",
       "      <td>412503.0</td>\n",
       "      <td>1903</td>\n",
       "      <td>100</td>\n",
       "      <td>32.0</td>\n",
       "      <td>2.047200e+06</td>\n",
       "      <td>22061.0</td>\n",
       "    </tr>\n",
       "    <tr>\n",
       "      <th>2</th>\n",
       "      <td>Hospital (General Medical &amp; Surgical)</td>\n",
       "      <td>567517.0</td>\n",
       "      <td>1950</td>\n",
       "      <td>100</td>\n",
       "      <td>352.7</td>\n",
       "      <td>1.284867e+08</td>\n",
       "      <td>9574.0</td>\n",
       "    </tr>\n",
       "    <tr>\n",
       "      <th>3</th>\n",
       "      <td>Multifamily Housing</td>\n",
       "      <td>321464.0</td>\n",
       "      <td>1939</td>\n",
       "      <td>100</td>\n",
       "      <td>76.2</td>\n",
       "      <td>8.802000e+05</td>\n",
       "      <td>5915.6</td>\n",
       "    </tr>\n",
       "    <tr>\n",
       "      <th>4</th>\n",
       "      <td>Multifamily Housing</td>\n",
       "      <td>54913.0</td>\n",
       "      <td>1911</td>\n",
       "      <td>100</td>\n",
       "      <td>17.9</td>\n",
       "      <td>5.941290e+04</td>\n",
       "      <td>231.9</td>\n",
       "    </tr>\n",
       "  </tbody>\n",
       "</table>\n",
       "</div>"
      ],
      "text/plain": [
       "                                   ptype  floor_area  build_year  occupy  \\\n",
       "0                    Multifamily Housing   2400000.0        1974     100   \n",
       "1                    Multifamily Housing    412503.0        1903     100   \n",
       "2  Hospital (General Medical & Surgical)    567517.0        1950     100   \n",
       "3                    Multifamily Housing    321464.0        1939     100   \n",
       "4                    Multifamily Housing     54913.0        1911     100   \n",
       "\n",
       "   site_eui          ngas  water_use  \n",
       "0  143974.4  3.942852e+11   107151.5  \n",
       "1      32.0  2.047200e+06    22061.0  \n",
       "2     352.7  1.284867e+08     9574.0  \n",
       "3      76.2  8.802000e+05     5915.6  \n",
       "4      17.9  5.941290e+04      231.9  "
      ]
     },
     "execution_count": 6,
     "metadata": {},
     "output_type": "execute_result"
    }
   ],
   "source": [
    "df = pd.read_csv('../../data/bpd/clean.csv')\n",
    "\n",
    "df.head(5)"
   ]
  },
  {
   "cell_type": "markdown",
   "metadata": {},
   "source": [
    "#### 3. Check for missing data\n",
    "____"
   ]
  },
  {
   "cell_type": "code",
   "execution_count": 7,
   "metadata": {},
   "outputs": [
    {
     "name": "stdout",
     "output_type": "stream",
     "text": [
      "<class 'pandas.core.frame.DataFrame'>\n",
      "RangeIndex: 6922 entries, 0 to 6921\n",
      "Data columns (total 7 columns):\n",
      "ptype         6922 non-null object\n",
      "floor_area    6922 non-null float64\n",
      "build_year    6922 non-null int64\n",
      "occupy        6922 non-null int64\n",
      "site_eui      6922 non-null float64\n",
      "ngas          6922 non-null float64\n",
      "water_use     6922 non-null float64\n",
      "dtypes: float64(4), int64(2), object(1)\n",
      "memory usage: 378.6+ KB\n"
     ]
    }
   ],
   "source": [
    "df.info(null_counts=True)"
   ]
  },
  {
   "cell_type": "code",
   "execution_count": 8,
   "metadata": {},
   "outputs": [
    {
     "data": {
      "text/html": [
       "<div>\n",
       "<style scoped>\n",
       "    .dataframe tbody tr th:only-of-type {\n",
       "        vertical-align: middle;\n",
       "    }\n",
       "\n",
       "    .dataframe tbody tr th {\n",
       "        vertical-align: top;\n",
       "    }\n",
       "\n",
       "    .dataframe thead th {\n",
       "        text-align: right;\n",
       "    }\n",
       "</style>\n",
       "<table border=\"1\" class=\"dataframe\">\n",
       "  <thead>\n",
       "    <tr style=\"text-align: right;\">\n",
       "      <th></th>\n",
       "      <th>column_name</th>\n",
       "      <th>total_null</th>\n",
       "      <th>total_non_null</th>\n",
       "      <th>perc_null</th>\n",
       "      <th>perc_not_null</th>\n",
       "    </tr>\n",
       "  </thead>\n",
       "  <tbody>\n",
       "    <tr>\n",
       "      <th>0</th>\n",
       "      <td>ptype</td>\n",
       "      <td>0</td>\n",
       "      <td>6922</td>\n",
       "      <td>0.0</td>\n",
       "      <td>1.0</td>\n",
       "    </tr>\n",
       "    <tr>\n",
       "      <th>1</th>\n",
       "      <td>floor_area</td>\n",
       "      <td>0</td>\n",
       "      <td>6922</td>\n",
       "      <td>0.0</td>\n",
       "      <td>1.0</td>\n",
       "    </tr>\n",
       "    <tr>\n",
       "      <th>2</th>\n",
       "      <td>build_year</td>\n",
       "      <td>0</td>\n",
       "      <td>6922</td>\n",
       "      <td>0.0</td>\n",
       "      <td>1.0</td>\n",
       "    </tr>\n",
       "    <tr>\n",
       "      <th>3</th>\n",
       "      <td>occupy</td>\n",
       "      <td>0</td>\n",
       "      <td>6922</td>\n",
       "      <td>0.0</td>\n",
       "      <td>1.0</td>\n",
       "    </tr>\n",
       "    <tr>\n",
       "      <th>4</th>\n",
       "      <td>site_eui</td>\n",
       "      <td>0</td>\n",
       "      <td>6922</td>\n",
       "      <td>0.0</td>\n",
       "      <td>1.0</td>\n",
       "    </tr>\n",
       "    <tr>\n",
       "      <th>5</th>\n",
       "      <td>ngas</td>\n",
       "      <td>0</td>\n",
       "      <td>6922</td>\n",
       "      <td>0.0</td>\n",
       "      <td>1.0</td>\n",
       "    </tr>\n",
       "    <tr>\n",
       "      <th>6</th>\n",
       "      <td>water_use</td>\n",
       "      <td>0</td>\n",
       "      <td>6922</td>\n",
       "      <td>0.0</td>\n",
       "      <td>1.0</td>\n",
       "    </tr>\n",
       "  </tbody>\n",
       "</table>\n",
       "</div>"
      ],
      "text/plain": [
       "  column_name  total_null  total_non_null  perc_null  perc_not_null\n",
       "0       ptype           0            6922        0.0            1.0\n",
       "1  floor_area           0            6922        0.0            1.0\n",
       "2  build_year           0            6922        0.0            1.0\n",
       "3      occupy           0            6922        0.0            1.0\n",
       "4    site_eui           0            6922        0.0            1.0\n",
       "5        ngas           0            6922        0.0            1.0\n",
       "6   water_use           0            6922        0.0            1.0"
      ]
     },
     "execution_count": 8,
     "metadata": {},
     "output_type": "execute_result"
    }
   ],
   "source": [
    "result = []\n",
    "\n",
    "for col in df.columns:\n",
    "    result.append({\n",
    "        'column_name'    : col,\n",
    "        'total_null'     : df[col].isna().sum(),\n",
    "        'total_non_null' : df[col].count(),\n",
    "        'perc_null'      : (df[col].isna().sum() / df.shape[0]),\n",
    "        'perc_not_null'  : (df[col].count() / df.shape[0])\n",
    "    })\n",
    "    \n",
    "pd.DataFrame(data=result, columns=['column_name', 'total_null', 'total_non_null', 'perc_null', 'perc_not_null'])"
   ]
  },
  {
   "cell_type": "markdown",
   "metadata": {},
   "source": [
    "#### 4. Plot Null Mapping\n",
    "___"
   ]
  },
  {
   "cell_type": "code",
   "execution_count": 9,
   "metadata": {},
   "outputs": [
    {
     "data": {
      "image/png": "[encoded data removed]",
      "text/plain": [
       "<Figure size 1152x432 with 1 Axes>"
      ]
     },
     "metadata": {
      "needs_background": "light"
     },
     "output_type": "display_data"
    }
   ],
   "source": [
    "plt.figure(figsize=(16,6))\n",
    "\n",
    "sns.heatmap(df.isnull(), yticklabels=False, cbar=False, cmap='viridis')\n",
    "plt.show()"
   ]
  }
 ],
 "metadata": {
  "kernelspec": {
   "display_name": "Python 3",
   "language": "python",
   "name": "python3"
  },
  "language_info": {
   "codemirror_mode": {
    "name": "ipython",
    "version": 3
   },
   "file_extension": ".py",
   "mimetype": "text/x-python",
   "name": "python",
   "nbconvert_exporter": "python",
   "pygments_lexer": "ipython3",
   "version": "3.7.3"
  }
 },
 "nbformat": 4,
 "nbformat_minor": 2
}
