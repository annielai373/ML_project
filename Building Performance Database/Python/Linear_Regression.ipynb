{
 "cells": [
  {
   "cell_type": "markdown",
   "metadata": {},
   "source": [
    "# Linear Regression\n",
    "____"
   ]
  },
  {
   "cell_type": "markdown",
   "metadata": {},
   "source": [
    "#### Libraries\n",
    "____"
   ]
  },
  {
   "cell_type": "code",
   "execution_count": 694,
   "metadata": {},
   "outputs": [],
   "source": [
    "import numpy as np\n",
    "import matplotlib.pyplot as plt\n",
    "import pandas as pd\n",
    "import seaborn as sns\n",
    "\n",
    "from sklearn.model_selection import train_test_split \n",
    "from sklearn.linear_model import LinearRegression\n",
    "from sklearn.preprocessing import LabelEncoder\n",
    "from sklearn.preprocessing import OneHotEncoder\n",
    "from sklearn.model_selection import cross_val_score\n",
    "from sklearn import metrics\n",
    "\n",
    "import statsmodels.formula.api as sm\n",
    "import pickle\n",
    "\n",
    "%matplotlib inline"
   ]
  },
  {
   "cell_type": "markdown",
   "metadata": {},
   "source": [
    "#### Load dataset\n",
    "___"
   ]
  },
  {
   "cell_type": "code",
   "execution_count": 695,
   "metadata": {},
   "outputs": [
    {
     "data": {
      "text/html": [
       "<div>\n",
       "<style scoped>\n",
       "    .dataframe tbody tr th:only-of-type {\n",
       "        vertical-align: middle;\n",
       "    }\n",
       "\n",
       "    .dataframe tbody tr th {\n",
       "        vertical-align: top;\n",
       "    }\n",
       "\n",
       "    .dataframe thead th {\n",
       "        text-align: right;\n",
       "    }\n",
       "</style>\n",
       "<table border=\"1\" class=\"dataframe\">\n",
       "  <thead>\n",
       "    <tr style=\"text-align: right;\">\n",
       "      <th></th>\n",
       "      <th>ptype</th>\n",
       "      <th>floora_plan</th>\n",
       "      <th>year</th>\n",
       "      <th>occ</th>\n",
       "      <th>site_EUI</th>\n",
       "      <th>n_site_gas</th>\n",
       "      <th>n_site_elec</th>\n",
       "      <th>water_use</th>\n",
       "    </tr>\n",
       "  </thead>\n",
       "  <tbody>\n",
       "    <tr>\n",
       "      <th>0</th>\n",
       "      <td>Multifamily</td>\n",
       "      <td>412503.0</td>\n",
       "      <td>1903</td>\n",
       "      <td>100</td>\n",
       "      <td>32.0</td>\n",
       "      <td>20472.0</td>\n",
       "      <td>3249755.2</td>\n",
       "      <td>22061.0</td>\n",
       "    </tr>\n",
       "    <tr>\n",
       "      <th>1</th>\n",
       "      <td>General Medical</td>\n",
       "      <td>567517.0</td>\n",
       "      <td>1950</td>\n",
       "      <td>100</td>\n",
       "      <td>352.7</td>\n",
       "      <td>1255514.1</td>\n",
       "      <td>18295844.6</td>\n",
       "      <td>9574.0</td>\n",
       "    </tr>\n",
       "    <tr>\n",
       "      <th>2</th>\n",
       "      <td>Multifamily</td>\n",
       "      <td>321464.0</td>\n",
       "      <td>1939</td>\n",
       "      <td>100</td>\n",
       "      <td>76.2</td>\n",
       "      <td>8906.3</td>\n",
       "      <td>1121931.8</td>\n",
       "      <td>5915.6</td>\n",
       "    </tr>\n",
       "    <tr>\n",
       "      <th>3</th>\n",
       "      <td>Multifamily</td>\n",
       "      <td>54913.0</td>\n",
       "      <td>1911</td>\n",
       "      <td>100</td>\n",
       "      <td>17.9</td>\n",
       "      <td>601.0</td>\n",
       "      <td>262377.2</td>\n",
       "      <td>231.9</td>\n",
       "    </tr>\n",
       "    <tr>\n",
       "      <th>4</th>\n",
       "      <td>Multifamily</td>\n",
       "      <td>535632.0</td>\n",
       "      <td>1964</td>\n",
       "      <td>100</td>\n",
       "      <td>115.9</td>\n",
       "      <td>631631.4</td>\n",
       "      <td>1620.0</td>\n",
       "      <td>8984.2</td>\n",
       "    </tr>\n",
       "  </tbody>\n",
       "</table>\n",
       "</div>"
      ],
      "text/plain": [
       "             ptype  floora_plan  year  occ  site_EUI  n_site_gas  n_site_elec  \\\n",
       "0      Multifamily     412503.0  1903  100      32.0     20472.0    3249755.2   \n",
       "1  General Medical     567517.0  1950  100     352.7   1255514.1   18295844.6   \n",
       "2      Multifamily     321464.0  1939  100      76.2      8906.3    1121931.8   \n",
       "3      Multifamily      54913.0  1911  100      17.9       601.0     262377.2   \n",
       "4      Multifamily     535632.0  1964  100     115.9    631631.4       1620.0   \n",
       "\n",
       "   water_use  \n",
       "0    22061.0  \n",
       "1     9574.0  \n",
       "2     5915.6  \n",
       "3      231.9  \n",
       "4     8984.2  "
      ]
     },
     "execution_count": 695,
     "metadata": {},
     "output_type": "execute_result"
    }
   ],
   "source": [
    "dataset = 'data/com.csv'\n",
    "columns = ['ptype', 'floora_plan', 'year', 'occ', 'site_EUI', 'n_site_gas','n_site_elec', 'water_use']\n",
    "\n",
    "# columns = ['ptype', 'year', 'occ','site_EUI', 'n_site_gas','n_site_elec','water_use']\n",
    "building = pd.read_csv(dataset, sep=',', usecols=columns)\n",
    "\n",
    "building = building[(building != 0).all(1)]\n",
    "building.head(5)"
   ]
  },
  {
   "cell_type": "code",
   "execution_count": null,
   "metadata": {},
   "outputs": [],
   "source": []
  },
  {
   "cell_type": "code",
   "execution_count": 696,
   "metadata": {},
   "outputs": [
    {
     "name": "stdout",
     "output_type": "stream",
     "text": [
      "<class 'pandas.core.frame.DataFrame'>\n",
      "Int64Index: 6449 entries, 0 to 6528\n",
      "Data columns (total 8 columns):\n",
      "ptype          6449 non-null object\n",
      "floora_plan    6449 non-null float64\n",
      "year           6449 non-null int64\n",
      "occ            6449 non-null int64\n",
      "site_EUI       6449 non-null float64\n",
      "n_site_gas     6449 non-null float64\n",
      "n_site_elec    6449 non-null float64\n",
      "water_use      6449 non-null float64\n",
      "dtypes: float64(5), int64(2), object(1)\n",
      "memory usage: 453.4+ KB\n"
     ]
    }
   ],
   "source": [
    "building.info()"
   ]
  },
  {
   "cell_type": "code",
   "execution_count": 697,
   "metadata": {},
   "outputs": [
    {
     "data": {
      "text/html": [
       "<div>\n",
       "<style scoped>\n",
       "    .dataframe tbody tr th:only-of-type {\n",
       "        vertical-align: middle;\n",
       "    }\n",
       "\n",
       "    .dataframe tbody tr th {\n",
       "        vertical-align: top;\n",
       "    }\n",
       "\n",
       "    .dataframe thead th {\n",
       "        text-align: right;\n",
       "    }\n",
       "</style>\n",
       "<table border=\"1\" class=\"dataframe\">\n",
       "  <thead>\n",
       "    <tr style=\"text-align: right;\">\n",
       "      <th></th>\n",
       "      <th>floora_plan</th>\n",
       "      <th>year</th>\n",
       "      <th>occ</th>\n",
       "      <th>site_EUI</th>\n",
       "      <th>n_site_gas</th>\n",
       "      <th>n_site_elec</th>\n",
       "      <th>water_use</th>\n",
       "    </tr>\n",
       "  </thead>\n",
       "  <tbody>\n",
       "    <tr>\n",
       "      <th>count</th>\n",
       "      <td>6.449000e+03</td>\n",
       "      <td>6449.000000</td>\n",
       "      <td>6449.000000</td>\n",
       "      <td>6449.000000</td>\n",
       "      <td>6.449000e+03</td>\n",
       "      <td>6.449000e+03</td>\n",
       "      <td>6.449000e+03</td>\n",
       "    </tr>\n",
       "    <tr>\n",
       "      <th>mean</th>\n",
       "      <td>1.367164e+05</td>\n",
       "      <td>1949.632036</td>\n",
       "      <td>99.317724</td>\n",
       "      <td>262.949884</td>\n",
       "      <td>1.498865e+05</td>\n",
       "      <td>1.462108e+06</td>\n",
       "      <td>1.609998e+04</td>\n",
       "    </tr>\n",
       "    <tr>\n",
       "      <th>std</th>\n",
       "      <td>1.710561e+05</td>\n",
       "      <td>30.898080</td>\n",
       "      <td>3.950845</td>\n",
       "      <td>10965.069312</td>\n",
       "      <td>6.659767e+06</td>\n",
       "      <td>9.344539e+06</td>\n",
       "      <td>1.579409e+05</td>\n",
       "    </tr>\n",
       "    <tr>\n",
       "      <th>min</th>\n",
       "      <td>5.000000e+02</td>\n",
       "      <td>1649.000000</td>\n",
       "      <td>5.000000</td>\n",
       "      <td>2.100000</td>\n",
       "      <td>3.000000e-01</td>\n",
       "      <td>4.400000e+01</td>\n",
       "      <td>1.000000e-01</td>\n",
       "    </tr>\n",
       "    <tr>\n",
       "      <th>25%</th>\n",
       "      <td>6.462200e+04</td>\n",
       "      <td>1927.000000</td>\n",
       "      <td>100.000000</td>\n",
       "      <td>64.600000</td>\n",
       "      <td>1.324140e+04</td>\n",
       "      <td>2.889300e+05</td>\n",
       "      <td>2.735300e+03</td>\n",
       "    </tr>\n",
       "    <tr>\n",
       "      <th>50%</th>\n",
       "      <td>8.701600e+04</td>\n",
       "      <td>1941.000000</td>\n",
       "      <td>100.000000</td>\n",
       "      <td>79.300000</td>\n",
       "      <td>4.429540e+04</td>\n",
       "      <td>4.860384e+05</td>\n",
       "      <td>4.816000e+03</td>\n",
       "    </tr>\n",
       "    <tr>\n",
       "      <th>75%</th>\n",
       "      <td>1.387270e+05</td>\n",
       "      <td>1967.000000</td>\n",
       "      <td>100.000000</td>\n",
       "      <td>96.800000</td>\n",
       "      <td>7.183580e+04</td>\n",
       "      <td>1.057218e+06</td>\n",
       "      <td>8.033300e+03</td>\n",
       "    </tr>\n",
       "    <tr>\n",
       "      <th>max</th>\n",
       "      <td>2.376683e+06</td>\n",
       "      <td>2019.000000</td>\n",
       "      <td>100.000000</td>\n",
       "      <td>869265.000000</td>\n",
       "      <td>5.344590e+08</td>\n",
       "      <td>4.520236e+08</td>\n",
       "      <td>6.594604e+06</td>\n",
       "    </tr>\n",
       "  </tbody>\n",
       "</table>\n",
       "</div>"
      ],
      "text/plain": [
       "        floora_plan         year          occ       site_EUI    n_site_gas  \\\n",
       "count  6.449000e+03  6449.000000  6449.000000    6449.000000  6.449000e+03   \n",
       "mean   1.367164e+05  1949.632036    99.317724     262.949884  1.498865e+05   \n",
       "std    1.710561e+05    30.898080     3.950845   10965.069312  6.659767e+06   \n",
       "min    5.000000e+02  1649.000000     5.000000       2.100000  3.000000e-01   \n",
       "25%    6.462200e+04  1927.000000   100.000000      64.600000  1.324140e+04   \n",
       "50%    8.701600e+04  1941.000000   100.000000      79.300000  4.429540e+04   \n",
       "75%    1.387270e+05  1967.000000   100.000000      96.800000  7.183580e+04   \n",
       "max    2.376683e+06  2019.000000   100.000000  869265.000000  5.344590e+08   \n",
       "\n",
       "        n_site_elec     water_use  \n",
       "count  6.449000e+03  6.449000e+03  \n",
       "mean   1.462108e+06  1.609998e+04  \n",
       "std    9.344539e+06  1.579409e+05  \n",
       "min    4.400000e+01  1.000000e-01  \n",
       "25%    2.889300e+05  2.735300e+03  \n",
       "50%    4.860384e+05  4.816000e+03  \n",
       "75%    1.057218e+06  8.033300e+03  \n",
       "max    4.520236e+08  6.594604e+06  "
      ]
     },
     "execution_count": 697,
     "metadata": {},
     "output_type": "execute_result"
    }
   ],
   "source": [
    "building.describe()"
   ]
  },
  {
   "cell_type": "markdown",
   "metadata": {},
   "source": [
    "#### Data cleanup\n",
    "___"
   ]
  },
  {
   "cell_type": "code",
   "execution_count": 698,
   "metadata": {},
   "outputs": [
    {
     "data": {
      "text/plain": [
       "<matplotlib.axes._subplots.AxesSubplot at 0x15230148be0>"
      ]
     },
     "execution_count": 698,
     "metadata": {},
     "output_type": "execute_result"
    },
    {
     "data": {
      "image/png": "[encoded data removed]",
      "text/plain": [
       "<Figure size 1152x432 with 1 Axes>"
      ]
     },
     "metadata": {
      "needs_background": "light"
     },
     "output_type": "display_data"
    }
   ],
   "source": [
    "plt.figure(figsize=(16,6))\n",
    "\n",
    "sns.heatmap(building.isnull(), yticklabels=False, cbar=False, cmap='viridis')\n",
    "# plt.show()"
   ]
  },
  {
   "cell_type": "code",
   "execution_count": 699,
   "metadata": {},
   "outputs": [
    {
     "data": {
      "text/html": [
       "<div>\n",
       "<style scoped>\n",
       "    .dataframe tbody tr th:only-of-type {\n",
       "        vertical-align: middle;\n",
       "    }\n",
       "\n",
       "    .dataframe tbody tr th {\n",
       "        vertical-align: top;\n",
       "    }\n",
       "\n",
       "    .dataframe thead th {\n",
       "        text-align: right;\n",
       "    }\n",
       "</style>\n",
       "<table border=\"1\" class=\"dataframe\">\n",
       "  <thead>\n",
       "    <tr style=\"text-align: right;\">\n",
       "      <th></th>\n",
       "      <th>ptype</th>\n",
       "      <th>floora_plan</th>\n",
       "      <th>year</th>\n",
       "      <th>occ</th>\n",
       "      <th>site_EUI</th>\n",
       "      <th>n_site_gas</th>\n",
       "      <th>n_site_elec</th>\n",
       "      <th>water_use</th>\n",
       "    </tr>\n",
       "  </thead>\n",
       "  <tbody>\n",
       "    <tr>\n",
       "      <th>0</th>\n",
       "      <td>Multifamily</td>\n",
       "      <td>412503.0</td>\n",
       "      <td>1903</td>\n",
       "      <td>100</td>\n",
       "      <td>32.0</td>\n",
       "      <td>20472.0</td>\n",
       "      <td>3249755.2</td>\n",
       "      <td>22061.0</td>\n",
       "    </tr>\n",
       "    <tr>\n",
       "      <th>1</th>\n",
       "      <td>General Medical</td>\n",
       "      <td>567517.0</td>\n",
       "      <td>1950</td>\n",
       "      <td>100</td>\n",
       "      <td>352.7</td>\n",
       "      <td>1255514.1</td>\n",
       "      <td>18295844.6</td>\n",
       "      <td>9574.0</td>\n",
       "    </tr>\n",
       "    <tr>\n",
       "      <th>2</th>\n",
       "      <td>Multifamily</td>\n",
       "      <td>321464.0</td>\n",
       "      <td>1939</td>\n",
       "      <td>100</td>\n",
       "      <td>76.2</td>\n",
       "      <td>8906.3</td>\n",
       "      <td>1121931.8</td>\n",
       "      <td>5915.6</td>\n",
       "    </tr>\n",
       "    <tr>\n",
       "      <th>3</th>\n",
       "      <td>Multifamily</td>\n",
       "      <td>54913.0</td>\n",
       "      <td>1911</td>\n",
       "      <td>100</td>\n",
       "      <td>17.9</td>\n",
       "      <td>601.0</td>\n",
       "      <td>262377.2</td>\n",
       "      <td>231.9</td>\n",
       "    </tr>\n",
       "    <tr>\n",
       "      <th>4</th>\n",
       "      <td>Multifamily</td>\n",
       "      <td>535632.0</td>\n",
       "      <td>1964</td>\n",
       "      <td>100</td>\n",
       "      <td>115.9</td>\n",
       "      <td>631631.4</td>\n",
       "      <td>1620.0</td>\n",
       "      <td>8984.2</td>\n",
       "    </tr>\n",
       "  </tbody>\n",
       "</table>\n",
       "</div>"
      ],
      "text/plain": [
       "             ptype  floora_plan  year  occ  site_EUI  n_site_gas  n_site_elec  \\\n",
       "0      Multifamily     412503.0  1903  100      32.0     20472.0    3249755.2   \n",
       "1  General Medical     567517.0  1950  100     352.7   1255514.1   18295844.6   \n",
       "2      Multifamily     321464.0  1939  100      76.2      8906.3    1121931.8   \n",
       "3      Multifamily      54913.0  1911  100      17.9       601.0     262377.2   \n",
       "4      Multifamily     535632.0  1964  100     115.9    631631.4       1620.0   \n",
       "\n",
       "   water_use  \n",
       "0    22061.0  \n",
       "1     9574.0  \n",
       "2     5915.6  \n",
       "3      231.9  \n",
       "4     8984.2  "
      ]
     },
     "execution_count": 699,
     "metadata": {},
     "output_type": "execute_result"
    }
   ],
   "source": [
    "building.dropna(axis='columns', how='all', inplace=True)\n",
    "building.dropna(inplace=True)\n",
    "building.head()"
   ]
  },
  {
   "cell_type": "code",
   "execution_count": 700,
   "metadata": {},
   "outputs": [
    {
     "data": {
      "text/plain": [
       "<matplotlib.axes._subplots.AxesSubplot at 0x1523014feb8>"
      ]
     },
     "execution_count": 700,
     "metadata": {},
     "output_type": "execute_result"
    },
    {
     "data": {
      "image/png": "[encoded data removed]",
      "text/plain": [
       "<Figure size 1152x432 with 1 Axes>"
      ]
     },
     "metadata": {
      "needs_background": "light"
     },
     "output_type": "display_data"
    }
   ],
   "source": [
    "plt.figure(figsize=(16,6))\n",
    "\n",
    "sns.heatmap(building.isnull(), yticklabels=False, cbar=False, cmap='viridis')\n",
    "# plt.show()"
   ]
  },
  {
   "cell_type": "markdown",
   "metadata": {},
   "source": [
    "#### Correlations\n",
    "___"
   ]
  },
  {
   "cell_type": "code",
   "execution_count": 701,
   "metadata": {},
   "outputs": [
    {
     "data": {
      "text/plain": [
       "<matplotlib.axes._subplots.AxesSubplot at 0x15230b66748>"
      ]
     },
     "execution_count": 701,
     "metadata": {},
     "output_type": "execute_result"
    },
    {
     "data": {
      "image/png": "[encoded data removed]",
      "text/plain": [
       "<Figure size 1728x864 with 2 Axes>"
      ]
     },
     "metadata": {
      "needs_background": "light"
     },
     "output_type": "display_data"
    }
   ],
   "source": [
    "plt.figure(figsize=(24,12))\n",
    "\n",
    "sns.heatmap(building.corr(), annot=True, annot_kws={\"size\": 7}, cmap='YlGnBu')\n",
    "# plt.show()"
   ]
  },
  {
   "cell_type": "markdown",
   "metadata": {},
   "source": [
    "#### Distributions\n",
    "___"
   ]
  },
  {
   "cell_type": "code",
   "execution_count": 702,
   "metadata": {},
   "outputs": [],
   "source": [
    "# sns.distplot(building['site_EUI'], kde=False, bins=50)"
   ]
  },
  {
   "cell_type": "code",
   "execution_count": 703,
   "metadata": {},
   "outputs": [],
   "source": [
    "# sns.pairplot(building, palette='coolwarm')"
   ]
  },
  {
   "cell_type": "code",
   "execution_count": 704,
   "metadata": {},
   "outputs": [],
   "source": [
    "# sns.jointplot(x='n_site_elec', y='site_EUI', data=building, kind='reg')"
   ]
  },
  {
   "cell_type": "markdown",
   "metadata": {},
   "source": [
    "#### Handle Dummy's\n",
    "___"
   ]
  },
  {
   "cell_type": "code",
   "execution_count": 705,
   "metadata": {},
   "outputs": [],
   "source": [
    "dummy = pd.get_dummies(building['ptype'])\n",
    "\n",
    "building = pd.concat([building, dummy], axis=1)\n",
    "\n",
    "df_X = building.copy(deep=True)\n",
    "df_X.drop(['site_EUI', 'ptype'],axis='columns', inplace=True)\n",
    "\n",
    "df_Y = building['site_EUI'].copy(deep=True)"
   ]
  },
  {
   "cell_type": "code",
   "execution_count": 706,
   "metadata": {},
   "outputs": [],
   "source": [
    "#pd.get_dummies(building['ptype']).values[:,1:].shape"
   ]
  },
  {
   "cell_type": "code",
   "execution_count": 707,
   "metadata": {},
   "outputs": [
    {
     "data": {
      "text/plain": [
       "Index(['floora_plan', 'year', 'occ', 'n_site_gas', 'n_site_elec', 'water_use',\n",
       "       'Education', 'Entertainment', 'Facility', 'Food Service',\n",
       "       'General Medical', 'Hotel', 'Multifamily', 'Office', 'Other', 'Parking',\n",
       "       'Retail'],\n",
       "      dtype='object')"
      ]
     },
     "execution_count": 707,
     "metadata": {},
     "output_type": "execute_result"
    }
   ],
   "source": [
    "df_X.columns"
   ]
  },
  {
   "cell_type": "markdown",
   "metadata": {},
   "source": [
    "#### Define X, Y variables\n",
    "___"
   ]
  },
  {
   "cell_type": "code",
   "execution_count": 708,
   "metadata": {},
   "outputs": [],
   "source": [
    "#x_columns = ['ptype', 'floor_area', 'build_year', 'occupy', 'star', 'ngas', 'water_use']\n",
    "#y_columns = ['site_eui']\n",
    "\n",
    "#X = building[x_columns].values\n",
    "#Y = building[y_columns].values\n",
    "\n",
    "X = df_X.values\n",
    "Y = df_Y.values"
   ]
  },
  {
   "cell_type": "code",
   "execution_count": 709,
   "metadata": {},
   "outputs": [
    {
     "name": "stdout",
     "output_type": "stream",
     "text": [
      "(6449, 17) (6449,)\n"
     ]
    }
   ],
   "source": [
    "print (X.shape, Y.shape)"
   ]
  },
  {
   "cell_type": "code",
   "execution_count": 710,
   "metadata": {},
   "outputs": [
    {
     "name": "stdout",
     "output_type": "stream",
     "text": [
      "[[4.12503e+05 1.90300e+03 1.00000e+02 ... 0.00000e+00 0.00000e+00\n",
      "  0.00000e+00]\n",
      " [5.67517e+05 1.95000e+03 1.00000e+02 ... 0.00000e+00 0.00000e+00\n",
      "  0.00000e+00]\n",
      " [3.21464e+05 1.93900e+03 1.00000e+02 ... 0.00000e+00 0.00000e+00\n",
      "  0.00000e+00]\n",
      " ...\n",
      " [9.35000e+04 1.92600e+03 1.00000e+02 ... 0.00000e+00 0.00000e+00\n",
      "  0.00000e+00]\n",
      " [6.07150e+04 1.92800e+03 1.00000e+02 ... 0.00000e+00 0.00000e+00\n",
      "  0.00000e+00]\n",
      " [5.35370e+04 2.00600e+03 9.50000e+01 ... 0.00000e+00 0.00000e+00\n",
      "  0.00000e+00]]\n"
     ]
    }
   ],
   "source": [
    "print (X)"
   ]
  },
  {
   "cell_type": "markdown",
   "metadata": {},
   "source": [
    "#### Label Encoding\n",
    "___"
   ]
  },
  {
   "cell_type": "code",
   "execution_count": 711,
   "metadata": {},
   "outputs": [],
   "source": [
    "#building['ptype'].unique()"
   ]
  },
  {
   "cell_type": "code",
   "execution_count": 712,
   "metadata": {},
   "outputs": [],
   "source": [
    "#building['ptype'].nunique()"
   ]
  },
  {
   "cell_type": "code",
   "execution_count": 713,
   "metadata": {},
   "outputs": [],
   "source": [
    "#label_encoder_ptype = LabelEncoder()\n",
    "#X[:, 0] = label_encoder_ptype.fit_transform(building['ptype'])\n",
    "\n",
    "\n",
    "#label_hotencoder_ptype = OneHotEncoder(categorical_features = [0])\n",
    "#X = label_hotencoder_ptype.fit_transform(X).toarray()\n",
    "\n",
    "#print(X)\n",
    "\n",
    "#np.unique(label_encoder_ptype.fit_transform(building['ptype']))\n",
    "#label_hotencoder_ptype.fit_transform(X)\n"
   ]
  },
  {
   "cell_type": "markdown",
   "metadata": {},
   "source": [
    "### Avoiding the Dummy Variable Trap\n",
    "____\n"
   ]
  },
  {
   "cell_type": "code",
   "execution_count": 714,
   "metadata": {},
   "outputs": [
    {
     "data": {
      "text/plain": [
       "(6449, 17)"
      ]
     },
     "execution_count": 714,
     "metadata": {},
     "output_type": "execute_result"
    }
   ],
   "source": [
    "X.shape"
   ]
  },
  {
   "cell_type": "code",
   "execution_count": 715,
   "metadata": {},
   "outputs": [
    {
     "data": {
      "text/plain": [
       "(6449, 16)"
      ]
     },
     "execution_count": 715,
     "metadata": {},
     "output_type": "execute_result"
    }
   ],
   "source": [
    "#X = X[:, 1:]\n",
    "\n",
    "X = X[:,:-1]\n",
    "\n",
    "X.shape"
   ]
  },
  {
   "cell_type": "markdown",
   "metadata": {},
   "source": [
    "#### Split dataset (TRAIN/TEST) data\n",
    "____"
   ]
  },
  {
   "cell_type": "code",
   "execution_count": 716,
   "metadata": {},
   "outputs": [],
   "source": [
    "#no floor plan\n",
    "# X_train, X_test, Y_train, Y_test = train_test_split(X, Y, test_size = 0.3,random_state = 10)\n",
    "#with floor plan\n",
    "X_train, X_test, Y_train, Y_test = train_test_split(X, Y, test_size = 0.3,random_state = 89)\n"
   ]
  },
  {
   "cell_type": "code",
   "execution_count": 717,
   "metadata": {},
   "outputs": [
    {
     "data": {
      "text/plain": [
       "LinearRegression(copy_X=True, fit_intercept=True, n_jobs=None,\n",
       "         normalize=False)"
      ]
     },
     "execution_count": 717,
     "metadata": {},
     "output_type": "execute_result"
    }
   ],
   "source": [
    "regressor = LinearRegression() \n",
    "regressor.fit(X_train, Y_train)"
   ]
  },
  {
   "cell_type": "markdown",
   "metadata": {},
   "source": [
    "#### Fitting Simple Linear Regression to the Training Set\n",
    "_____"
   ]
  },
  {
   "cell_type": "code",
   "execution_count": 718,
   "metadata": {},
   "outputs": [],
   "source": [
    "y_prediction = regressor.predict(X_test)"
   ]
  },
  {
   "cell_type": "markdown",
   "metadata": {},
   "source": [
    "#### Real x Predict\n",
    "_____"
   ]
  },
  {
   "cell_type": "code",
   "execution_count": 719,
   "metadata": {},
   "outputs": [],
   "source": [
    "final_df = pd.DataFrame({\n",
    "    'Real' : Y_test,\n",
    "    'Predict' : y_prediction\n",
    "\n",
    "})"
   ]
  },
  {
   "cell_type": "code",
   "execution_count": 720,
   "metadata": {},
   "outputs": [],
   "source": [
    "final_df.to_csv(r'LR_withFloorPlan_Real_Prediction.csv',index=False)"
   ]
  },
  {
   "cell_type": "markdown",
   "metadata": {},
   "source": [
    "#### Model Score\n",
    "__________"
   ]
  },
  {
   "cell_type": "code",
   "execution_count": 721,
   "metadata": {},
   "outputs": [
    {
     "name": "stdout",
     "output_type": "stream",
     "text": [
      "Training Data Score: 0.975863921094919\n",
      "Testing Data Score: 0.3523174705792973\n"
     ]
    }
   ],
   "source": [
    "print(f\"Training Data Score: {regressor.score(X_train, Y_train)}\")\n",
    "print(f\"Testing Data Score: {regressor.score(X_test, Y_test)}\")"
   ]
  },
  {
   "cell_type": "markdown",
   "metadata": {},
   "source": [
    "### Correlation\n",
    "___"
   ]
  },
  {
   "cell_type": "code",
   "execution_count": 722,
   "metadata": {},
   "outputs": [
    {
     "name": "stdout",
     "output_type": "stream",
     "text": [
      "-129.74246335889865\n"
     ]
    }
   ],
   "source": [
    "print (regressor.intercept_)"
   ]
  },
  {
   "cell_type": "code",
   "execution_count": 723,
   "metadata": {},
   "outputs": [
    {
     "data": {
      "text/plain": [
       "array([-1.09323409e-03,  3.79911094e-01, -5.64489369e+00,  1.62600564e-03,\n",
       "        4.37843243e-05, -4.70002421e-05,  4.51875005e+01,  4.77753123e+01,\n",
       "        1.40947248e+01,  6.25277607e-13, -2.35814086e+02,  5.87718893e+02,\n",
       "        6.15865328e+01,  7.88605385e+01, -1.85867761e+01,  2.83810556e+02])"
      ]
     },
     "execution_count": 723,
     "metadata": {},
     "output_type": "execute_result"
    }
   ],
   "source": [
    "regressor.coef_"
   ]
  },
  {
   "cell_type": "code",
   "execution_count": 724,
   "metadata": {},
   "outputs": [],
   "source": [
    "# coeff_df = pd.DataFrame(regressor.coef_,X.columns,columns=['Coefficient'])\n",
    "# coeff_df"
   ]
  },
  {
   "cell_type": "markdown",
   "metadata": {},
   "source": [
    "### Backward Elimination\n",
    "___"
   ]
  },
  {
   "cell_type": "code",
   "execution_count": 725,
   "metadata": {},
   "outputs": [],
   "source": [
    "X = np.append(arr = np.ones((len(X), 1)).astype(int), values = X, axis =1)"
   ]
  },
  {
   "cell_type": "code",
   "execution_count": 726,
   "metadata": {},
   "outputs": [],
   "source": [
    "X_optimized = X[:, [0, 1, 2, 3, 4, 5]]\n",
    "\n",
    "significante_level = 0.05\n",
    "\n",
    "regressor_OLS = sm.OLS(endog = Y, exog = X_optimized).fit()"
   ]
  },
  {
   "cell_type": "code",
   "execution_count": null,
   "metadata": {},
   "outputs": [],
   "source": []
  },
  {
   "cell_type": "code",
   "execution_count": null,
   "metadata": {},
   "outputs": [],
   "source": []
  }
 ],
 "metadata": {
  "kernelspec": {
   "display_name": "Python 3",
   "language": "python",
   "name": "python3"
  },
  "language_info": {
   "codemirror_mode": {
    "name": "ipython",
    "version": 3
   },
   "file_extension": ".py",
   "mimetype": "text/x-python",
   "name": "python",
   "nbconvert_exporter": "python",
   "pygments_lexer": "ipython3",
   "version": "3.7.1"
  }
 },
 "nbformat": 4,
 "nbformat_minor": 2
}
