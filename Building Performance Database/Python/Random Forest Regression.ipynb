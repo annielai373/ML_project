{
 "cells": [
  {
   "cell_type": "markdown",
   "metadata": {},
   "source": [
    "# Random Forest Regression\n",
    "____"
   ]
  },
  {
   "cell_type": "markdown",
   "metadata": {},
   "source": [
    "#### Libraries\n",
    "____"
   ]
  },
  {
   "cell_type": "code",
   "execution_count": 54,
   "metadata": {},
   "outputs": [],
   "source": [
    "import numpy as np\n",
    "import matplotlib.pyplot as plt\n",
    "import pandas as pd\n",
    "import seaborn as sns\n",
    "\n",
    "from sklearn.model_selection import train_test_split \n",
    "from sklearn.preprocessing import StandardScaler\n",
    "\n",
    "from sklearn.preprocessing import LabelEncoder\n",
    "from sklearn.preprocessing import OneHotEncoder\n",
    "from sklearn.ensemble import RandomForestRegressor\n",
    "\n",
    "import statsmodels.formula.api as sm\n",
    "from sklearn.model_selection import cross_val_score\n",
    "from sklearn import metrics\n",
    "import pickle\n",
    "\n",
    "\n",
    "%matplotlib inline"
   ]
  },
  {
   "cell_type": "markdown",
   "metadata": {},
   "source": [
    "#### Load dataset\n",
    "___"
   ]
  },
  {
   "cell_type": "code",
   "execution_count": 74,
   "metadata": {},
   "outputs": [
    {
     "data": {
      "text/html": [
       "<div>\n",
       "<style scoped>\n",
       "    .dataframe tbody tr th:only-of-type {\n",
       "        vertical-align: middle;\n",
       "    }\n",
       "\n",
       "    .dataframe tbody tr th {\n",
       "        vertical-align: top;\n",
       "    }\n",
       "\n",
       "    .dataframe thead th {\n",
       "        text-align: right;\n",
       "    }\n",
       "</style>\n",
       "<table border=\"1\" class=\"dataframe\">\n",
       "  <thead>\n",
       "    <tr style=\"text-align: right;\">\n",
       "      <th></th>\n",
       "      <th>ptype</th>\n",
       "      <th>floora_plan</th>\n",
       "      <th>year</th>\n",
       "      <th>occ</th>\n",
       "      <th>site_EUI</th>\n",
       "      <th>n_site_gas</th>\n",
       "      <th>n_site_elec</th>\n",
       "      <th>water_use</th>\n",
       "    </tr>\n",
       "  </thead>\n",
       "  <tbody>\n",
       "    <tr>\n",
       "      <th>0</th>\n",
       "      <td>Multifamily</td>\n",
       "      <td>412503.0</td>\n",
       "      <td>1903</td>\n",
       "      <td>100</td>\n",
       "      <td>32.0</td>\n",
       "      <td>20472.0</td>\n",
       "      <td>3249755.2</td>\n",
       "      <td>22061.0</td>\n",
       "    </tr>\n",
       "    <tr>\n",
       "      <th>1</th>\n",
       "      <td>General Medical</td>\n",
       "      <td>567517.0</td>\n",
       "      <td>1950</td>\n",
       "      <td>100</td>\n",
       "      <td>352.7</td>\n",
       "      <td>1255514.1</td>\n",
       "      <td>18295844.6</td>\n",
       "      <td>9574.0</td>\n",
       "    </tr>\n",
       "    <tr>\n",
       "      <th>2</th>\n",
       "      <td>Multifamily</td>\n",
       "      <td>321464.0</td>\n",
       "      <td>1939</td>\n",
       "      <td>100</td>\n",
       "      <td>76.2</td>\n",
       "      <td>8906.3</td>\n",
       "      <td>1121931.8</td>\n",
       "      <td>5915.6</td>\n",
       "    </tr>\n",
       "    <tr>\n",
       "      <th>3</th>\n",
       "      <td>Multifamily</td>\n",
       "      <td>54913.0</td>\n",
       "      <td>1911</td>\n",
       "      <td>100</td>\n",
       "      <td>17.9</td>\n",
       "      <td>601.0</td>\n",
       "      <td>262377.2</td>\n",
       "      <td>231.9</td>\n",
       "    </tr>\n",
       "    <tr>\n",
       "      <th>4</th>\n",
       "      <td>Multifamily</td>\n",
       "      <td>535632.0</td>\n",
       "      <td>1964</td>\n",
       "      <td>100</td>\n",
       "      <td>115.9</td>\n",
       "      <td>631631.4</td>\n",
       "      <td>1620.0</td>\n",
       "      <td>8984.2</td>\n",
       "    </tr>\n",
       "  </tbody>\n",
       "</table>\n",
       "</div>"
      ],
      "text/plain": [
       "             ptype  floora_plan  year  occ  site_EUI  n_site_gas  n_site_elec  \\\n",
       "0      Multifamily     412503.0  1903  100      32.0     20472.0    3249755.2   \n",
       "1  General Medical     567517.0  1950  100     352.7   1255514.1   18295844.6   \n",
       "2      Multifamily     321464.0  1939  100      76.2      8906.3    1121931.8   \n",
       "3      Multifamily      54913.0  1911  100      17.9       601.0     262377.2   \n",
       "4      Multifamily     535632.0  1964  100     115.9    631631.4       1620.0   \n",
       "\n",
       "   water_use  \n",
       "0    22061.0  \n",
       "1     9574.0  \n",
       "2     5915.6  \n",
       "3      231.9  \n",
       "4     8984.2  "
      ]
     },
     "execution_count": 74,
     "metadata": {},
     "output_type": "execute_result"
    }
   ],
   "source": [
    "dataset = 'data/com.csv'\n",
    "# building = pd.read_csv(dataset)\n",
    "# building.head(5)\n",
    "columns = ['ptype', 'floora_plan', 'year', 'occ', 'site_EUI', 'n_site_gas','n_site_elec', 'water_use']\n",
    "# columns = ['ptype', 'year', 'occ','site_EUI', 'n_site_gas','n_site_elec','water_use']\n",
    "building = pd.read_csv(dataset, sep=',', usecols=columns)\n",
    "\n",
    "building = building[(building != 0).all(1)]\n",
    "building.head(5)"
   ]
  },
  {
   "cell_type": "code",
   "execution_count": 75,
   "metadata": {},
   "outputs": [],
   "source": [
    "# building.info()"
   ]
  },
  {
   "cell_type": "code",
   "execution_count": 76,
   "metadata": {},
   "outputs": [],
   "source": [
    "# building.describe()"
   ]
  },
  {
   "cell_type": "markdown",
   "metadata": {},
   "source": [
    "#### Converting Categorical Features\n",
    "___"
   ]
  },
  {
   "cell_type": "code",
   "execution_count": 77,
   "metadata": {},
   "outputs": [
    {
     "data": {
      "text/html": [
       "<div>\n",
       "<style scoped>\n",
       "    .dataframe tbody tr th:only-of-type {\n",
       "        vertical-align: middle;\n",
       "    }\n",
       "\n",
       "    .dataframe tbody tr th {\n",
       "        vertical-align: top;\n",
       "    }\n",
       "\n",
       "    .dataframe thead th {\n",
       "        text-align: right;\n",
       "    }\n",
       "</style>\n",
       "<table border=\"1\" class=\"dataframe\">\n",
       "  <thead>\n",
       "    <tr style=\"text-align: right;\">\n",
       "      <th></th>\n",
       "      <th>Entertainment</th>\n",
       "      <th>Facility</th>\n",
       "      <th>Food Service</th>\n",
       "      <th>General Medical</th>\n",
       "      <th>Hotel</th>\n",
       "      <th>Multifamily</th>\n",
       "      <th>Office</th>\n",
       "      <th>Other</th>\n",
       "      <th>Parking</th>\n",
       "      <th>Retail</th>\n",
       "      <th>floora_plan</th>\n",
       "      <th>year</th>\n",
       "      <th>occ</th>\n",
       "      <th>site_EUI</th>\n",
       "      <th>n_site_gas</th>\n",
       "      <th>n_site_elec</th>\n",
       "      <th>water_use</th>\n",
       "    </tr>\n",
       "  </thead>\n",
       "  <tbody>\n",
       "    <tr>\n",
       "      <th>0</th>\n",
       "      <td>0</td>\n",
       "      <td>0</td>\n",
       "      <td>0</td>\n",
       "      <td>0</td>\n",
       "      <td>0</td>\n",
       "      <td>1</td>\n",
       "      <td>0</td>\n",
       "      <td>0</td>\n",
       "      <td>0</td>\n",
       "      <td>0</td>\n",
       "      <td>412503.0</td>\n",
       "      <td>1903</td>\n",
       "      <td>100</td>\n",
       "      <td>32.0</td>\n",
       "      <td>20472.0</td>\n",
       "      <td>3249755.2</td>\n",
       "      <td>22061.0</td>\n",
       "    </tr>\n",
       "    <tr>\n",
       "      <th>1</th>\n",
       "      <td>0</td>\n",
       "      <td>0</td>\n",
       "      <td>0</td>\n",
       "      <td>1</td>\n",
       "      <td>0</td>\n",
       "      <td>0</td>\n",
       "      <td>0</td>\n",
       "      <td>0</td>\n",
       "      <td>0</td>\n",
       "      <td>0</td>\n",
       "      <td>567517.0</td>\n",
       "      <td>1950</td>\n",
       "      <td>100</td>\n",
       "      <td>352.7</td>\n",
       "      <td>1255514.1</td>\n",
       "      <td>18295844.6</td>\n",
       "      <td>9574.0</td>\n",
       "    </tr>\n",
       "    <tr>\n",
       "      <th>2</th>\n",
       "      <td>0</td>\n",
       "      <td>0</td>\n",
       "      <td>0</td>\n",
       "      <td>0</td>\n",
       "      <td>0</td>\n",
       "      <td>1</td>\n",
       "      <td>0</td>\n",
       "      <td>0</td>\n",
       "      <td>0</td>\n",
       "      <td>0</td>\n",
       "      <td>321464.0</td>\n",
       "      <td>1939</td>\n",
       "      <td>100</td>\n",
       "      <td>76.2</td>\n",
       "      <td>8906.3</td>\n",
       "      <td>1121931.8</td>\n",
       "      <td>5915.6</td>\n",
       "    </tr>\n",
       "    <tr>\n",
       "      <th>3</th>\n",
       "      <td>0</td>\n",
       "      <td>0</td>\n",
       "      <td>0</td>\n",
       "      <td>0</td>\n",
       "      <td>0</td>\n",
       "      <td>1</td>\n",
       "      <td>0</td>\n",
       "      <td>0</td>\n",
       "      <td>0</td>\n",
       "      <td>0</td>\n",
       "      <td>54913.0</td>\n",
       "      <td>1911</td>\n",
       "      <td>100</td>\n",
       "      <td>17.9</td>\n",
       "      <td>601.0</td>\n",
       "      <td>262377.2</td>\n",
       "      <td>231.9</td>\n",
       "    </tr>\n",
       "    <tr>\n",
       "      <th>4</th>\n",
       "      <td>0</td>\n",
       "      <td>0</td>\n",
       "      <td>0</td>\n",
       "      <td>0</td>\n",
       "      <td>0</td>\n",
       "      <td>1</td>\n",
       "      <td>0</td>\n",
       "      <td>0</td>\n",
       "      <td>0</td>\n",
       "      <td>0</td>\n",
       "      <td>535632.0</td>\n",
       "      <td>1964</td>\n",
       "      <td>100</td>\n",
       "      <td>115.9</td>\n",
       "      <td>631631.4</td>\n",
       "      <td>1620.0</td>\n",
       "      <td>8984.2</td>\n",
       "    </tr>\n",
       "  </tbody>\n",
       "</table>\n",
       "</div>"
      ],
      "text/plain": [
       "   Entertainment  Facility  Food Service  General Medical  Hotel  Multifamily  \\\n",
       "0              0         0             0                0      0            1   \n",
       "1              0         0             0                1      0            0   \n",
       "2              0         0             0                0      0            1   \n",
       "3              0         0             0                0      0            1   \n",
       "4              0         0             0                0      0            1   \n",
       "\n",
       "   Office  Other  Parking  Retail  floora_plan  year  occ  site_EUI  \\\n",
       "0       0      0        0       0     412503.0  1903  100      32.0   \n",
       "1       0      0        0       0     567517.0  1950  100     352.7   \n",
       "2       0      0        0       0     321464.0  1939  100      76.2   \n",
       "3       0      0        0       0      54913.0  1911  100      17.9   \n",
       "4       0      0        0       0     535632.0  1964  100     115.9   \n",
       "\n",
       "   n_site_gas  n_site_elec  water_use  \n",
       "0     20472.0    3249755.2    22061.0  \n",
       "1   1255514.1   18295844.6     9574.0  \n",
       "2      8906.3    1121931.8     5915.6  \n",
       "3       601.0     262377.2      231.9  \n",
       "4    631631.4       1620.0     8984.2  "
      ]
     },
     "execution_count": 77,
     "metadata": {},
     "output_type": "execute_result"
    }
   ],
   "source": [
    "bname_categorical = pd.get_dummies(building['ptype'])\n",
    "\n",
    "# Avoiding the Dummy Variable Trap\n",
    "bname_categorical.drop(bname_categorical.columns[0], axis=1, inplace=True)\n",
    "\n",
    "# Merge datasets\n",
    "building.drop(['ptype'], axis=1, inplace=True)\n",
    "building = pd.concat([bname_categorical, building], axis=1)\n",
    "\n",
    "building.head(5)"
   ]
  },
  {
   "cell_type": "markdown",
   "metadata": {},
   "source": [
    "#### Define X, Y variables\n",
    "___"
   ]
  },
  {
   "cell_type": "code",
   "execution_count": 78,
   "metadata": {},
   "outputs": [
    {
     "name": "stdout",
     "output_type": "stream",
     "text": [
      "(6449, 16) (6449,)\n"
     ]
    }
   ],
   "source": [
    "X = building.drop('site_EUI', axis=1)\n",
    "Y = building['site_EUI']\n",
    "\n",
    "print (X.shape, Y.shape)"
   ]
  },
  {
   "cell_type": "markdown",
   "metadata": {},
   "source": [
    "#### Split dataset (TRAIN/TEST) data\n",
    "____"
   ]
  },
  {
   "cell_type": "code",
   "execution_count": 79,
   "metadata": {},
   "outputs": [],
   "source": [
    "X_train, X_test, Y_train, Y_test = train_test_split(X, Y, test_size = 0.2, random_state = 101)"
   ]
  },
  {
   "cell_type": "markdown",
   "metadata": {},
   "source": [
    "#### Fitting model to the dataset\n",
    "____"
   ]
  },
  {
   "cell_type": "code",
   "execution_count": 80,
   "metadata": {},
   "outputs": [
    {
     "data": {
      "text/plain": [
       "RandomForestRegressor(bootstrap=True, criterion='mse', max_depth=None,\n",
       "           max_features='auto', max_leaf_nodes=None,\n",
       "           min_impurity_decrease=0.0, min_impurity_split=None,\n",
       "           min_samples_leaf=1, min_samples_split=2,\n",
       "           min_weight_fraction_leaf=0.0, n_estimators=100, n_jobs=None,\n",
       "           oob_score=False, random_state=101, verbose=0, warm_start=False)"
      ]
     },
     "execution_count": 80,
     "metadata": {},
     "output_type": "execute_result"
    }
   ],
   "source": [
    "regressor = RandomForestRegressor(n_estimators = 100, random_state = 101)\n",
    "regressor.fit(X, Y)"
   ]
  },
  {
   "cell_type": "markdown",
   "metadata": {},
   "source": [
    "#### Fitting Simple Linear Regression to the Training Set\n",
    "_____"
   ]
  },
  {
   "cell_type": "code",
   "execution_count": 81,
   "metadata": {},
   "outputs": [],
   "source": [
    "y_prediction = regressor.predict(X_test)"
   ]
  },
  {
   "cell_type": "markdown",
   "metadata": {},
   "source": [
    "### weight\n",
    "___"
   ]
  },
  {
   "cell_type": "code",
   "execution_count": 82,
   "metadata": {},
   "outputs": [
    {
     "data": {
      "text/plain": [
       "[(0.8448529924061761, 'n_site_gas'),\n",
       " (0.14211530807485698, 'n_site_elec'),\n",
       " (0.011018280341081323, 'floora_plan'),\n",
       " (0.001186546518710038, 'Hotel'),\n",
       " (0.00039083377010861586, 'water_use'),\n",
       " (0.0002678344404519974, 'year'),\n",
       " (7.075260920247117e-05, 'Multifamily'),\n",
       " (3.8709959060718786e-05, 'Facility'),\n",
       " (2.737649823195753e-05, 'Parking'),\n",
       " (1.271147918156903e-05, 'Office'),\n",
       " (9.21529171303661e-06, 'General Medical'),\n",
       " (3.0440195643457726e-06, 'occ'),\n",
       " (2.277295391964424e-06, 'Retail'),\n",
       " (2.051774663190544e-06, 'Other'),\n",
       " (1.954681110713953e-06, 'Entertainment'),\n",
       " (1.1084049520911949e-07, 'Food Service')]"
      ]
     },
     "execution_count": 82,
     "metadata": {},
     "output_type": "execute_result"
    }
   ],
   "source": [
    "# We can sort the features by their importance\n",
    "sorted(zip(regressor.feature_importances_, X_train.columns), reverse=True)"
   ]
  },
  {
   "cell_type": "code",
   "execution_count": 83,
   "metadata": {},
   "outputs": [
    {
     "data": {
      "text/html": [
       "<div>\n",
       "<style scoped>\n",
       "    .dataframe tbody tr th:only-of-type {\n",
       "        vertical-align: middle;\n",
       "    }\n",
       "\n",
       "    .dataframe tbody tr th {\n",
       "        vertical-align: top;\n",
       "    }\n",
       "\n",
       "    .dataframe thead th {\n",
       "        text-align: right;\n",
       "    }\n",
       "</style>\n",
       "<table border=\"1\" class=\"dataframe\">\n",
       "  <thead>\n",
       "    <tr style=\"text-align: right;\">\n",
       "      <th></th>\n",
       "      <th>Features</th>\n",
       "      <th>Weight</th>\n",
       "    </tr>\n",
       "  </thead>\n",
       "  <tbody>\n",
       "    <tr>\n",
       "      <th>0</th>\n",
       "      <td>Entertainment</td>\n",
       "      <td>1.954681e-06</td>\n",
       "    </tr>\n",
       "    <tr>\n",
       "      <th>1</th>\n",
       "      <td>Facility</td>\n",
       "      <td>3.870996e-05</td>\n",
       "    </tr>\n",
       "    <tr>\n",
       "      <th>2</th>\n",
       "      <td>Food Service</td>\n",
       "      <td>1.108405e-07</td>\n",
       "    </tr>\n",
       "    <tr>\n",
       "      <th>3</th>\n",
       "      <td>General Medical</td>\n",
       "      <td>9.215292e-06</td>\n",
       "    </tr>\n",
       "    <tr>\n",
       "      <th>4</th>\n",
       "      <td>Hotel</td>\n",
       "      <td>1.186547e-03</td>\n",
       "    </tr>\n",
       "    <tr>\n",
       "      <th>5</th>\n",
       "      <td>Multifamily</td>\n",
       "      <td>7.075261e-05</td>\n",
       "    </tr>\n",
       "    <tr>\n",
       "      <th>6</th>\n",
       "      <td>Office</td>\n",
       "      <td>1.271148e-05</td>\n",
       "    </tr>\n",
       "    <tr>\n",
       "      <th>7</th>\n",
       "      <td>Other</td>\n",
       "      <td>2.051775e-06</td>\n",
       "    </tr>\n",
       "    <tr>\n",
       "      <th>8</th>\n",
       "      <td>Parking</td>\n",
       "      <td>2.737650e-05</td>\n",
       "    </tr>\n",
       "    <tr>\n",
       "      <th>9</th>\n",
       "      <td>Retail</td>\n",
       "      <td>2.277295e-06</td>\n",
       "    </tr>\n",
       "    <tr>\n",
       "      <th>10</th>\n",
       "      <td>floora_plan</td>\n",
       "      <td>1.101828e-02</td>\n",
       "    </tr>\n",
       "    <tr>\n",
       "      <th>11</th>\n",
       "      <td>year</td>\n",
       "      <td>2.678344e-04</td>\n",
       "    </tr>\n",
       "    <tr>\n",
       "      <th>12</th>\n",
       "      <td>occ</td>\n",
       "      <td>3.044020e-06</td>\n",
       "    </tr>\n",
       "    <tr>\n",
       "      <th>13</th>\n",
       "      <td>n_site_gas</td>\n",
       "      <td>8.448530e-01</td>\n",
       "    </tr>\n",
       "    <tr>\n",
       "      <th>14</th>\n",
       "      <td>n_site_elec</td>\n",
       "      <td>1.421153e-01</td>\n",
       "    </tr>\n",
       "    <tr>\n",
       "      <th>15</th>\n",
       "      <td>water_use</td>\n",
       "      <td>3.908338e-04</td>\n",
       "    </tr>\n",
       "  </tbody>\n",
       "</table>\n",
       "</div>"
      ],
      "text/plain": [
       "           Features        Weight\n",
       "0     Entertainment  1.954681e-06\n",
       "1          Facility  3.870996e-05\n",
       "2      Food Service  1.108405e-07\n",
       "3   General Medical  9.215292e-06\n",
       "4             Hotel  1.186547e-03\n",
       "5       Multifamily  7.075261e-05\n",
       "6            Office  1.271148e-05\n",
       "7             Other  2.051775e-06\n",
       "8           Parking  2.737650e-05\n",
       "9            Retail  2.277295e-06\n",
       "10      floora_plan  1.101828e-02\n",
       "11             year  2.678344e-04\n",
       "12              occ  3.044020e-06\n",
       "13       n_site_gas  8.448530e-01\n",
       "14      n_site_elec  1.421153e-01\n",
       "15        water_use  3.908338e-04"
      ]
     },
     "execution_count": 83,
     "metadata": {},
     "output_type": "execute_result"
    }
   ],
   "source": [
    "final_df = pd.DataFrame({\n",
    "    'Features' : X_train.columns,\n",
    "    'Weight' : regressor.feature_importances_\n",
    "\n",
    "})\n",
    "final_df"
   ]
  },
  {
   "cell_type": "code",
   "execution_count": 84,
   "metadata": {},
   "outputs": [],
   "source": [
    "final_df.to_csv(r'FR_withFloorPlan_weight.csv',index=False)"
   ]
  },
  {
   "cell_type": "markdown",
   "metadata": {},
   "source": [
    "#### Real x Predict\n",
    "_____"
   ]
  },
  {
   "cell_type": "markdown",
   "metadata": {},
   "source": [
    "pd.DataFrame({\n",
    "    'Real' : Y_test,\n",
    "    'Predict' : y_prediction\n",
    "\n",
    "}).head(10)"
   ]
  },
  {
   "cell_type": "markdown",
   "metadata": {},
   "source": [
    "#### Model Score\n",
    "__________"
   ]
  },
  {
   "cell_type": "code",
   "execution_count": 85,
   "metadata": {},
   "outputs": [
    {
     "name": "stdout",
     "output_type": "stream",
     "text": [
      "Training Data Score: 0.8652086215293374\n",
      "Testing Data Score: 0.7721871320314099\n"
     ]
    }
   ],
   "source": [
    "print(f\"Training Data Score: {regressor.score(X_train, Y_train)}\")\n",
    "print(f\"Testing Data Score: {regressor.score(X_test, Y_test)}\")"
   ]
  },
  {
   "cell_type": "code",
   "execution_count": 86,
   "metadata": {},
   "outputs": [
    {
     "name": "stdout",
     "output_type": "stream",
     "text": [
      "MAE: 32.655756589147266\n",
      "MSE: 490477.7082378099\n",
      "RMSE: 700.341137045233\n"
     ]
    }
   ],
   "source": [
    "print('MAE:', metrics.mean_absolute_error(Y_test, y_prediction))\n",
    "print('MSE:', metrics.mean_squared_error(Y_test, y_prediction))\n",
    "print('RMSE:', np.sqrt(metrics.mean_squared_error(Y_test, y_prediction)))"
   ]
  },
  {
   "cell_type": "markdown",
   "metadata": {},
   "source": [
    "#### Applying K-Fold Cross Validation\n",
    "_____"
   ]
  },
  {
   "cell_type": "code",
   "execution_count": 68,
   "metadata": {},
   "outputs": [],
   "source": [
    "accuracies = cross_val_score(estimator = regressor, X = X_train, y = Y_train, cv = 10)"
   ]
  },
  {
   "cell_type": "code",
   "execution_count": 69,
   "metadata": {},
   "outputs": [
    {
     "name": "stdout",
     "output_type": "stream",
     "text": [
      "[-3.39992104e+00  2.94699701e-02 -8.22267281e-01 -5.98284926e+01\n",
      " -2.23714111e+01 -1.28975911e+01  9.25914545e-01 -2.69965441e-03\n",
      "  1.94658361e-02  3.61179962e-01]\n"
     ]
    }
   ],
   "source": [
    "print (accuracies)"
   ]
  },
  {
   "cell_type": "code",
   "execution_count": 70,
   "metadata": {},
   "outputs": [
    {
     "data": {
      "text/plain": [
       "-9.798635247010147"
      ]
     },
     "execution_count": 70,
     "metadata": {},
     "output_type": "execute_result"
    }
   ],
   "source": [
    "accuracies.mean()"
   ]
  },
  {
   "cell_type": "code",
   "execution_count": 71,
   "metadata": {},
   "outputs": [
    {
     "data": {
      "text/plain": [
       "18.164163890131377"
      ]
     },
     "execution_count": 71,
     "metadata": {},
     "output_type": "execute_result"
    }
   ],
   "source": [
    "accuracies.std()"
   ]
  },
  {
   "cell_type": "markdown",
   "metadata": {},
   "source": [
    "#### Save model into disk\n",
    "_____"
   ]
  },
  {
   "cell_type": "code",
   "execution_count": 72,
   "metadata": {},
   "outputs": [],
   "source": [
    "pickle.dump(regressor, open('rfr_buildings.pkl','wb'))"
   ]
  },
  {
   "cell_type": "code",
   "execution_count": null,
   "metadata": {},
   "outputs": [],
   "source": []
  }
 ],
 "metadata": {
  "kernelspec": {
   "display_name": "Python 3",
   "language": "python",
   "name": "python3"
  },
  "language_info": {
   "codemirror_mode": {
    "name": "ipython",
    "version": 3
   },
   "file_extension": ".py",
   "mimetype": "text/x-python",
   "name": "python",
   "nbconvert_exporter": "python",
   "pygments_lexer": "ipython3",
   "version": "3.7.1"
  }
 },
 "nbformat": 4,
 "nbformat_minor": 2
}
